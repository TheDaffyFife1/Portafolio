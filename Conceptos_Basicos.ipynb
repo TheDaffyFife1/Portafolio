{
  "cells": [
    {
      "cell_type": "markdown",
      "metadata": {
        "id": "YyUotjq3X95i"
      },
      "source": [
        "# Recuperación de Información (Information Retrieval)\n"
      ]
    },
    {
      "cell_type": "markdown",
      "metadata": {
        "id": "vUHo6qLLX95m"
      },
      "source": [
        "## Conceptos básicos\n",
        "\n",
        "### <u>Documentos</u>"
      ]
    },
    {
      "cell_type": "markdown",
      "metadata": {
        "id": "9ZXijmNRX95n"
      },
      "source": [
        "En nuestro curso nos limitaremos a la recuperación de información en colecciones de textos a los cuales llamaremos <b>documentos</b>\n"
      ]
    },
    {
      "cell_type": "code",
      "execution_count": null,
      "metadata": {
        "collapsed": true,
        "id": "lvbvkVmnX95n"
      },
      "outputs": [],
      "source": [
        "# algunos ejemplos de documentos básicos que pueden\n",
        "#ser representados como cadenas de caracteres\n",
        "\n",
        "d1 = \"... Las habilidades que los niños necesitan en relación\\\n",
        " con los medios digitales no se limitan a la recuperación de información ...\"\n",
        "d2 = \"... como el procesamiento de datos, el desarrollo y la recuperación de información\\\n",
        " son ejemplos de posibles áreas de cambio ...\"\n",
        "d3 = \"... la enumeración de varios nombres puede aumentar las probabilidades de recuperación ...\"\n",
        "d4 = \"... Usar estructuras cognitivas facilita la recuperación y la actualización de\\\n",
        " las bases de conocimiento a través de los puntos clave ...\"\n",
        "d5 = \"... en su defecto la fecha de efectos aplicada en ausencia de otra información\\\n",
        " fue la de solicitud ...\""
      ]
    },
    {
      "cell_type": "markdown",
      "metadata": {
        "id": "c6EOWG0_X95o"
      },
      "source": [
        "### <u>Colección</u>"
      ]
    },
    {
      "cell_type": "markdown",
      "metadata": {
        "id": "y0bsXiAiX95o"
      },
      "source": [
        "Llamaremos <b>colección</b> a un conjunto de documentos. Observa que los documentos d1, d2, d3, d4 y d5 forman una colección"
      ]
    },
    {
      "cell_type": "code",
      "execution_count": null,
      "metadata": {
        "id": "z9hHv80wX95o"
      },
      "outputs": [],
      "source": [
        "#podemos formar la colección de documentos mediante un diccionario\n",
        "colecc = {'d1':d1, 'd2':d2, 'd3':d3, 'd4':d4, 'd5':d5}"
      ]
    },
    {
      "cell_type": "code",
      "execution_count": null,
      "metadata": {
        "colab": {
          "base_uri": "https://localhost:8080/"
        },
        "id": "x8SgKTJUX95p",
        "outputId": "4ea5aa69-4b7e-4ba2-fb16-4949064e6398"
      },
      "outputs": [
        {
          "output_type": "stream",
          "name": "stdout",
          "text": [
            "... como el procesamiento de datos, el desarrollo y la recuperación de información son ejemplos de posibles áreas de cambio ...\n"
          ]
        }
      ],
      "source": [
        "print(colecc['d2'])"
      ]
    },
    {
      "cell_type": "markdown",
      "metadata": {
        "id": "bVAZ9OFTX95q"
      },
      "source": [
        "\n",
        "\n",
        "### <u> Bolsa de palabras</u>\n",
        "\n",
        "Una documento puede representarse como una <b>bolsa de palabras</b>. Básicamente es un conjunto que contiene a cada palabra presente en el documento. Con esta representación se pierde la información correspondiente al orden en el cual se presentan las palabras en un documento.\n",
        "\n",
        "A las palabras también se les conoce como <b>términos</b>"
      ]
    },
    {
      "cell_type": "code",
      "execution_count": null,
      "metadata": {
        "colab": {
          "base_uri": "https://localhost:8080/"
        },
        "id": "lASs5_vrX95q",
        "outputId": "bd078ae9-3cf6-45d5-9a6b-6c6e6ea3b800"
      },
      "outputs": [
        {
          "output_type": "stream",
          "name": "stdout",
          "text": [
            "el\n",
            "procesamiento\n",
            "como\n",
            "y\n",
            "posibles\n",
            "datos,\n",
            "...\n",
            "la\n",
            "desarrollo\n",
            "recuperación\n",
            "de\n",
            "información\n",
            "áreas\n",
            "cambio\n",
            "son\n",
            "ejemplos\n"
          ]
        }
      ],
      "source": [
        "# construcción de la bolsa de palabras de un documento\n",
        "sp = d2.split(\" \") #suponemos que las palabras están separadas por espacios\n",
        "bp = set(sp)\n",
        "\n",
        "for e in bp:\n",
        "    print(e)"
      ]
    },
    {
      "cell_type": "markdown",
      "source": [
        "Podemos definir una función que construya la bolsa de palabras de un documento\n",
        "ya que es un proceso que se utilizará con frecuencia\n"
      ],
      "metadata": {
        "id": "fq4eIoBwYrkx"
      }
    },
    {
      "cell_type": "code",
      "execution_count": null,
      "metadata": {
        "id": "tiBTY6-aX95r"
      },
      "outputs": [],
      "source": [
        "# Primera versión\n",
        "def bag_of_words(d): #recibe un documento cualquiera\n",
        "    #removemos algunos signos de puntuación\n",
        "    sigs = [',', '.', ':', ';']\n",
        "    dc = d\n",
        "    for s in sigs:\n",
        "        dc = dc.replace(s,\"\")\n",
        "\n",
        "    #dividimos las palabras por medio de los espacios y las convertimos a minúsculas para uniformizar\n",
        "    sp = dc.split(\" \")\n",
        "    bw = set(sp)\n",
        "    bw = [w.lower() for w in bw]\n",
        "    return bw"
      ]
    },
    {
      "cell_type": "markdown",
      "source": [
        "Podemos utilizar la función para extraer la bolsa de palabras de cualquier documento de la colección\n"
      ],
      "metadata": {
        "id": "XUsHne9LY8LE"
      }
    },
    {
      "cell_type": "code",
      "execution_count": null,
      "metadata": {
        "colab": {
          "base_uri": "https://localhost:8080/"
        },
        "id": "kPxwXb_kX95r",
        "outputId": "b0f6e4a0-cfd8-491e-8147-397f258cf33b"
      },
      "outputs": [
        {
          "output_type": "stream",
          "name": "stdout",
          "text": [
            "\n",
            "limitan\n",
            "los\n",
            "que\n",
            "en\n",
            "recuperación\n",
            "a\n",
            "relación\n",
            "digitales\n",
            "información\n",
            "niños\n",
            "no\n",
            "necesitan\n",
            "la\n",
            "habilidades\n",
            "las\n",
            "se\n",
            "con\n",
            "medios\n",
            "de\n"
          ]
        }
      ],
      "source": [
        "bw = bag_of_words(colecc['d1'])\n",
        "\n",
        "for w in bw:\n",
        "    print(w)\n"
      ]
    },
    {
      "cell_type": "markdown",
      "metadata": {
        "id": "Em7-dxIMX95s"
      },
      "source": [
        "### <u>Vocabulario</u>\n",
        "\n",
        "Conjunto de términos presentes en los documentos de una colección"
      ]
    },
    {
      "cell_type": "code",
      "execution_count": null,
      "metadata": {
        "colab": {
          "base_uri": "https://localhost:8080/"
        },
        "id": "HW1jAEdrX95s",
        "outputId": "5c6674da-9499-49b3-9086-7ee63575c71f"
      },
      "outputs": [
        {
          "output_type": "stream",
          "name": "stdout",
          "text": [
            "\n",
            "el\n",
            "procesamiento\n",
            "limitan\n",
            "los\n",
            "probabilidades\n",
            "que\n",
            "en\n",
            "recuperación\n",
            "áreas\n",
            "aumentar\n",
            "cambio\n",
            "puntos\n",
            "a\n",
            "nombres\n",
            "aplicada\n",
            "relación\n",
            "posibles\n",
            "varios\n",
            "estructuras\n",
            "datos\n",
            "su\n",
            "fue\n",
            "actualización\n",
            "digitales\n",
            "través\n",
            "información\n",
            "niños\n",
            "ejemplos\n",
            "conocimiento\n",
            "facilita\n",
            "las\n",
            "defecto\n",
            "no\n",
            "necesitan\n",
            "cognitivas\n",
            "la\n",
            "habilidades\n",
            "y\n",
            "se\n",
            "como\n",
            "usar\n",
            "ausencia\n",
            "fecha\n",
            "con\n",
            "medios\n",
            "bases\n",
            "desarrollo\n",
            "otra\n",
            "de\n",
            "puede\n",
            "clave\n",
            "efectos\n",
            "son\n",
            "solicitud\n",
            "enumeración\n"
          ]
        }
      ],
      "source": [
        "# construimos el vocabulario guardando en un conjunto los términos de\n",
        "# todos los documentos en la colección\n",
        "\n",
        "voc = set()\n",
        "\n",
        "for d in colecc:\n",
        "    bw = bag_of_words(colecc[d])\n",
        "    voc = voc.union(bw)\n",
        "\n",
        "for e in voc:\n",
        "    print(e)"
      ]
    },
    {
      "cell_type": "markdown",
      "metadata": {
        "id": "F1Ofu1KEX95s"
      },
      "source": [
        "## Preprocesamiento\n",
        "\n"
      ]
    },
    {
      "cell_type": "markdown",
      "source": [
        "### <u> Stop Words</u>"
      ],
      "metadata": {
        "id": "Cd6pYMLZezsR"
      }
    },
    {
      "cell_type": "markdown",
      "metadata": {
        "id": "_-1DN-LIX95s"
      },
      "source": [
        "Es una práctica común el ignorar palabras que aparecen con mucha frecuencia en los documentos y que pueden aportar muy poca información al proceso de búsqueda, por ejemplo: los artículos, las preposiciones, pronombres, conectivos, etc.\n",
        "\n",
        "Por ejemplo, al construir la bolsa de palabras podríamos ignorar las siguientes: <b> son, en, el, la los, de, las, a, y, que,...</b> A dichas palabras se les conoce en inglés como <b>stop words</b>."
      ]
    },
    {
      "cell_type": "code",
      "execution_count": null,
      "metadata": {
        "collapsed": true,
        "id": "KuRqdHdvX95t"
      },
      "outputs": [],
      "source": [
        "#segunda versión\n",
        "def bag_of_words(d):\n",
        "    stop_words = [\"son\", \"el\", \"la\", \"los\", \"de\", \"las\", \"a\", \"y\", \"que\", \"en\", \"se\", \"su\", \"fue\", \"no\",\n",
        "              \"con\", \"como\"]\n",
        "\n",
        "    #removemos los signos de puntuación\n",
        "    sigs = [',', '.', ':', ';']\n",
        "    dc = d\n",
        "    for s in sigs:\n",
        "        dc = dc.replace(s,\"\")\n",
        "\n",
        "    #dividimos las palabras por medio de los espacios\n",
        "    sp = dc.split(\" \")\n",
        "    bw = set() #conjunto vacío\n",
        "\n",
        "    #y agregamos cada palabra (en minúsculas)\n",
        "    #a la bolsa siempre y cuando no sea una stop word\n",
        "    for w in sp:\n",
        "        nw = w.lower()\n",
        "        #remueve algunos caracteres especiales que pueden estar presentes en las palabras\n",
        "        nw = nw.replace(\" \",'')\n",
        "        nw = nw.replace(\"\\n\",'')\n",
        "        nw = nw.replace('\"','')\n",
        "        nw = nw.replace('(','')\n",
        "        nw = nw.replace(')','')\n",
        "        if not nw in stop_words:\n",
        "            bw.add(nw)\n",
        "\n",
        "    return bw"
      ]
    },
    {
      "cell_type": "code",
      "execution_count": null,
      "metadata": {
        "colab": {
          "base_uri": "https://localhost:8080/"
        },
        "id": "f3YUi5_uX95t",
        "outputId": "165ab6c0-655e-4205-d997-0e13bea09dc9"
      },
      "outputs": [
        {
          "output_type": "stream",
          "name": "stdout",
          "text": [
            "\n",
            "procesamiento\n",
            "limitan\n",
            "probabilidades\n",
            "recuperación\n",
            "áreas\n",
            "aumentar\n",
            "cambio\n",
            "nombres\n",
            "aplicada\n",
            "relación\n",
            "posibles\n",
            "varios\n",
            "estructuras\n",
            "datos\n",
            "actualización\n",
            "digitales\n",
            "través\n",
            "información\n",
            "niños\n",
            "conocimiento\n",
            "ejemplos\n",
            "facilita\n",
            "defecto\n",
            "necesitan\n",
            "cognitivas\n",
            "habilidades\n",
            "usar\n",
            "ausencia\n",
            "fecha\n",
            "medios\n",
            "bases\n",
            "desarrollo\n",
            "otra\n",
            "puede\n",
            "clave\n",
            "efectos\n",
            "puntos\n",
            "solicitud\n",
            "enumeración\n"
          ]
        }
      ],
      "source": [
        "# construimos un vocabulario guardando en un conjunto los términos de\n",
        "# todos los documentos en la colección\n",
        "\n",
        "#una vez construido el vocabulario removemos las stop-words\n",
        "\n",
        "voc = set()\n",
        "\n",
        "for d in colecc:\n",
        "    bw = bag_of_words(colecc[d])\n",
        "    voc = voc.union(bw)\n",
        "\n",
        "for e in voc:\n",
        "    print(e)"
      ]
    },
    {
      "cell_type": "markdown",
      "source": [
        "### <u>Acentos</u>\n",
        "\n",
        "Para uniformizar las palabras, podemos excluir a los acentos (no siempre los autores respetan la ortografía)."
      ],
      "metadata": {
        "id": "NkLxzg3oc1AI"
      }
    },
    {
      "cell_type": "code",
      "source": [
        "#tercera versión\n",
        "def bag_of_words(d):\n",
        "    stop_words = [\"son\", \"el\", \"la\", \"los\", \"de\", \"las\", \"a\", \"y\", \"que\", \"en\", \"se\", \"su\", \"fue\", \"no\",\n",
        "              \"con\", \"como\"]\n",
        "\n",
        "    #removemos los signos de puntuación y caracteres especiales\n",
        "    sigs = [',', '.', ':', ';' \" \", \"\\n\",'\"', '(', ')']\n",
        "    dc = d\n",
        "    for s in sigs:\n",
        "        dc = dc.replace(s,\"\")\n",
        "\n",
        "    #dividimos las palabras por medio de los espacios\n",
        "    sp = dc.split(\" \")\n",
        "    bw = set() #conjunto vacío\n",
        "\n",
        "    #y agregamos cada palabra (en minúsculas)\n",
        "    #a la bolsa siempre y cuando no sea una stop word\n",
        "    for w in sp:\n",
        "        nw = w.lower()\n",
        "        #remueve acentos\n",
        "        nw = nw.replace('á','a')\n",
        "        nw = nw.replace('é','e')\n",
        "        nw = nw.replace('í','i')\n",
        "        nw = nw.replace('ó','o')\n",
        "        nw = nw.replace('ú','u')\n",
        "        nw = nw.replace('ñ','n')\n",
        "        if not nw in stop_words:\n",
        "            bw.add(nw)\n",
        "\n",
        "    return bw"
      ],
      "metadata": {
        "id": "8Kudhhdqc0Vv"
      },
      "execution_count": null,
      "outputs": []
    },
    {
      "cell_type": "markdown",
      "source": [
        "Al uniformizar las palabras evitamos que diferentes versiones de un mismo término aparezcan en el vocabulario (algunas con acento, otras sin acento)."
      ],
      "metadata": {
        "id": "D3Ixrha3dZTG"
      }
    },
    {
      "cell_type": "code",
      "source": [
        "voc = set()\n",
        "\n",
        "for d in colecc:\n",
        "    bw = bag_of_words(colecc[d])\n",
        "    voc = voc.union(bw)\n",
        "\n",
        "for e in voc:\n",
        "    print(e)"
      ],
      "metadata": {
        "colab": {
          "base_uri": "https://localhost:8080/"
        },
        "id": "op3d2w3-dZiL",
        "outputId": "f9907327-a890-422f-885f-e33d0dce9959"
      },
      "execution_count": null,
      "outputs": [
        {
          "output_type": "stream",
          "name": "stdout",
          "text": [
            "\n",
            "procesamiento\n",
            "limitan\n",
            "probabilidades\n",
            "enumeracion\n",
            "aumentar\n",
            "ninos\n",
            "cambio\n",
            "nombres\n",
            "aplicada\n",
            "posibles\n",
            "varios\n",
            "estructuras\n",
            "datos\n",
            "digitales\n",
            "traves\n",
            "ejemplos\n",
            "conocimiento\n",
            "facilita\n",
            "informacion\n",
            "defecto\n",
            "necesitan\n",
            "cognitivas\n",
            "habilidades\n",
            "relacion\n",
            "usar\n",
            "actualizacion\n",
            "ausencia\n",
            "fecha\n",
            "medios\n",
            "areas\n",
            "bases\n",
            "recuperacion\n",
            "desarrollo\n",
            "otra\n",
            "puede\n",
            "clave\n",
            "efectos\n",
            "puntos\n",
            "solicitud\n"
          ]
        }
      ]
    },
    {
      "cell_type": "markdown",
      "source": [
        "Es recomendable separar el preprocesameinto de la construcción de la bolsa de palabras:"
      ],
      "metadata": {
        "id": "AFamTIeK4XLT"
      }
    },
    {
      "cell_type": "code",
      "source": [
        "def pre_proceso(d):\n",
        "  #convierte a minúsculas\n",
        "  nw = d.lower()\n",
        "  #elimina acentos, caracteres especiales o signos de puntuación\n",
        "  nw = nw.replace(\"\\n\",'')\n",
        "  nw = nw.replace('\"','')\n",
        "  nw = nw.replace('(','')\n",
        "  nw = nw.replace(')','')\n",
        "  nw = nw.replace('.','')\n",
        "  nw = nw.replace(',','')\n",
        "  nw = nw.replace(';','')\n",
        "  nw = nw.replace(':','')\n",
        "  nw = nw.replace('á','a')\n",
        "  nw = nw.replace('é','e')\n",
        "  nw = nw.replace('í','i')\n",
        "  nw = nw.replace('ó','o')\n",
        "  nw = nw.replace('ú','u')\n",
        "  nw = nw.replace('ñ','n')\n",
        "\n",
        "  return nw\n",
        "\n",
        "def bag_of_words(d):\n",
        "  stop_words = [\"son\", \"el\", \"la\", \"los\", \"de\", \"las\", \"a\", \"y\", \"que\", \"en\", \"se\", \"su\", \"fue\", \"no\",\n",
        "            \"con\", \"como\", \"\"]\n",
        "\n",
        "  #dividimos las palabras por medio de los espacios\n",
        "  sp = d.split(\" \")\n",
        "  bw = set() #conjunto vacío\n",
        "\n",
        "  #y agregamos cada palabra\n",
        "  #a la bolsa siempre y cuando no sea una stop word\n",
        "  for w in sp:\n",
        "      if not w in stop_words:\n",
        "          bw.add(w)\n",
        "\n",
        "  return bw\n",
        "\n",
        "def vocabulario(colecc):\n",
        "  voc = set()\n",
        "\n",
        "  for d in colecc:\n",
        "      bw = bag_of_words(colecc[d])\n",
        "      voc = voc.union(bw)\n",
        "  return voc"
      ],
      "metadata": {
        "id": "fpFlhfFh4hug"
      },
      "execution_count": null,
      "outputs": []
    },
    {
      "cell_type": "code",
      "source": [
        "# preprocesamos cada documento de la colección\n",
        "for d in colecc:\n",
        "  colecc[d] = pre_proceso(colecc[d])\n",
        "\n",
        "# formamos el vocabulario\n",
        "voc = vocabulario(colecc)\n",
        "colecc['d1']"
      ],
      "metadata": {
        "colab": {
          "base_uri": "https://localhost:8080/",
          "height": 52
        },
        "id": "LnQzxTL94z-v",
        "outputId": "1ba980bb-2239-4fa3-b623-99ae0c811331"
      },
      "execution_count": null,
      "outputs": [
        {
          "output_type": "execute_result",
          "data": {
            "application/vnd.google.colaboratory.intrinsic+json": {
              "type": "string"
            },
            "text/plain": [
              "' las habilidades que los ninos necesitan en relacion con los medios digitales no se limitan a la recuperacion de informacion '"
            ]
          },
          "metadata": {},
          "execution_count": 13
        }
      ]
    },
    {
      "cell_type": "markdown",
      "metadata": {
        "id": "UHjjS_EBX95t"
      },
      "source": [
        "## Consultas\n",
        "\n",
        "Es una lista de términos que refleja la necesidad de información que tiene un usuario del sistema de recuperación de información.\n",
        "\n",
        "Procesamos la frase escrita en la consulta de la misma forma que procesamos los documentos de la colección (construimos la bolsa de palabras):"
      ]
    },
    {
      "cell_type": "code",
      "execution_count": null,
      "metadata": {
        "colab": {
          "base_uri": "https://localhost:8080/"
        },
        "id": "ynJVHyPnX95t",
        "outputId": "70ab6af7-0bd1-4b3c-e9ed-cbb8e7cce508"
      },
      "outputs": [
        {
          "output_type": "stream",
          "name": "stdout",
          "text": [
            "recuperacion\n",
            "informacion\n"
          ]
        }
      ],
      "source": [
        "# ejemplo de consulta\n",
        "qry = \"Recuperación de la información\"\n",
        "qry = pre_proceso(qry)\n",
        "bw = bag_of_words(qry)\n",
        "for w in bw:\n",
        "    print(w)"
      ]
    },
    {
      "cell_type": "markdown",
      "metadata": {
        "id": "aXO7uuYYX95u"
      },
      "source": [
        "### <u>Modelo booleano</u>\n",
        "A partir de los términos de la consulta debemos seleccionar los documentos que sean relevantes.\n",
        "\n"
      ]
    },
    {
      "cell_type": "code",
      "execution_count": null,
      "metadata": {
        "colab": {
          "base_uri": "https://localhost:8080/"
        },
        "id": "e-1Bi9LgX95u",
        "outputId": "080ac461-28ff-485b-d57f-9083ad54deee"
      },
      "outputs": [
        {
          "output_type": "stream",
          "name": "stdout",
          "text": [
            "Documentos que contienen el término 'información': \n",
            "{'d5', 'd1', 'd2'}\n",
            "Documentos que contienen el término 'recuperación': \n",
            "{'d3', 'd1', 'd2', 'd4'}\n"
          ]
        }
      ],
      "source": [
        "# buscamos los documentos relevantes de acuerdo a la consulta\n",
        "\n",
        "tr_inf = set()\n",
        "#buscamos los documentos que contengan el término \"información\"\n",
        "for d in colecc:\n",
        "    if \"informacion\" in colecc[d]:\n",
        "        tr_inf.add(d)\n",
        "\n",
        "tr_rec = set()\n",
        "#buscamos los documentos que contengan el término \"recuperación\"\n",
        "for d in colecc:\n",
        "    if \"recuperacion\" in colecc[d]:\n",
        "        tr_rec.add(d)\n",
        "\n",
        "print(\"Documentos que contienen el término 'información': \")\n",
        "print(tr_inf)\n",
        "\n",
        "print(\"Documentos que contienen el término 'recuperación': \")\n",
        "print(tr_rec)"
      ]
    },
    {
      "cell_type": "markdown",
      "metadata": {
        "id": "1Z8NpC3pX95u"
      },
      "source": [
        "Los términos de la consulta pueden combinarse mediante operadores lógicos, por ejemplo\n",
        "\n",
        "#### <u>Usando el conectivo AND</u>\n"
      ]
    },
    {
      "cell_type": "code",
      "execution_count": null,
      "metadata": {
        "colab": {
          "base_uri": "https://localhost:8080/"
        },
        "id": "3NdLlhGLX95u",
        "outputId": "4ec6450a-9d1c-4d6d-80aa-a64c1eaf24d7"
      },
      "outputs": [
        {
          "output_type": "stream",
          "name": "stdout",
          "text": [
            "Resultados: \n",
            "\n",
            "\n",
            " las habilidades que los ninos necesitan en relacion con los medios digitales no se limitan a la recuperacion de informacion \n",
            "\n",
            "\n",
            " como el procesamiento de datos el desarrollo y la recuperacion de informacion son ejemplos de posibles areas de cambio \n",
            "\n",
            "\n"
          ]
        }
      ],
      "source": [
        "# Consulta \"información\" Y \"recuperación\"\n",
        "print(\"Resultados: \\n\\n\")\n",
        "res = tr_inf.intersection(tr_rec)\n",
        "for r in res:\n",
        "    print(colecc[r])\n",
        "    print(\"\\n\")"
      ]
    },
    {
      "cell_type": "markdown",
      "source": [
        "El resultado de la consulta contiene solamente a los documentos d1 y d2\n",
        "\n",
        "#### <u>Usando el conectivo OR</u>"
      ],
      "metadata": {
        "id": "GF87FE34bUCN"
      }
    },
    {
      "cell_type": "code",
      "execution_count": null,
      "metadata": {
        "colab": {
          "base_uri": "https://localhost:8080/"
        },
        "id": "nDUSwRAxX95u",
        "outputId": "606c1c36-5449-40bf-c003-db268f92a19c"
      },
      "outputs": [
        {
          "output_type": "stream",
          "name": "stdout",
          "text": [
            "Resultados: \n",
            "\n",
            "\n",
            " las habilidades que los ninos necesitan en relacion con los medios digitales no se limitan a la recuperacion de informacion \n",
            "\n",
            "\n",
            " la enumeracion de varios nombres puede aumentar las probabilidades de recuperacion \n",
            "\n",
            "\n",
            " en su defecto la fecha de efectos aplicada en ausencia de otra informacion fue la de solicitud \n",
            "\n",
            "\n",
            " como el procesamiento de datos el desarrollo y la recuperacion de informacion son ejemplos de posibles areas de cambio \n",
            "\n",
            "\n",
            " usar estructuras cognitivas facilita la recuperacion y la actualizacion de las bases de conocimiento a traves de los puntos clave \n",
            "\n",
            "\n"
          ]
        }
      ],
      "source": [
        "# Consulta \"información\" O \"recuperación\"\n",
        "print(\"Resultados: \\n\\n\")\n",
        "res = tr_inf.union(tr_rec)\n",
        "for r in res:\n",
        "    print(colecc[r])\n",
        "    print(\"\\n\")"
      ]
    },
    {
      "cell_type": "markdown",
      "source": [
        "#### <u>Usando la *diferencia*</u>"
      ],
      "metadata": {
        "id": "npVmHuaKb7E6"
      }
    },
    {
      "cell_type": "code",
      "execution_count": null,
      "metadata": {
        "colab": {
          "base_uri": "https://localhost:8080/"
        },
        "id": "x8U_LGqRX95v",
        "outputId": "93718e4e-af93-4a70-a710-0280008272cd"
      },
      "outputs": [
        {
          "output_type": "stream",
          "name": "stdout",
          "text": [
            "Resultados: \n",
            "\n",
            "\n",
            " en su defecto la fecha de efectos aplicada en ausencia de otra informacion fue la de solicitud \n",
            "\n",
            "\n"
          ]
        }
      ],
      "source": [
        "# Consulta \"información\" - \"recuperación\"\n",
        "print(\"Resultados: \\n\\n\")\n",
        "res = tr_inf.difference(tr_rec)\n",
        "for r in res:\n",
        "    print(colecc[r])\n",
        "    print(\"\\n\")"
      ]
    },
    {
      "cell_type": "markdown",
      "metadata": {
        "id": "58TJ1WahX95v"
      },
      "source": [
        "## Índice Invertido\n",
        "\n",
        "Observa que para responder a una consulta hemos recorrido cada documento seleccionando aquellos que contengan algún término en particular. Esta estrategia es muy ineficiente sobre todo si consideramos que la colección puede llegar a contener miles, o hasta millones de documentos.  \n",
        "\n",
        "Una mejor opción consiste en construir una tabla en la que coloquemos cada término del vocabulario en un renglón junto con la lista de documentos en los que el término aparece. A esta tabla se le conoce como <b>índice invertido</b>. Utilizando el índice invertido, para responder a una consulta solamente se debe buscar el término en el índice y una vez localizado se recupera la lista de documentos en los que aparece.\n",
        "\n",
        "Este proceso es ventajoso cuando la magnitud del vocabulario es mucho menor que la cantidad de documentos de la colección."
      ]
    },
    {
      "cell_type": "code",
      "execution_count": null,
      "metadata": {
        "colab": {
          "base_uri": "https://localhost:8080/"
        },
        "id": "nEW6qbxeX95v",
        "outputId": "ea176efc-4121-420d-be43-bdbfaf3a625b"
      },
      "outputs": [
        {
          "output_type": "stream",
          "name": "stdout",
          "text": [
            "informacion {'d5', 'd1', 'd2'}\n",
            "limitan {'d1'}\n",
            "medios {'d1'}\n",
            "necesitan {'d1'}\n",
            "recuperacion {'d3', 'd1', 'd2', 'd4'}\n",
            "digitales {'d1'}\n",
            "habilidades {'d1'}\n",
            "ninos {'d1'}\n",
            "relacion {'d1'}\n",
            "procesamiento {'d2'}\n",
            "posibles {'d2'}\n",
            "areas {'d2'}\n",
            "datos {'d2'}\n",
            "desarrollo {'d2'}\n",
            "cambio {'d2'}\n",
            "ejemplos {'d2'}\n",
            "varios {'d3'}\n",
            "probabilidades {'d3'}\n",
            "enumeracion {'d3'}\n",
            "aumentar {'d3'}\n",
            "puede {'d3'}\n",
            "nombres {'d3'}\n",
            "facilita {'d4'}\n",
            "usar {'d4'}\n",
            "actualizacion {'d4'}\n",
            "estructuras {'d4'}\n",
            "cognitivas {'d4'}\n",
            "bases {'d4'}\n",
            "clave {'d4'}\n",
            "traves {'d4'}\n",
            "puntos {'d4'}\n",
            "conocimiento {'d4'}\n",
            "ausencia {'d5'}\n",
            "fecha {'d5'}\n",
            "defecto {'d5'}\n",
            "otra {'d5'}\n",
            "efectos {'d5'}\n",
            "solicitud {'d5'}\n",
            "aplicada {'d5'}\n"
          ]
        }
      ],
      "source": [
        "# construcción del índice invertido\n",
        "\n",
        "ind_invrt = {}\n",
        "\n",
        "#recorremos cada documento\n",
        "for d in colecc:\n",
        "    bw = bag_of_words(colecc[d])\n",
        "    for t in bw:\n",
        "        if not t in ind_invrt: # si el término no está en el índice construye una nueva entrada\n",
        "            ind_invrt[t] = set([d])\n",
        "        else:\n",
        "            ind_invrt[t].add(d)\n",
        "\n",
        "for t in ind_invrt:\n",
        "    print(t, ind_invrt[t])"
      ]
    },
    {
      "cell_type": "markdown",
      "source": [
        "El índice invertido reduce la respuesta a la consulta a una simple lectura de un elemento de un diccionario."
      ],
      "metadata": {
        "id": "nxf13bWM8Tv2"
      }
    },
    {
      "cell_type": "code",
      "execution_count": null,
      "metadata": {
        "colab": {
          "base_uri": "https://localhost:8080/"
        },
        "id": "OvOMmocHX95v",
        "outputId": "0b0ad0b8-2f87-435c-836d-f9eec5cfdb69"
      },
      "outputs": [
        {
          "output_type": "stream",
          "name": "stdout",
          "text": [
            " en su defecto la fecha de efectos aplicada en ausencia de otra informacion fue la de solicitud \n",
            "\n",
            "\n",
            " las habilidades que los ninos necesitan en relacion con los medios digitales no se limitan a la recuperacion de informacion \n",
            "\n",
            "\n",
            " como el procesamiento de datos el desarrollo y la recuperacion de informacion son ejemplos de posibles areas de cambio \n",
            "\n",
            "\n"
          ]
        }
      ],
      "source": [
        "# Una consulta ahora puede ser realizada a través del índice\n",
        "\n",
        "q = \"informacion\"\n",
        "\n",
        "if q in ind_invrt.keys():\n",
        "  res = ind_invrt[q] #simplemente leemos la lista de documentos en los que aparece el término\n",
        "\n",
        "  #imprimimos la lista de documentos en los que está presente el término\n",
        "  for d in res:\n",
        "      print(colecc[d])\n",
        "      print(\"\\n\")"
      ]
    },
    {
      "cell_type": "markdown",
      "source": [
        "## Modelo vectorial"
      ],
      "metadata": {
        "id": "olM90r-djqip"
      }
    },
    {
      "cell_type": "markdown",
      "source": [
        "### <u>Frecuencia de término</u>"
      ],
      "metadata": {
        "id": "1Jp_Ug1dzelp"
      }
    },
    {
      "cell_type": "code",
      "source": [
        "import numpy as np\n",
        "import pandas as pd"
      ],
      "metadata": {
        "id": "16VaIkwvw-bU"
      },
      "execution_count": null,
      "outputs": []
    },
    {
      "cell_type": "code",
      "source": [
        "#cuenta las veces ue aparece un término en cada documento\n",
        "\n",
        "def term_frequency(d, voc):\n",
        "  bw = bag_of_words(d)\n",
        "  tf = np.zeros(len(voc))\n",
        "  for w in bw:\n",
        "    if w in voc:\n",
        "      i = voc.index(w)\n",
        "      if i >= 0:\n",
        "        tf[i] += 1\n",
        "  return tf"
      ],
      "metadata": {
        "id": "JaDt5Q6Aj0EO"
      },
      "execution_count": null,
      "outputs": []
    },
    {
      "cell_type": "markdown",
      "source": [
        "**Representamos cada documento como un vector**"
      ],
      "metadata": {
        "id": "oq83jTYgzkTx"
      }
    },
    {
      "cell_type": "code",
      "source": [
        "voc = list(voc)\n",
        "tf = term_frequency(colecc['d1'], voc)\n",
        "tf = pd.Series(tf, index=voc)\n",
        "tf"
      ],
      "metadata": {
        "colab": {
          "base_uri": "https://localhost:8080/"
        },
        "id": "Lcuwh57OxG4J",
        "outputId": "9e190624-3ec5-4e3a-fc75-51cbdf480bc8"
      },
      "execution_count": null,
      "outputs": [
        {
          "output_type": "execute_result",
          "data": {
            "text/plain": [
              "procesamiento     0.0\n",
              "limitan           1.0\n",
              "probabilidades    0.0\n",
              "enumeracion       0.0\n",
              "aumentar          0.0\n",
              "ninos             1.0\n",
              "cambio            0.0\n",
              "nombres           0.0\n",
              "aplicada          0.0\n",
              "posibles          0.0\n",
              "varios            0.0\n",
              "estructuras       0.0\n",
              "datos             0.0\n",
              "digitales         1.0\n",
              "traves            0.0\n",
              "ejemplos          0.0\n",
              "conocimiento      0.0\n",
              "facilita          0.0\n",
              "informacion       1.0\n",
              "defecto           0.0\n",
              "necesitan         1.0\n",
              "cognitivas        0.0\n",
              "habilidades       1.0\n",
              "relacion          1.0\n",
              "usar              0.0\n",
              "actualizacion     0.0\n",
              "ausencia          0.0\n",
              "fecha             0.0\n",
              "medios            1.0\n",
              "areas             0.0\n",
              "bases             0.0\n",
              "recuperacion      1.0\n",
              "desarrollo        0.0\n",
              "otra              0.0\n",
              "puede             0.0\n",
              "clave             0.0\n",
              "efectos           0.0\n",
              "puntos            0.0\n",
              "solicitud         0.0\n",
              "dtype: float64"
            ]
          },
          "metadata": {},
          "execution_count": 23
        }
      ]
    },
    {
      "cell_type": "code",
      "source": [],
      "metadata": {
        "id": "3h-OutFYj0Xf"
      },
      "execution_count": null,
      "outputs": []
    },
    {
      "cell_type": "markdown",
      "source": [
        "### <u>Frecuencia inversa de documento</u>"
      ],
      "metadata": {
        "id": "Zj81nWGNzsWF"
      }
    },
    {
      "cell_type": "code",
      "source": [
        "idf = np.zeros(len(voc))\n",
        "\n",
        "for w in voc:\n",
        "  i = voc.index(w)\n",
        "  for d in colecc:\n",
        "    if colecc[d].find(w) >= 0:\n",
        "      idf[i] += 1\n",
        "N = len(voc)\n",
        "S_idf = np.log(N/pd.Series(idf, index=voc))\n",
        "S_idf"
      ],
      "metadata": {
        "colab": {
          "base_uri": "https://localhost:8080/"
        },
        "id": "oWu1n7EIzzou",
        "outputId": "2dd42ea8-4efb-4515-9024-cc90eedb286f"
      },
      "execution_count": null,
      "outputs": [
        {
          "output_type": "execute_result",
          "data": {
            "text/plain": [
              "procesamiento     3.663562\n",
              "limitan           3.663562\n",
              "probabilidades    3.663562\n",
              "enumeracion       3.663562\n",
              "aumentar          3.663562\n",
              "ninos             3.663562\n",
              "cambio            3.663562\n",
              "nombres           3.663562\n",
              "aplicada          3.663562\n",
              "posibles          3.663562\n",
              "varios            3.663562\n",
              "estructuras       3.663562\n",
              "datos             3.663562\n",
              "digitales         3.663562\n",
              "traves            3.663562\n",
              "ejemplos          3.663562\n",
              "conocimiento      3.663562\n",
              "facilita          3.663562\n",
              "informacion       2.564949\n",
              "defecto           3.663562\n",
              "necesitan         3.663562\n",
              "cognitivas        3.663562\n",
              "habilidades       3.663562\n",
              "relacion          3.663562\n",
              "usar              3.663562\n",
              "actualizacion     3.663562\n",
              "ausencia          3.663562\n",
              "fecha             3.663562\n",
              "medios            3.663562\n",
              "areas             3.663562\n",
              "bases             3.663562\n",
              "recuperacion      2.277267\n",
              "desarrollo        3.663562\n",
              "otra              3.663562\n",
              "puede             3.663562\n",
              "clave             3.663562\n",
              "efectos           3.663562\n",
              "puntos            3.663562\n",
              "solicitud         3.663562\n",
              "dtype: float64"
            ]
          },
          "metadata": {},
          "execution_count": 24
        }
      ]
    },
    {
      "cell_type": "code",
      "source": [
        "np.log(len(voc))"
      ],
      "metadata": {
        "id": "ozN8hdxn7oHf"
      },
      "execution_count": null,
      "outputs": []
    },
    {
      "cell_type": "markdown",
      "source": [
        "### <u>TF-IDF </u>\n",
        "Representamos a cada documento con el producto del vector de frecuencia de término por el de frecuencia inversa de documento:"
      ],
      "metadata": {
        "id": "eTKI1UKE2ENf"
      }
    },
    {
      "cell_type": "code",
      "source": [
        "tf = term_frequency(colecc['d5'], voc)\n",
        "tf*S_idf #vector tf-idf"
      ],
      "metadata": {
        "colab": {
          "base_uri": "https://localhost:8080/"
        },
        "id": "mbuQHwVo2Sq-",
        "outputId": "a98febb1-0024-4be8-f5cb-ffad12772921"
      },
      "execution_count": null,
      "outputs": [
        {
          "output_type": "execute_result",
          "data": {
            "text/plain": [
              "procesamiento     0.000000\n",
              "limitan           0.000000\n",
              "probabilidades    0.000000\n",
              "enumeracion       0.000000\n",
              "aumentar          0.000000\n",
              "ninos             0.000000\n",
              "cambio            0.000000\n",
              "nombres           0.000000\n",
              "aplicada          3.663562\n",
              "posibles          0.000000\n",
              "varios            0.000000\n",
              "estructuras       0.000000\n",
              "datos             0.000000\n",
              "digitales         0.000000\n",
              "traves            0.000000\n",
              "ejemplos          0.000000\n",
              "conocimiento      0.000000\n",
              "facilita          0.000000\n",
              "informacion       2.564949\n",
              "defecto           3.663562\n",
              "necesitan         0.000000\n",
              "cognitivas        0.000000\n",
              "habilidades       0.000000\n",
              "relacion          0.000000\n",
              "usar              0.000000\n",
              "actualizacion     0.000000\n",
              "ausencia          3.663562\n",
              "fecha             3.663562\n",
              "medios            0.000000\n",
              "areas             0.000000\n",
              "bases             0.000000\n",
              "recuperacion      0.000000\n",
              "desarrollo        0.000000\n",
              "otra              3.663562\n",
              "puede             0.000000\n",
              "clave             0.000000\n",
              "efectos           3.663562\n",
              "puntos            0.000000\n",
              "solicitud         3.663562\n",
              "dtype: float64"
            ]
          },
          "metadata": {},
          "execution_count": 25
        }
      ]
    },
    {
      "cell_type": "code",
      "source": [
        "# aplicamos la transformación a cada documento\n",
        "W = {}\n",
        "\n",
        "for d in colecc:\n",
        "  W[d] = term_frequency(colecc[d], voc)*S_idf\n",
        "\n",
        "W['d1']"
      ],
      "metadata": {
        "colab": {
          "base_uri": "https://localhost:8080/"
        },
        "id": "VU0tnIER2vz1",
        "outputId": "0e038f54-254b-4c3e-cb8a-a7607e057b09"
      },
      "execution_count": null,
      "outputs": [
        {
          "output_type": "execute_result",
          "data": {
            "text/plain": [
              "procesamiento     0.000000\n",
              "limitan           3.663562\n",
              "probabilidades    0.000000\n",
              "enumeracion       0.000000\n",
              "aumentar          0.000000\n",
              "ninos             3.663562\n",
              "cambio            0.000000\n",
              "nombres           0.000000\n",
              "aplicada          0.000000\n",
              "posibles          0.000000\n",
              "varios            0.000000\n",
              "estructuras       0.000000\n",
              "datos             0.000000\n",
              "digitales         3.663562\n",
              "traves            0.000000\n",
              "ejemplos          0.000000\n",
              "conocimiento      0.000000\n",
              "facilita          0.000000\n",
              "informacion       2.564949\n",
              "defecto           0.000000\n",
              "necesitan         3.663562\n",
              "cognitivas        0.000000\n",
              "habilidades       3.663562\n",
              "relacion          3.663562\n",
              "usar              0.000000\n",
              "actualizacion     0.000000\n",
              "ausencia          0.000000\n",
              "fecha             0.000000\n",
              "medios            3.663562\n",
              "areas             0.000000\n",
              "bases             0.000000\n",
              "recuperacion      2.277267\n",
              "desarrollo        0.000000\n",
              "otra              0.000000\n",
              "puede             0.000000\n",
              "clave             0.000000\n",
              "efectos           0.000000\n",
              "puntos            0.000000\n",
              "solicitud         0.000000\n",
              "dtype: float64"
            ]
          },
          "metadata": {},
          "execution_count": 26
        }
      ]
    },
    {
      "cell_type": "markdown",
      "source": [
        "### <u>Similitud entre *documentos*</u>\n",
        "\n",
        "Evalúamos la similitud entre un par de documentos con el producto punto entre vectores:"
      ],
      "metadata": {
        "id": "cSb1rvfH3ZDo"
      }
    },
    {
      "cell_type": "code",
      "source": [
        "np.dot(W['d4'], W['d4'])"
      ],
      "metadata": {
        "colab": {
          "base_uri": "https://localhost:8080/"
        },
        "id": "Q0SKRtEe3YTu",
        "outputId": "b2cf2eff-3058-4873-cd54-dabf9bf5f181"
      },
      "execution_count": null,
      "outputs": [
        {
          "output_type": "execute_result",
          "data": {
            "text/plain": [
              "139.40278563729734"
            ]
          },
          "metadata": {},
          "execution_count": 32
        }
      ]
    },
    {
      "cell_type": "markdown",
      "source": [
        "Similtud entre cada pareja de documentos:"
      ],
      "metadata": {
        "id": "aLB1TUJ1-DP3"
      }
    },
    {
      "cell_type": "code",
      "source": [
        "S = np.zeros((5,5))\n",
        "\n",
        "for i in range(1,6):\n",
        "  for j in range(1,6):\n",
        "    S[i-1, j-1] = np.dot(W['d'+str(i)], W['d'+str(j)])\n",
        "\n",
        "S"
      ],
      "metadata": {
        "colab": {
          "base_uri": "https://localhost:8080/"
        },
        "id": "9Bqo0SdA9SsK",
        "outputId": "c99e62d3-1ec4-4e0b-c2c8-1f0ec2f4e058"
      },
      "execution_count": null,
      "outputs": [
        {
          "output_type": "execute_result",
          "data": {
            "text/plain": [
              "array([[105.71669904,  11.76491149,   5.18594629,   5.18594629,\n",
              "          6.57896521],\n",
              "       [ 11.76491149, 105.71669904,   5.18594629,   5.18594629,\n",
              "          6.57896521],\n",
              "       [  5.18594629,   5.18594629,  85.7160499 ,   5.18594629,\n",
              "          0.        ],\n",
              "       [  5.18594629,   5.18594629,   5.18594629, 139.40278564,\n",
              "          0.        ],\n",
              "       [  6.57896521,   6.57896521,   0.        ,   0.        ,\n",
              "        100.53075275]])"
            ]
          },
          "metadata": {},
          "execution_count": 33
        }
      ]
    },
    {
      "cell_type": "markdown",
      "source": [
        "Visualizamos en un mapa de calor:"
      ],
      "metadata": {
        "id": "WZfKalfV-BGX"
      }
    },
    {
      "cell_type": "code",
      "source": [
        "import matplotlib.pyplot as plt\n",
        "\n",
        "plt.imshow(S, cmap='hot')\n",
        "plt.show()"
      ],
      "metadata": {
        "colab": {
          "base_uri": "https://localhost:8080/",
          "height": 265
        },
        "id": "VCx5JCgO-Agp",
        "outputId": "83f72ca3-b07e-4ef5-8d62-aad3728e1530"
      },
      "execution_count": null,
      "outputs": [
        {
          "output_type": "display_data",
          "data": {
            "image/png": "[encoded data removed]",
            "text/plain": [
              "<Figure size 432x288 with 1 Axes>"
            ]
          },
          "metadata": {
            "needs_background": "light"
          }
        }
      ]
    },
    {
      "cell_type": "markdown",
      "source": [
        "Si ignoramos la diagonal:"
      ],
      "metadata": {
        "id": "iJIOUMaM_hfX"
      }
    },
    {
      "cell_type": "code",
      "source": [
        "plt.imshow(S-np.eye(5)*np.diag(S), cmap='hot')\n",
        "plt.show()"
      ],
      "metadata": {
        "colab": {
          "base_uri": "https://localhost:8080/",
          "height": 265
        },
        "id": "VRUYeKrZ-Z6m",
        "outputId": "984f2655-a15b-4c6d-94d4-24a72d5acc3f"
      },
      "execution_count": null,
      "outputs": [
        {
          "output_type": "display_data",
          "data": {
            "image/png": "[encoded data removed]",
            "text/plain": [
              "<Figure size 432x288 with 1 Axes>"
            ]
          },
          "metadata": {
            "needs_background": "light"
          }
        }
      ]
    },
    {
      "cell_type": "code",
      "source": [
        "S-np.eye(5)*np.diag(S)"
      ],
      "metadata": {
        "id": "TcSN2Qu1-sfo"
      },
      "execution_count": null,
      "outputs": []
    },
    {
      "cell_type": "markdown",
      "source": [
        "### <u> Consulta </u>"
      ],
      "metadata": {
        "id": "b1MxcwRrAMQ2"
      }
    },
    {
      "cell_type": "code",
      "source": [
        "qry = 'defecto ausencia fernando informacion'\n",
        "\n",
        "tf_idf_qry = term_frequency(qry, voc)*S_idf\n",
        "tf_idf_qry"
      ],
      "metadata": {
        "colab": {
          "base_uri": "https://localhost:8080/"
        },
        "id": "6KQLBjgkALr4",
        "outputId": "67a148b8-81c0-4d30-93d3-38a3cdc71004"
      },
      "execution_count": null,
      "outputs": [
        {
          "output_type": "execute_result",
          "data": {
            "text/plain": [
              "procesamiento     0.000000\n",
              "limitan           0.000000\n",
              "probabilidades    0.000000\n",
              "enumeracion       0.000000\n",
              "aumentar          0.000000\n",
              "ninos             0.000000\n",
              "cambio            0.000000\n",
              "nombres           0.000000\n",
              "aplicada          0.000000\n",
              "posibles          0.000000\n",
              "varios            0.000000\n",
              "estructuras       0.000000\n",
              "datos             0.000000\n",
              "digitales         0.000000\n",
              "traves            0.000000\n",
              "ejemplos          0.000000\n",
              "conocimiento      0.000000\n",
              "facilita          0.000000\n",
              "informacion       2.564949\n",
              "defecto           3.663562\n",
              "necesitan         0.000000\n",
              "cognitivas        0.000000\n",
              "habilidades       0.000000\n",
              "relacion          0.000000\n",
              "usar              0.000000\n",
              "actualizacion     0.000000\n",
              "ausencia          3.663562\n",
              "fecha             0.000000\n",
              "medios            0.000000\n",
              "areas             0.000000\n",
              "bases             0.000000\n",
              "recuperacion      0.000000\n",
              "desarrollo        0.000000\n",
              "otra              0.000000\n",
              "puede             0.000000\n",
              "clave             0.000000\n",
              "efectos           0.000000\n",
              "puntos            0.000000\n",
              "solicitud         0.000000\n",
              "dtype: float64"
            ]
          },
          "metadata": {},
          "execution_count": 42
        }
      ]
    },
    {
      "cell_type": "code",
      "source": [
        "rel = []\n",
        "for i in range(1,6):\n",
        "  sim = np.dot(tf_idf_qry, W['d'+str(i)])\n",
        "  rel.append(sim)\n",
        "\n",
        "pd.Series(rel, index = ['d'+str(i) for i in range(1,6)]).sort_values(ascending=False)"
      ],
      "metadata": {
        "colab": {
          "base_uri": "https://localhost:8080/"
        },
        "id": "VLPLG3sNBWzV",
        "outputId": "91684d77-7bec-410c-dc87-3f1bda6df9fb"
      },
      "execution_count": null,
      "outputs": [
        {
          "output_type": "execute_result",
          "data": {
            "text/plain": [
              "d5    33.422333\n",
              "d1     6.578965\n",
              "d2     6.578965\n",
              "d3     0.000000\n",
              "d4     0.000000\n",
              "dtype: float64"
            ]
          },
          "metadata": {},
          "execution_count": 38
        }
      ]
    },
    {
      "cell_type": "markdown",
      "metadata": {
        "id": "w9A23GCbX95v"
      },
      "source": [
        "## <font color=\"red\"> Práctica </font>\n",
        "\n",
        "* Forma una colección de documentos **preprocesando** los artículos de la revista *Information Architecture* disponibles en el directorio <u>information_architecture</u>. Nota: utiliza como stopwords las palabras disponibles en el archivo <u>stopwords.txt</u>\n",
        "* Genera una nube de palabras con los términos de la colección formada.\n",
        "* Construye la matriz tf-idf para los documentos de la colección. Puedes usar sklearn: https://scikit-learn.org/stable/modules/generated/sklearn.feature_extraction.text.TfidfVectorizer.html\n",
        "* Investiga el concepto de *similitud coseno*.\n",
        "* Identifica la pareja de artículos que tengan la mayor similitud coseno.\n",
        "* Crea el índice invertido del vocabulario de la colección de artículos de la revista *Information Architecture*."
      ]
    },
    {
      "cell_type": "code",
      "execution_count": null,
      "metadata": {
        "id": "cJqk697FX95v"
      },
      "outputs": [],
      "source": []
    },
    {
      "cell_type": "code",
      "execution_count": null,
      "metadata": {
        "collapsed": true,
        "id": "0zKlBlkGX95v"
      },
      "outputs": [],
      "source": []
    },
    {
      "cell_type": "code",
      "execution_count": null,
      "metadata": {
        "id": "m0uNKfL2X95v"
      },
      "outputs": [],
      "source": []
    },
    {
      "cell_type": "code",
      "execution_count": null,
      "metadata": {
        "id": "mmk_ucR9X95v"
      },
      "outputs": [],
      "source": []
    }
  ],
  "metadata": {
    "kernelspec": {
      "display_name": "Python 2",
      "language": "python",
      "name": "python2"
    },
    "language_info": {
      "codemirror_mode": {
        "name": "ipython",
        "version": 2
      },
      "file_extension": ".py",
      "mimetype": "text/x-python",
      "name": "python",
      "nbconvert_exporter": "python",
      "pygments_lexer": "ipython2",
      "version": "2.7.11"
    },
    "colab": {
      "provenance": []
    }
  },
  "nbformat": 4,
  "nbformat_minor": 0
}