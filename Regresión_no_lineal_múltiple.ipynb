{
  "cells": [
    {
      "cell_type": "code",
      "execution_count": null,
      "metadata": {
        "id": "ybvC2J3pdbny"
      },
      "outputs": [],
      "source": [
        "import numpy as np\n",
        "import pandas as pd\n",
        "import matplotlib.pyplot as plt"
      ]
    },
    {
      "cell_type": "code",
      "execution_count": null,
      "metadata": {
        "id": "6l3gh5eajWIY"
      },
      "outputs": [],
      "source": [
        "from scipy.optimize import differential_evolution"
      ]
    },
    {
      "cell_type": "markdown",
      "metadata": {
        "id": "R86w9oy0d6CM"
      },
      "source": [
        "# Introducción\n",
        "\n",
        "La estimación de la temperatura en el océano es una necesidad para el desarrollo de proyectos de generación sustentable de energía eléctrica. Por ejemplo, la tecnología Ocean Thermal Energy Conversion (OTEC), aprovecha el gradiente de temperatura entre la superficie marina y el fondo, sin embargo, su funcionamiento exige una diferencia de 20 grados centígrados, por lo menos, entre dos puntos cercanos en el océano. Puedes profundizar más sobre este tema en el siguiente enlace:    \n",
        "\n",
        "https://www.tudelft.nl/oceanenergy/research/thermal-gradient-otec\n",
        "\n"
      ]
    },
    {
      "cell_type": "markdown",
      "metadata": {
        "id": "W5jYqxGkSFyH"
      },
      "source": [
        "# Objetivo\n",
        "\n",
        "El objetivo de este proyecto es el construir un modelo no lineal de la temperatura del Mar Caribe mexicano a partir de un conjunto de datos, que sirva como referencia para ubicar sitios con potencial para explotar el gradiente térmico en la generación de energía eléctrica.\n"
      ]
    },
    {
      "cell_type": "markdown",
      "metadata": {
        "id": "HkSl28CituV1"
      },
      "source": [
        "# Datos\n",
        "\n",
        "El conjunto con el que desarrollarás este proyecto se compone de valores de temperatura muestraedos en diferentes sitios del Mar Caribe. Buscamos diseñar un modelo con el que podamos estimar la temperatura del mar (variable $\\texttt{Temperature}$) a partir de los siguientes predictores:\n",
        "\n",
        "* $\\texttt{Depth}$:  profundidad\n",
        "* $\\texttt{Latitude}$: latitud geográfica\n",
        "* $\\texttt{Longitude}$: longitud geográfica\n",
        "* $\\texttt{Ts}$: temperatura superficial\n",
        "* $\\texttt{Month}$: mes del año.\n",
        "\n",
        "La siguiente celda muestra las primeras filas de este conjunto.\n"
      ]
    },
    {
      "cell_type": "code",
      "execution_count": null,
      "metadata": {
        "colab": {
          "base_uri": "https://localhost:8080/",
          "height": 206
        },
        "id": "Md7TMCaBeNiW",
        "outputId": "cb0a8805-4b77-4f1f-90d3-0f3abf050e10"
      },
      "outputs": [
        {
          "output_type": "execute_result",
          "data": {
            "text/plain": [
              "   Depth  Temperature     Cast           Cruise  Latitude  Longitude  Day  \\\n",
              "0    0.0         29.1  3678873  GB-0                19.85     -86.75   15   \n",
              "1    5.0         29.1  3678873  GB-0                19.85     -86.75   15   \n",
              "2   10.0         29.1  3678873  GB-0                19.85     -86.75   15   \n",
              "3   15.0         29.1  3678873  GB-0                19.85     -86.75   15   \n",
              "4   20.0         29.1  3678873  GB-0                19.85     -86.75   15   \n",
              "\n",
              "   Month  Year         Ts  \n",
              "0      9  1981  15.184821  \n",
              "1      9  1981  15.184821  \n",
              "2      9  1981  15.184821  \n",
              "3      9  1981  15.184821  \n",
              "4      9  1981  15.184821  "
            ],
            "text/html": [
              "\n",
              "  <div id=\"df-b405fb09-f243-4ec6-85d3-8cfbc3832836\">\n",
              "    <div class=\"colab-df-container\">\n",
              "      <div>\n",
              "<style scoped>\n",
              "    .dataframe tbody tr th:only-of-type {\n",
              "        vertical-align: middle;\n",
              "    }\n",
              "\n",
              "    .dataframe tbody tr th {\n",
              "        vertical-align: top;\n",
              "    }\n",
              "\n",
              "    .dataframe thead th {\n",
              "        text-align: right;\n",
              "    }\n",
              "</style>\n",
              "<table border=\"1\" class=\"dataframe\">\n",
              "  <thead>\n",
              "    <tr style=\"text-align: right;\">\n",
              "      <th></th>\n",
              "      <th>Depth</th>\n",
              "      <th>Temperature</th>\n",
              "      <th>Cast</th>\n",
              "      <th>Cruise</th>\n",
              "      <th>Latitude</th>\n",
              "      <th>Longitude</th>\n",
              "      <th>Day</th>\n",
              "      <th>Month</th>\n",
              "      <th>Year</th>\n",
              "      <th>Ts</th>\n",
              "    </tr>\n",
              "  </thead>\n",
              "  <tbody>\n",
              "    <tr>\n",
              "      <th>0</th>\n",
              "      <td>0.0</td>\n",
              "      <td>29.1</td>\n",
              "      <td>3678873</td>\n",
              "      <td>GB-0</td>\n",
              "      <td>19.85</td>\n",
              "      <td>-86.75</td>\n",
              "      <td>15</td>\n",
              "      <td>9</td>\n",
              "      <td>1981</td>\n",
              "      <td>15.184821</td>\n",
              "    </tr>\n",
              "    <tr>\n",
              "      <th>1</th>\n",
              "      <td>5.0</td>\n",
              "      <td>29.1</td>\n",
              "      <td>3678873</td>\n",
              "      <td>GB-0</td>\n",
              "      <td>19.85</td>\n",
              "      <td>-86.75</td>\n",
              "      <td>15</td>\n",
              "      <td>9</td>\n",
              "      <td>1981</td>\n",
              "      <td>15.184821</td>\n",
              "    </tr>\n",
              "    <tr>\n",
              "      <th>2</th>\n",
              "      <td>10.0</td>\n",
              "      <td>29.1</td>\n",
              "      <td>3678873</td>\n",
              "      <td>GB-0</td>\n",
              "      <td>19.85</td>\n",
              "      <td>-86.75</td>\n",
              "      <td>15</td>\n",
              "      <td>9</td>\n",
              "      <td>1981</td>\n",
              "      <td>15.184821</td>\n",
              "    </tr>\n",
              "    <tr>\n",
              "      <th>3</th>\n",
              "      <td>15.0</td>\n",
              "      <td>29.1</td>\n",
              "      <td>3678873</td>\n",
              "      <td>GB-0</td>\n",
              "      <td>19.85</td>\n",
              "      <td>-86.75</td>\n",
              "      <td>15</td>\n",
              "      <td>9</td>\n",
              "      <td>1981</td>\n",
              "      <td>15.184821</td>\n",
              "    </tr>\n",
              "    <tr>\n",
              "      <th>4</th>\n",
              "      <td>20.0</td>\n",
              "      <td>29.1</td>\n",
              "      <td>3678873</td>\n",
              "      <td>GB-0</td>\n",
              "      <td>19.85</td>\n",
              "      <td>-86.75</td>\n",
              "      <td>15</td>\n",
              "      <td>9</td>\n",
              "      <td>1981</td>\n",
              "      <td>15.184821</td>\n",
              "    </tr>\n",
              "  </tbody>\n",
              "</table>\n",
              "</div>\n",
              "      <button class=\"colab-df-convert\" onclick=\"convertToInteractive('df-b405fb09-f243-4ec6-85d3-8cfbc3832836')\"\n",
              "              title=\"Convert this dataframe to an interactive table.\"\n",
              "              style=\"display:none;\">\n",
              "        \n",
              "  <svg xmlns=\"http://www.w3.org/2000/svg\" height=\"24px\"viewBox=\"0 0 24 24\"\n",
              "       width=\"24px\">\n",
              "    <path d=\"M0 0h24v24H0V0z\" fill=\"none\"/>\n",
              "    <path d=\"M18.56 5.44l.94 2.06.94-2.06 2.06-.94-2.06-.94-.94-2.06-.94 2.06-2.06.94zm-11 1L8.5 8.5l.94-2.06 2.06-.94-2.06-.94L8.5 2.5l-.94 2.06-2.06.94zm10 10l.94 2.06.94-2.06 2.06-.94-2.06-.94-.94-2.06-.94 2.06-2.06.94z\"/><path d=\"M17.41 7.96l-1.37-1.37c-.4-.4-.92-.59-1.43-.59-.52 0-1.04.2-1.43.59L10.3 9.45l-7.72 7.72c-.78.78-.78 2.05 0 2.83L4 21.41c.39.39.9.59 1.41.59.51 0 1.02-.2 1.41-.59l7.78-7.78 2.81-2.81c.8-.78.8-2.07 0-2.86zM5.41 20L4 18.59l7.72-7.72 1.47 1.35L5.41 20z\"/>\n",
              "  </svg>\n",
              "      </button>\n",
              "      \n",
              "  <style>\n",
              "    .colab-df-container {\n",
              "      display:flex;\n",
              "      flex-wrap:wrap;\n",
              "      gap: 12px;\n",
              "    }\n",
              "\n",
              "    .colab-df-convert {\n",
              "      background-color: #E8F0FE;\n",
              "      border: none;\n",
              "      border-radius: 50%;\n",
              "      cursor: pointer;\n",
              "      display: none;\n",
              "      fill: #1967D2;\n",
              "      height: 32px;\n",
              "      padding: 0 0 0 0;\n",
              "      width: 32px;\n",
              "    }\n",
              "\n",
              "    .colab-df-convert:hover {\n",
              "      background-color: #E2EBFA;\n",
              "      box-shadow: 0px 1px 2px rgba(60, 64, 67, 0.3), 0px 1px 3px 1px rgba(60, 64, 67, 0.15);\n",
              "      fill: #174EA6;\n",
              "    }\n",
              "\n",
              "    [theme=dark] .colab-df-convert {\n",
              "      background-color: #3B4455;\n",
              "      fill: #D2E3FC;\n",
              "    }\n",
              "\n",
              "    [theme=dark] .colab-df-convert:hover {\n",
              "      background-color: #434B5C;\n",
              "      box-shadow: 0px 1px 3px 1px rgba(0, 0, 0, 0.15);\n",
              "      filter: drop-shadow(0px 1px 2px rgba(0, 0, 0, 0.3));\n",
              "      fill: #FFFFFF;\n",
              "    }\n",
              "  </style>\n",
              "\n",
              "      <script>\n",
              "        const buttonEl =\n",
              "          document.querySelector('#df-b405fb09-f243-4ec6-85d3-8cfbc3832836 button.colab-df-convert');\n",
              "        buttonEl.style.display =\n",
              "          google.colab.kernel.accessAllowed ? 'block' : 'none';\n",
              "\n",
              "        async function convertToInteractive(key) {\n",
              "          const element = document.querySelector('#df-b405fb09-f243-4ec6-85d3-8cfbc3832836');\n",
              "          const dataTable =\n",
              "            await google.colab.kernel.invokeFunction('convertToInteractive',\n",
              "                                                     [key], {});\n",
              "          if (!dataTable) return;\n",
              "\n",
              "          const docLinkHtml = 'Like what you see? Visit the ' +\n",
              "            '<a target=\"_blank\" href=https://colab.research.google.com/notebooks/data_table.ipynb>data table notebook</a>'\n",
              "            + ' to learn more about interactive tables.';\n",
              "          element.innerHTML = '';\n",
              "          dataTable['output_type'] = 'display_data';\n",
              "          await google.colab.output.renderOutput(dataTable, element);\n",
              "          const docLink = document.createElement('div');\n",
              "          docLink.innerHTML = docLinkHtml;\n",
              "          element.appendChild(docLink);\n",
              "        }\n",
              "      </script>\n",
              "    </div>\n",
              "  </div>\n",
              "  "
            ]
          },
          "metadata": {},
          "execution_count": 3
        }
      ],
      "source": [
        "data = pd.read_csv(\"datos_tmp.csv\")\n",
        "data = data.drop([\"Unnamed: 0\"], axis=1)\n",
        "data.head()"
      ]
    },
    {
      "cell_type": "markdown",
      "metadata": {
        "id": "r4cY2697oES4"
      },
      "source": [
        "El principal predictor de la temperatura es la profundidad en la que se debe estimar. En la siguiente celda puedes ver la gráfica de dispersión mostrando el patrón que sigue la temperatura en función de la profundidad.    "
      ]
    },
    {
      "cell_type": "code",
      "execution_count": null,
      "metadata": {
        "id": "WaK70dJJeNk-",
        "outputId": "9a94ab98-e86f-4cb2-bfea-14162f90d951",
        "colab": {
          "base_uri": "https://localhost:8080/",
          "height": 279
        }
      },
      "outputs": [
        {
          "output_type": "display_data",
          "data": {
            "text/plain": [
              "<Figure size 432x288 with 1 Axes>"
            ],
            "image/png": "[encoded data removed]"
          },
          "metadata": {
            "needs_background": "light"
          }
        }
      ],
      "source": [
        "plt.plot(data[\"Depth\"], data[\"Temperature\"], \"b.\", alpha=0.05)\n",
        "plt.xlabel(\"Profundidad\")\n",
        "plt.ylabel(\"Temperatura\")\n",
        "plt.show()"
      ]
    },
    {
      "cell_type": "markdown",
      "metadata": {
        "id": "L7Y5PCalpgCo"
      },
      "source": [
        "Observamos que la temperatura alcanza valores entre 25 y 30 grados cerca de la superficie y desciende hasta los 4 grados a partir de los 1000 metros.\n",
        "\n",
        "## Dos patrones\n",
        "\n",
        "La dispersión podría explicarse mediante dos patrones. El primero se identifica cerca de la superficie, posiblemente hasta alrededor de 150-180 metros de profundidad, en el que la temperatura tiene un descenso poco pronunciado (posiblemente lineal). Inmediatemante después, identificamos un segundo patrón caracterizado por una disminución drástica de la temperatura, hasta tender a los 4 grados centígrados en la parte más profunda. Este último patrón parece ajustarse a una exponencial.\n"
      ]
    },
    {
      "cell_type": "markdown",
      "metadata": {
        "id": "GWuVvCLtrvWo"
      },
      "source": [
        "## Modelo básico\n",
        "\n",
        "Podemos pensar en un primer modelo en el que utilicemos solamente la profundidad, $z$, como predictor de la temperatura. El modelo puede tener la siguiente estructura:\n",
        "\n",
        "$$\n",
        "  \\widehat{T}(z) =\n",
        "  \\begin{cases}\n",
        "    a_0+a_1z, & z < z_0 \\\\\n",
        "    b_0+b_1e^{b_2 z}, & z\\geq z_0 \\\\\n",
        "  \\end{cases}\n",
        "$$\n",
        "\n",
        "Siendo $a_0, a_1, b_0, b_1$ y $b_2$ números reales (los parámetros del modelo), mientras que $z_0$ es la profundidad en la que termina el primer patrón del modelo e inicia el segundo.\n",
        "\n",
        "Los parámetros pueden determinarse minimizando el promedio del valor absoluto del error de predicción:\n",
        "\n",
        "$$MAE(a_0, a_1, b_0, b_1, b_2, z_0) = \\frac{1}{N}\\sum_{i=1}^N|T_i-\\widehat{T}(z_i)|$$\n",
        "\n",
        "siendo $T_i$ la temperatura registrada en la i-ésima fila de la tabla de datos y $\\widehat{T}(z_i)$ la estimada por el modelo para la profundidad $z_i$ (en la que se registró $T_i$).\n",
        "\n",
        "**Utiliza algún algoritmo evolutivo para ajustar los parámetros del modelo**\n",
        "\n",
        "\n"
      ]
    },
    {
      "cell_type": "markdown",
      "metadata": {
        "id": "zgH0qf2ivV1W"
      },
      "source": [
        "# Distribución espacial\n",
        "\n",
        "Las posiciones en las que se tomaron las muestras de temperatura se pueden observar en el siguiente mapa:"
      ]
    },
    {
      "cell_type": "code",
      "execution_count": null,
      "metadata": {
        "colab": {
          "base_uri": "https://localhost:8080/",
          "height": 238
        },
        "id": "hi7ugkVIvYId",
        "outputId": "b29566d7-2321-4400-e889-a54a702fe5eb"
      },
      "outputs": [
        {
          "output_type": "execute_result",
          "data": {
            "text/plain": [
              "         Latitude  Longitude\n",
              "Cast                        \n",
              "2711244    21.075    -86.058\n",
              "2711245    21.090    -86.000\n",
              "2711247    21.107    -85.933\n",
              "2711259    20.842    -86.542\n",
              "2711260    20.817    -86.575"
            ],
            "text/html": [
              "\n",
              "  <div id=\"df-2f26077a-10b9-4165-889d-6d8d23f19fe6\">\n",
              "    <div class=\"colab-df-container\">\n",
              "      <div>\n",
              "<style scoped>\n",
              "    .dataframe tbody tr th:only-of-type {\n",
              "        vertical-align: middle;\n",
              "    }\n",
              "\n",
              "    .dataframe tbody tr th {\n",
              "        vertical-align: top;\n",
              "    }\n",
              "\n",
              "    .dataframe thead th {\n",
              "        text-align: right;\n",
              "    }\n",
              "</style>\n",
              "<table border=\"1\" class=\"dataframe\">\n",
              "  <thead>\n",
              "    <tr style=\"text-align: right;\">\n",
              "      <th></th>\n",
              "      <th>Latitude</th>\n",
              "      <th>Longitude</th>\n",
              "    </tr>\n",
              "    <tr>\n",
              "      <th>Cast</th>\n",
              "      <th></th>\n",
              "      <th></th>\n",
              "    </tr>\n",
              "  </thead>\n",
              "  <tbody>\n",
              "    <tr>\n",
              "      <th>2711244</th>\n",
              "      <td>21.075</td>\n",
              "      <td>-86.058</td>\n",
              "    </tr>\n",
              "    <tr>\n",
              "      <th>2711245</th>\n",
              "      <td>21.090</td>\n",
              "      <td>-86.000</td>\n",
              "    </tr>\n",
              "    <tr>\n",
              "      <th>2711247</th>\n",
              "      <td>21.107</td>\n",
              "      <td>-85.933</td>\n",
              "    </tr>\n",
              "    <tr>\n",
              "      <th>2711259</th>\n",
              "      <td>20.842</td>\n",
              "      <td>-86.542</td>\n",
              "    </tr>\n",
              "    <tr>\n",
              "      <th>2711260</th>\n",
              "      <td>20.817</td>\n",
              "      <td>-86.575</td>\n",
              "    </tr>\n",
              "  </tbody>\n",
              "</table>\n",
              "</div>\n",
              "      <button class=\"colab-df-convert\" onclick=\"convertToInteractive('df-2f26077a-10b9-4165-889d-6d8d23f19fe6')\"\n",
              "              title=\"Convert this dataframe to an interactive table.\"\n",
              "              style=\"display:none;\">\n",
              "        \n",
              "  <svg xmlns=\"http://www.w3.org/2000/svg\" height=\"24px\"viewBox=\"0 0 24 24\"\n",
              "       width=\"24px\">\n",
              "    <path d=\"M0 0h24v24H0V0z\" fill=\"none\"/>\n",
              "    <path d=\"M18.56 5.44l.94 2.06.94-2.06 2.06-.94-2.06-.94-.94-2.06-.94 2.06-2.06.94zm-11 1L8.5 8.5l.94-2.06 2.06-.94-2.06-.94L8.5 2.5l-.94 2.06-2.06.94zm10 10l.94 2.06.94-2.06 2.06-.94-2.06-.94-.94-2.06-.94 2.06-2.06.94z\"/><path d=\"M17.41 7.96l-1.37-1.37c-.4-.4-.92-.59-1.43-.59-.52 0-1.04.2-1.43.59L10.3 9.45l-7.72 7.72c-.78.78-.78 2.05 0 2.83L4 21.41c.39.39.9.59 1.41.59.51 0 1.02-.2 1.41-.59l7.78-7.78 2.81-2.81c.8-.78.8-2.07 0-2.86zM5.41 20L4 18.59l7.72-7.72 1.47 1.35L5.41 20z\"/>\n",
              "  </svg>\n",
              "      </button>\n",
              "      \n",
              "  <style>\n",
              "    .colab-df-container {\n",
              "      display:flex;\n",
              "      flex-wrap:wrap;\n",
              "      gap: 12px;\n",
              "    }\n",
              "\n",
              "    .colab-df-convert {\n",
              "      background-color: #E8F0FE;\n",
              "      border: none;\n",
              "      border-radius: 50%;\n",
              "      cursor: pointer;\n",
              "      display: none;\n",
              "      fill: #1967D2;\n",
              "      height: 32px;\n",
              "      padding: 0 0 0 0;\n",
              "      width: 32px;\n",
              "    }\n",
              "\n",
              "    .colab-df-convert:hover {\n",
              "      background-color: #E2EBFA;\n",
              "      box-shadow: 0px 1px 2px rgba(60, 64, 67, 0.3), 0px 1px 3px 1px rgba(60, 64, 67, 0.15);\n",
              "      fill: #174EA6;\n",
              "    }\n",
              "\n",
              "    [theme=dark] .colab-df-convert {\n",
              "      background-color: #3B4455;\n",
              "      fill: #D2E3FC;\n",
              "    }\n",
              "\n",
              "    [theme=dark] .colab-df-convert:hover {\n",
              "      background-color: #434B5C;\n",
              "      box-shadow: 0px 1px 3px 1px rgba(0, 0, 0, 0.15);\n",
              "      filter: drop-shadow(0px 1px 2px rgba(0, 0, 0, 0.3));\n",
              "      fill: #FFFFFF;\n",
              "    }\n",
              "  </style>\n",
              "\n",
              "      <script>\n",
              "        const buttonEl =\n",
              "          document.querySelector('#df-2f26077a-10b9-4165-889d-6d8d23f19fe6 button.colab-df-convert');\n",
              "        buttonEl.style.display =\n",
              "          google.colab.kernel.accessAllowed ? 'block' : 'none';\n",
              "\n",
              "        async function convertToInteractive(key) {\n",
              "          const element = document.querySelector('#df-2f26077a-10b9-4165-889d-6d8d23f19fe6');\n",
              "          const dataTable =\n",
              "            await google.colab.kernel.invokeFunction('convertToInteractive',\n",
              "                                                     [key], {});\n",
              "          if (!dataTable) return;\n",
              "\n",
              "          const docLinkHtml = 'Like what you see? Visit the ' +\n",
              "            '<a target=\"_blank\" href=https://colab.research.google.com/notebooks/data_table.ipynb>data table notebook</a>'\n",
              "            + ' to learn more about interactive tables.';\n",
              "          element.innerHTML = '';\n",
              "          dataTable['output_type'] = 'display_data';\n",
              "          await google.colab.output.renderOutput(dataTable, element);\n",
              "          const docLink = document.createElement('div');\n",
              "          docLink.innerHTML = docLinkHtml;\n",
              "          element.appendChild(docLink);\n",
              "        }\n",
              "      </script>\n",
              "    </div>\n",
              "  </div>\n",
              "  "
            ]
          },
          "metadata": {},
          "execution_count": 5
        }
      ],
      "source": [
        "casts = data[[\"Cast\", \"Latitude\", \"Longitude\"]]\n",
        "casts_loc =  casts.groupby([\"Cast\"]).last()\n",
        "casts_loc.head()"
      ]
    },
    {
      "cell_type": "code",
      "execution_count": null,
      "metadata": {
        "colab": {
          "base_uri": "https://localhost:8080/"
        },
        "id": "NVsFxqRlvhgM",
        "outputId": "33dfbc8c-b25d-4952-e045-1bae44320379"
      },
      "outputs": [
        {
          "output_type": "stream",
          "name": "stdout",
          "text": [
            "Looking in indexes: https://pypi.org/simple, https://us-python.pkg.dev/colab-wheels/public/simple/\n",
            "Requirement already satisfied: ipyleaflet in /usr/local/lib/python3.9/dist-packages (0.17.2)\n",
            "Requirement already satisfied: branca>=0.5.0 in /usr/local/lib/python3.9/dist-packages (from ipyleaflet) (0.6.0)\n",
            "Requirement already satisfied: ipywidgets<9,>=7.6.0 in /usr/local/lib/python3.9/dist-packages (from ipyleaflet) (7.7.1)\n",
            "Requirement already satisfied: xyzservices>=2021.8.1 in /usr/local/lib/python3.9/dist-packages (from ipyleaflet) (2023.2.0)\n",
            "Requirement already satisfied: traittypes<3,>=0.2.1 in /usr/local/lib/python3.9/dist-packages (from ipyleaflet) (0.2.1)\n",
            "Requirement already satisfied: jinja2 in /usr/local/lib/python3.9/dist-packages (from branca>=0.5.0->ipyleaflet) (3.1.2)\n",
            "Requirement already satisfied: ipython-genutils~=0.2.0 in /usr/local/lib/python3.9/dist-packages (from ipywidgets<9,>=7.6.0->ipyleaflet) (0.2.0)\n",
            "Requirement already satisfied: jupyterlab-widgets>=1.0.0 in /usr/local/lib/python3.9/dist-packages (from ipywidgets<9,>=7.6.0->ipyleaflet) (3.0.5)\n",
            "Requirement already satisfied: traitlets>=4.3.1 in /usr/local/lib/python3.9/dist-packages (from ipywidgets<9,>=7.6.0->ipyleaflet) (5.7.1)\n",
            "Requirement already satisfied: ipykernel>=4.5.1 in /usr/local/lib/python3.9/dist-packages (from ipywidgets<9,>=7.6.0->ipyleaflet) (5.3.4)\n",
            "Requirement already satisfied: widgetsnbextension~=3.6.0 in /usr/local/lib/python3.9/dist-packages (from ipywidgets<9,>=7.6.0->ipyleaflet) (3.6.2)\n",
            "Requirement already satisfied: ipython>=4.0.0 in /usr/local/lib/python3.9/dist-packages (from ipywidgets<9,>=7.6.0->ipyleaflet) (7.9.0)\n",
            "Requirement already satisfied: jupyter-client in /usr/local/lib/python3.9/dist-packages (from ipykernel>=4.5.1->ipywidgets<9,>=7.6.0->ipyleaflet) (6.1.12)\n",
            "Requirement already satisfied: tornado>=4.2 in /usr/local/lib/python3.9/dist-packages (from ipykernel>=4.5.1->ipywidgets<9,>=7.6.0->ipyleaflet) (6.2)\n",
            "Requirement already satisfied: jedi>=0.10 in /usr/local/lib/python3.9/dist-packages (from ipython>=4.0.0->ipywidgets<9,>=7.6.0->ipyleaflet) (0.18.2)\n",
            "Requirement already satisfied: decorator in /usr/local/lib/python3.9/dist-packages (from ipython>=4.0.0->ipywidgets<9,>=7.6.0->ipyleaflet) (4.4.2)\n",
            "Requirement already satisfied: backcall in /usr/local/lib/python3.9/dist-packages (from ipython>=4.0.0->ipywidgets<9,>=7.6.0->ipyleaflet) (0.2.0)\n",
            "Requirement already satisfied: pickleshare in /usr/local/lib/python3.9/dist-packages (from ipython>=4.0.0->ipywidgets<9,>=7.6.0->ipyleaflet) (0.7.5)\n",
            "Requirement already satisfied: prompt-toolkit<2.1.0,>=2.0.0 in /usr/local/lib/python3.9/dist-packages (from ipython>=4.0.0->ipywidgets<9,>=7.6.0->ipyleaflet) (2.0.10)\n",
            "Requirement already satisfied: pexpect in /usr/local/lib/python3.9/dist-packages (from ipython>=4.0.0->ipywidgets<9,>=7.6.0->ipyleaflet) (4.8.0)\n",
            "Requirement already satisfied: setuptools>=18.5 in /usr/local/lib/python3.9/dist-packages (from ipython>=4.0.0->ipywidgets<9,>=7.6.0->ipyleaflet) (57.4.0)\n",
            "Requirement already satisfied: pygments in /usr/local/lib/python3.9/dist-packages (from ipython>=4.0.0->ipywidgets<9,>=7.6.0->ipyleaflet) (2.6.1)\n",
            "Requirement already satisfied: notebook>=4.4.1 in /usr/local/lib/python3.9/dist-packages (from widgetsnbextension~=3.6.0->ipywidgets<9,>=7.6.0->ipyleaflet) (6.3.0)\n",
            "Requirement already satisfied: MarkupSafe>=2.0 in /usr/local/lib/python3.9/dist-packages (from jinja2->branca>=0.5.0->ipyleaflet) (2.1.2)\n",
            "Requirement already satisfied: parso<0.9.0,>=0.8.0 in /usr/local/lib/python3.9/dist-packages (from jedi>=0.10->ipython>=4.0.0->ipywidgets<9,>=7.6.0->ipyleaflet) (0.8.3)\n",
            "Requirement already satisfied: prometheus-client in /usr/local/lib/python3.9/dist-packages (from notebook>=4.4.1->widgetsnbextension~=3.6.0->ipywidgets<9,>=7.6.0->ipyleaflet) (0.16.0)\n",
            "Requirement already satisfied: jupyter-core>=4.6.1 in /usr/local/lib/python3.9/dist-packages (from notebook>=4.4.1->widgetsnbextension~=3.6.0->ipywidgets<9,>=7.6.0->ipyleaflet) (5.2.0)\n",
            "Requirement already satisfied: nbconvert in /usr/local/lib/python3.9/dist-packages (from notebook>=4.4.1->widgetsnbextension~=3.6.0->ipywidgets<9,>=7.6.0->ipyleaflet) (6.5.4)\n",
            "Requirement already satisfied: terminado>=0.8.3 in /usr/local/lib/python3.9/dist-packages (from notebook>=4.4.1->widgetsnbextension~=3.6.0->ipywidgets<9,>=7.6.0->ipyleaflet) (0.17.1)\n",
            "Requirement already satisfied: argon2-cffi in /usr/local/lib/python3.9/dist-packages (from notebook>=4.4.1->widgetsnbextension~=3.6.0->ipywidgets<9,>=7.6.0->ipyleaflet) (21.3.0)\n",
            "Requirement already satisfied: nbformat in /usr/local/lib/python3.9/dist-packages (from notebook>=4.4.1->widgetsnbextension~=3.6.0->ipywidgets<9,>=7.6.0->ipyleaflet) (5.7.3)\n",
            "Requirement already satisfied: Send2Trash>=1.5.0 in /usr/local/lib/python3.9/dist-packages (from notebook>=4.4.1->widgetsnbextension~=3.6.0->ipywidgets<9,>=7.6.0->ipyleaflet) (1.8.0)\n",
            "Requirement already satisfied: pyzmq>=17 in /usr/local/lib/python3.9/dist-packages (from notebook>=4.4.1->widgetsnbextension~=3.6.0->ipywidgets<9,>=7.6.0->ipyleaflet) (23.2.1)\n",
            "Requirement already satisfied: python-dateutil>=2.1 in /usr/local/lib/python3.9/dist-packages (from jupyter-client->ipykernel>=4.5.1->ipywidgets<9,>=7.6.0->ipyleaflet) (2.8.2)\n",
            "Requirement already satisfied: wcwidth in /usr/local/lib/python3.9/dist-packages (from prompt-toolkit<2.1.0,>=2.0.0->ipython>=4.0.0->ipywidgets<9,>=7.6.0->ipyleaflet) (0.2.6)\n",
            "Requirement already satisfied: six>=1.9.0 in /usr/local/lib/python3.9/dist-packages (from prompt-toolkit<2.1.0,>=2.0.0->ipython>=4.0.0->ipywidgets<9,>=7.6.0->ipyleaflet) (1.15.0)\n",
            "Requirement already satisfied: ptyprocess>=0.5 in /usr/local/lib/python3.9/dist-packages (from pexpect->ipython>=4.0.0->ipywidgets<9,>=7.6.0->ipyleaflet) (0.7.0)\n",
            "Requirement already satisfied: platformdirs>=2.5 in /usr/local/lib/python3.9/dist-packages (from jupyter-core>=4.6.1->notebook>=4.4.1->widgetsnbextension~=3.6.0->ipywidgets<9,>=7.6.0->ipyleaflet) (3.1.0)\n",
            "Requirement already satisfied: argon2-cffi-bindings in /usr/local/lib/python3.9/dist-packages (from argon2-cffi->notebook>=4.4.1->widgetsnbextension~=3.6.0->ipywidgets<9,>=7.6.0->ipyleaflet) (21.2.0)\n",
            "Requirement already satisfied: entrypoints>=0.2.2 in /usr/local/lib/python3.9/dist-packages (from nbconvert->notebook>=4.4.1->widgetsnbextension~=3.6.0->ipywidgets<9,>=7.6.0->ipyleaflet) (0.4)\n",
            "Requirement already satisfied: bleach in /usr/local/lib/python3.9/dist-packages (from nbconvert->notebook>=4.4.1->widgetsnbextension~=3.6.0->ipywidgets<9,>=7.6.0->ipyleaflet) (6.0.0)\n",
            "Requirement already satisfied: beautifulsoup4 in /usr/local/lib/python3.9/dist-packages (from nbconvert->notebook>=4.4.1->widgetsnbextension~=3.6.0->ipywidgets<9,>=7.6.0->ipyleaflet) (4.6.3)\n",
            "Requirement already satisfied: jupyterlab-pygments in /usr/local/lib/python3.9/dist-packages (from nbconvert->notebook>=4.4.1->widgetsnbextension~=3.6.0->ipywidgets<9,>=7.6.0->ipyleaflet) (0.2.2)\n",
            "Requirement already satisfied: tinycss2 in /usr/local/lib/python3.9/dist-packages (from nbconvert->notebook>=4.4.1->widgetsnbextension~=3.6.0->ipywidgets<9,>=7.6.0->ipyleaflet) (1.2.1)\n",
            "Requirement already satisfied: nbclient>=0.5.0 in /usr/local/lib/python3.9/dist-packages (from nbconvert->notebook>=4.4.1->widgetsnbextension~=3.6.0->ipywidgets<9,>=7.6.0->ipyleaflet) (0.7.2)\n",
            "Requirement already satisfied: defusedxml in /usr/local/lib/python3.9/dist-packages (from nbconvert->notebook>=4.4.1->widgetsnbextension~=3.6.0->ipywidgets<9,>=7.6.0->ipyleaflet) (0.7.1)\n",
            "Requirement already satisfied: mistune<2,>=0.8.1 in /usr/local/lib/python3.9/dist-packages (from nbconvert->notebook>=4.4.1->widgetsnbextension~=3.6.0->ipywidgets<9,>=7.6.0->ipyleaflet) (0.8.4)\n",
            "Requirement already satisfied: pandocfilters>=1.4.1 in /usr/local/lib/python3.9/dist-packages (from nbconvert->notebook>=4.4.1->widgetsnbextension~=3.6.0->ipywidgets<9,>=7.6.0->ipyleaflet) (1.5.0)\n",
            "Requirement already satisfied: lxml in /usr/local/lib/python3.9/dist-packages (from nbconvert->notebook>=4.4.1->widgetsnbextension~=3.6.0->ipywidgets<9,>=7.6.0->ipyleaflet) (4.9.2)\n",
            "Requirement already satisfied: packaging in /usr/local/lib/python3.9/dist-packages (from nbconvert->notebook>=4.4.1->widgetsnbextension~=3.6.0->ipywidgets<9,>=7.6.0->ipyleaflet) (23.0)\n",
            "Requirement already satisfied: fastjsonschema in /usr/local/lib/python3.9/dist-packages (from nbformat->notebook>=4.4.1->widgetsnbextension~=3.6.0->ipywidgets<9,>=7.6.0->ipyleaflet) (2.16.3)\n",
            "Requirement already satisfied: jsonschema>=2.6 in /usr/local/lib/python3.9/dist-packages (from nbformat->notebook>=4.4.1->widgetsnbextension~=3.6.0->ipywidgets<9,>=7.6.0->ipyleaflet) (4.3.3)\n",
            "Requirement already satisfied: pyrsistent!=0.17.0,!=0.17.1,!=0.17.2,>=0.14.0 in /usr/local/lib/python3.9/dist-packages (from jsonschema>=2.6->nbformat->notebook>=4.4.1->widgetsnbextension~=3.6.0->ipywidgets<9,>=7.6.0->ipyleaflet) (0.19.3)\n",
            "Requirement already satisfied: attrs>=17.4.0 in /usr/local/lib/python3.9/dist-packages (from jsonschema>=2.6->nbformat->notebook>=4.4.1->widgetsnbextension~=3.6.0->ipywidgets<9,>=7.6.0->ipyleaflet) (22.2.0)\n",
            "Requirement already satisfied: cffi>=1.0.1 in /usr/local/lib/python3.9/dist-packages (from argon2-cffi-bindings->argon2-cffi->notebook>=4.4.1->widgetsnbextension~=3.6.0->ipywidgets<9,>=7.6.0->ipyleaflet) (1.15.1)\n",
            "Requirement already satisfied: webencodings in /usr/local/lib/python3.9/dist-packages (from bleach->nbconvert->notebook>=4.4.1->widgetsnbextension~=3.6.0->ipywidgets<9,>=7.6.0->ipyleaflet) (0.5.1)\n",
            "Requirement already satisfied: pycparser in /usr/local/lib/python3.9/dist-packages (from cffi>=1.0.1->argon2-cffi-bindings->argon2-cffi->notebook>=4.4.1->widgetsnbextension~=3.6.0->ipywidgets<9,>=7.6.0->ipyleaflet) (2.21)\n"
          ]
        }
      ],
      "source": [
        "!pip install ipyleaflet"
      ]
    },
    {
      "cell_type": "code",
      "execution_count": null,
      "metadata": {
        "id": "Fi8XXx99vmf9"
      },
      "outputs": [],
      "source": [
        "from ipyleaflet import *"
      ]
    },
    {
      "cell_type": "code",
      "execution_count": null,
      "metadata": {
        "id": "n14jUFGovffz"
      },
      "outputs": [],
      "source": [
        "m_casts = Map(center=(21, -86), zoom=6.25, basemap=basemaps.Esri.DeLorme)\n",
        "\n",
        "for i in range(len(casts_loc)):\n",
        "    #mrkr = CircleMarker(location=)\n",
        "    #mrkrs.append(mrkr)\n",
        "\n",
        "    circle = Circle()\n",
        "    circle.location = (casts_loc.iloc[i][\"Latitude\"], casts_loc.iloc[i][\"Longitude\"])\n",
        "    circle.radius = 50\n",
        "    circle.color = \"blue\"\n",
        "    circle.fill_color = \"blue\"\n",
        "\n",
        "    m_casts.add_layer(circle);\n",
        "m_casts\n"
      ]
    },
    {
      "cell_type": "markdown",
      "metadata": {
        "id": "5IEwgGSoxbW8"
      },
      "source": [
        "Dado que las muestras abarcan una región espacial muy amplia, es de esperar que la temperatura medida a una profundidad, en el norte de esta región, sea más baja si se compara con una muestra tomada a la misma profundidad pero al sur. Este razonamiento nos lleva a pensar en extender el modelo para considerar la ubicación geográfica (latitud y longitud) del punto en el que se realizará la estimación.\n",
        "\n",
        "Considera el siguienyte modelo:\n",
        "\n",
        "# Modelo con predictores geográficos  \n",
        "\n",
        "$$\n",
        "T(z)\n",
        "\\begin{cases}\n",
        "    a_0+(a_1+a_2x+a_3y+a_4xy)z,& \\text{ si } z < z_{0}\\\\\n",
        "    &\\\\\n",
        "    b_0+(b_1+b_2x+b_3y+b_4xy)e^{b_5z},& \\text{ si }  z \\geq z_{0}\n",
        "\\end{cases}\n",
        "$$\n",
        "\n",
        "en donde $a_i$ y $b_i$ son parámetros reales que deben determinarse minimizando el promedio del valor absoluto del error. Las variables predictoras son la profundidad, $z$, la latitud, $y$, y la longitud $x$.\n",
        "\n",
        "**Utiliza algún algoritmo evolutivo para ajustar los parámetros del modelo a los datos**\n",
        "\n",
        "\n",
        "\n",
        "\n",
        "\n",
        "\n",
        "\n"
      ]
    },
    {
      "cell_type": "markdown",
      "metadata": {
        "id": "mStsjOHiUVnI"
      },
      "source": [
        "# Otros predictores [reto]\n",
        "\n",
        "Los dos modelos propuestos no consideran predictores que pueden ser importantes en la estimación de la temperatura, como el mes del año o la temperatura observada en la superficie del mar. ¿Se te ocurre alguna idea para integrar esas variables en un nuevo modelo?.  "
      ]
    },
    {
      "cell_type": "markdown",
      "source": [
        "# Modelo basico"
      ],
      "metadata": {
        "id": "E4NGqZ5SSaKH"
      }
    },
    {
      "cell_type": "code",
      "source": [
        "data = pd.read_csv(\"datos_tmp.csv\")\n",
        "data = data.drop([\"Unnamed: 0\"], axis=1)\n",
        "data.head()"
      ],
      "metadata": {
        "id": "SznAGztqF_aT"
      },
      "execution_count": null,
      "outputs": []
    },
    {
      "cell_type": "code",
      "source": [
        "puntoX = data['Depth'].values\n",
        "puntoY = data['Temperature'].values"
      ],
      "metadata": {
        "id": "VY7V6s_jMc44"
      },
      "execution_count": null,
      "outputs": []
    },
    {
      "cell_type": "code",
      "source": [
        "def func_lineal(puntoX,a0,a1):\n",
        "  return a0*puntoX + a1"
      ],
      "metadata": {
        "id": "KwKZNUeVMufH"
      },
      "execution_count": null,
      "outputs": []
    },
    {
      "cell_type": "code",
      "source": [
        "def func_no_lineal(puntoX,b0,b1,b2):\n",
        "  return b0*np.sin(b1*puntoX) + b2"
      ],
      "metadata": {
        "id": "xlEEsD9MNfc1"
      },
      "execution_count": null,
      "outputs": []
    },
    {
      "cell_type": "code",
      "source": [
        "def mae(y_true, y_pred):\n",
        "    return np.mean(np.abs(y_true - y_pred))"
      ],
      "metadata": {
        "id": "TSQG5MzmNwAW"
      },
      "execution_count": null,
      "outputs": []
    },
    {
      "cell_type": "code",
      "source": [
        "def linear_fit(params):\n",
        "    a0,a1 = params\n",
        "    y_pred = func_lineal(puntoX, a0,a1)\n",
        "    return mae(puntoY, y_pred)\n"
      ],
      "metadata": {
        "id": "fZEloHsfNzcA"
      },
      "execution_count": null,
      "outputs": []
    },
    {
      "cell_type": "code",
      "source": [
        "def nonlinear_fit(params):\n",
        "    b0,b1,b2 = params\n",
        "    y_pred = func_no_lineal(puntoX,b0,b1,b2)\n",
        "    return mae(puntoY, y_pred)"
      ],
      "metadata": {
        "id": "g7UyEpBSN4W1"
      },
      "execution_count": null,
      "outputs": []
    },
    {
      "cell_type": "code",
      "source": [
        "bounds = [(-150, 150), (-150, 150)]\n",
        "result_linear = differential_evolution(linear_fit, bounds)\n",
        "a_linear, b_linear = result_linear.x"
      ],
      "metadata": {
        "id": "fZ8qb2ngPw_3"
      },
      "execution_count": null,
      "outputs": []
    },
    {
      "cell_type": "code",
      "source": [
        "bounds = [(0, 180), (0, 2*np.pi), (-150, 150)]\n",
        "result_nonlinear = differential_evolution(nonlinear_fit, bounds)\n",
        "a_nonlinear, b_nonlinear, c_nonlinear = result_nonlinear.x"
      ],
      "metadata": {
        "id": "jYgAq7l3P5pS"
      },
      "execution_count": null,
      "outputs": []
    },
    {
      "cell_type": "code",
      "source": [
        "y_pred_linear = func_lineal(puntoX, a_linear, b_linear)\n",
        "y_pred_nonlinear = func_no_lineal(puntoX, a_nonlinear, b_nonlinear, c_nonlinear)\n",
        "mae_linear = mae(puntoY, y_pred_linear)\n",
        "mae_nonlinear = mae(puntoY, y_pred_nonlinear)"
      ],
      "metadata": {
        "id": "UryUeIAoP81m"
      },
      "execution_count": null,
      "outputs": []
    },
    {
      "cell_type": "code",
      "source": [
        "print(\"Modelo de regresión lineal:\")\n",
        "print(\"Parámetros: a0 = %.2f, a1 = %.2f\" % (a_linear, b_linear))\n",
        "print(\"MAE: %.2f\" % mae_linear)\n",
        "print(\"Modelo de regresión no lineal:\")\n",
        "print(\"Parámetros: b0 = %.2f, b1 = %.2f, b2 = %.2f\" % (a_nonlinear, b_nonlinear, c_nonlinear))\n",
        "print(\"MAE: %.2f\" % mae_nonlinear)"
      ],
      "metadata": {
        "colab": {
          "base_uri": "https://localhost:8080/"
        },
        "id": "UpIEbX9MQLhG",
        "outputId": "d9a1323a-d4b6-4f8e-e7ce-2d4475c8052b"
      },
      "execution_count": null,
      "outputs": [
        {
          "output_type": "stream",
          "name": "stdout",
          "text": [
            "Modelo de regresión lineal:\n",
            "Parámetros: a0 = -0.03, a1 = 26.15\n",
            "MAE: 3.40\n",
            "Modelo de regresión no lineal:\n",
            "Parámetros: b0 = 6.17, b1 = 0.01, b2 = 15.10\n",
            "MAE: 5.29\n"
          ]
        }
      ]
    },
    {
      "cell_type": "code",
      "source": [
        "plt.scatter(puntoX, puntoY )\n",
        "plt.plot(puntoX, y_pred_linear,\"r\")\n",
        "plt.xlabel(\"Profundidad\")\n",
        "plt.ylabel(\"Temperatura\")\n",
        "plt.show()"
      ],
      "metadata": {
        "colab": {
          "base_uri": "https://localhost:8080/",
          "height": 279
        },
        "id": "Isf8C9R-VsRN",
        "outputId": "3538816d-0b99-4f13-bf9b-5aeb4802ad42"
      },
      "execution_count": null,
      "outputs": [
        {
          "output_type": "display_data",
          "data": {
            "text/plain": [
              "<Figure size 432x288 with 1 Axes>"
            ],
            "image/png": "[encoded data removed]"
          },
          "metadata": {
            "needs_background": "light"
          }
        }
      ]
    },
    {
      "cell_type": "code",
      "source": [
        "plt.scatter(puntoX, puntoY )\n",
        "plt.plot(puntoX, y_pred_nonlinear,\"r\")\n",
        "plt.xlabel(\"Profundidad\")\n",
        "plt.ylabel(\"Temperatura\")\n",
        "plt.show()"
      ],
      "metadata": {
        "colab": {
          "base_uri": "https://localhost:8080/",
          "height": 279
        },
        "id": "Uzd3A6zPQYqR",
        "outputId": "62344431-349a-4b22-cb62-43254994b420"
      },
      "execution_count": null,
      "outputs": [
        {
          "output_type": "display_data",
          "data": {
            "text/plain": [
              "<Figure size 432x288 with 1 Axes>"
            ],
            "image/png": "[encoded data removed]"
          },
          "metadata": {
            "needs_background": "light"
          }
        }
      ]
    },
    {
      "cell_type": "code",
      "source": [
        "plt.scatter(puntoX, puntoY )\n",
        "plt.plot(puntoX, y_pred_linear,\"r\")\n",
        "plt.plot(puntoX, y_pred_nonlinear,\"b\")\n",
        "plt.xlabel(\"Profundidad\")\n",
        "plt.ylabel(\"Temperatura\")\n",
        "plt.show()"
      ],
      "metadata": {
        "colab": {
          "base_uri": "https://localhost:8080/",
          "height": 279
        },
        "id": "s4f2QNSKV2bG",
        "outputId": "3cde2d33-3bef-4592-b412-42cc358283aa"
      },
      "execution_count": null,
      "outputs": [
        {
          "output_type": "display_data",
          "data": {
            "text/plain": [
              "<Figure size 432x288 with 1 Axes>"
            ],
            "image/png": "[encoded data removed]"
          },
          "metadata": {
            "needs_background": "light"
          }
        }
      ]
    },
    {
      "cell_type": "markdown",
      "source": [
        "# Modelo con predictores geográficos\n",
        "\n",
        "$$\n",
        "T(z)\n",
        "\\begin{cases}\n",
        "    a_0+(a_1+a_2x+a_3y+a_4xy)z,& \\text{ si } z < z_{0}\\\\\n",
        "    &\\\\\n",
        "    b_0+(b_1+b_2x+b_3y+b_4xy)e^{b_5z},& \\text{ si }  z \\geq z_{0}\n",
        "\\end{cases}\n",
        "$$"
      ],
      "metadata": {
        "id": "CmhAnKmSTgq5"
      }
    },
    {
      "cell_type": "code",
      "source": [
        "data = pd.read_csv(\"datos_tmp.csv\")\n",
        "data = data.drop([\"Unnamed: 0\"], axis=1)\n",
        "data.head()"
      ],
      "metadata": {
        "colab": {
          "base_uri": "https://localhost:8080/",
          "height": 206
        },
        "id": "eRdWOlAdTk-q",
        "outputId": "e20d42ef-7d4b-4919-b6ba-ccb27b95945b"
      },
      "execution_count": null,
      "outputs": [
        {
          "output_type": "execute_result",
          "data": {
            "text/plain": [
              "   Depth  Temperature     Cast           Cruise  Latitude  Longitude  Day  \\\n",
              "0    0.0         29.1  3678873  GB-0                19.85     -86.75   15   \n",
              "1    5.0         29.1  3678873  GB-0                19.85     -86.75   15   \n",
              "2   10.0         29.1  3678873  GB-0                19.85     -86.75   15   \n",
              "3   15.0         29.1  3678873  GB-0                19.85     -86.75   15   \n",
              "4   20.0         29.1  3678873  GB-0                19.85     -86.75   15   \n",
              "\n",
              "   Month  Year         Ts  \n",
              "0      9  1981  15.184821  \n",
              "1      9  1981  15.184821  \n",
              "2      9  1981  15.184821  \n",
              "3      9  1981  15.184821  \n",
              "4      9  1981  15.184821  "
            ],
            "text/html": [
              "\n",
              "  <div id=\"df-0923a527-54b5-488a-83de-6aa93b483341\">\n",
              "    <div class=\"colab-df-container\">\n",
              "      <div>\n",
              "<style scoped>\n",
              "    .dataframe tbody tr th:only-of-type {\n",
              "        vertical-align: middle;\n",
              "    }\n",
              "\n",
              "    .dataframe tbody tr th {\n",
              "        vertical-align: top;\n",
              "    }\n",
              "\n",
              "    .dataframe thead th {\n",
              "        text-align: right;\n",
              "    }\n",
              "</style>\n",
              "<table border=\"1\" class=\"dataframe\">\n",
              "  <thead>\n",
              "    <tr style=\"text-align: right;\">\n",
              "      <th></th>\n",
              "      <th>Depth</th>\n",
              "      <th>Temperature</th>\n",
              "      <th>Cast</th>\n",
              "      <th>Cruise</th>\n",
              "      <th>Latitude</th>\n",
              "      <th>Longitude</th>\n",
              "      <th>Day</th>\n",
              "      <th>Month</th>\n",
              "      <th>Year</th>\n",
              "      <th>Ts</th>\n",
              "    </tr>\n",
              "  </thead>\n",
              "  <tbody>\n",
              "    <tr>\n",
              "      <th>0</th>\n",
              "      <td>0.0</td>\n",
              "      <td>29.1</td>\n",
              "      <td>3678873</td>\n",
              "      <td>GB-0</td>\n",
              "      <td>19.85</td>\n",
              "      <td>-86.75</td>\n",
              "      <td>15</td>\n",
              "      <td>9</td>\n",
              "      <td>1981</td>\n",
              "      <td>15.184821</td>\n",
              "    </tr>\n",
              "    <tr>\n",
              "      <th>1</th>\n",
              "      <td>5.0</td>\n",
              "      <td>29.1</td>\n",
              "      <td>3678873</td>\n",
              "      <td>GB-0</td>\n",
              "      <td>19.85</td>\n",
              "      <td>-86.75</td>\n",
              "      <td>15</td>\n",
              "      <td>9</td>\n",
              "      <td>1981</td>\n",
              "      <td>15.184821</td>\n",
              "    </tr>\n",
              "    <tr>\n",
              "      <th>2</th>\n",
              "      <td>10.0</td>\n",
              "      <td>29.1</td>\n",
              "      <td>3678873</td>\n",
              "      <td>GB-0</td>\n",
              "      <td>19.85</td>\n",
              "      <td>-86.75</td>\n",
              "      <td>15</td>\n",
              "      <td>9</td>\n",
              "      <td>1981</td>\n",
              "      <td>15.184821</td>\n",
              "    </tr>\n",
              "    <tr>\n",
              "      <th>3</th>\n",
              "      <td>15.0</td>\n",
              "      <td>29.1</td>\n",
              "      <td>3678873</td>\n",
              "      <td>GB-0</td>\n",
              "      <td>19.85</td>\n",
              "      <td>-86.75</td>\n",
              "      <td>15</td>\n",
              "      <td>9</td>\n",
              "      <td>1981</td>\n",
              "      <td>15.184821</td>\n",
              "    </tr>\n",
              "    <tr>\n",
              "      <th>4</th>\n",
              "      <td>20.0</td>\n",
              "      <td>29.1</td>\n",
              "      <td>3678873</td>\n",
              "      <td>GB-0</td>\n",
              "      <td>19.85</td>\n",
              "      <td>-86.75</td>\n",
              "      <td>15</td>\n",
              "      <td>9</td>\n",
              "      <td>1981</td>\n",
              "      <td>15.184821</td>\n",
              "    </tr>\n",
              "  </tbody>\n",
              "</table>\n",
              "</div>\n",
              "      <button class=\"colab-df-convert\" onclick=\"convertToInteractive('df-0923a527-54b5-488a-83de-6aa93b483341')\"\n",
              "              title=\"Convert this dataframe to an interactive table.\"\n",
              "              style=\"display:none;\">\n",
              "        \n",
              "  <svg xmlns=\"http://www.w3.org/2000/svg\" height=\"24px\"viewBox=\"0 0 24 24\"\n",
              "       width=\"24px\">\n",
              "    <path d=\"M0 0h24v24H0V0z\" fill=\"none\"/>\n",
              "    <path d=\"M18.56 5.44l.94 2.06.94-2.06 2.06-.94-2.06-.94-.94-2.06-.94 2.06-2.06.94zm-11 1L8.5 8.5l.94-2.06 2.06-.94-2.06-.94L8.5 2.5l-.94 2.06-2.06.94zm10 10l.94 2.06.94-2.06 2.06-.94-2.06-.94-.94-2.06-.94 2.06-2.06.94z\"/><path d=\"M17.41 7.96l-1.37-1.37c-.4-.4-.92-.59-1.43-.59-.52 0-1.04.2-1.43.59L10.3 9.45l-7.72 7.72c-.78.78-.78 2.05 0 2.83L4 21.41c.39.39.9.59 1.41.59.51 0 1.02-.2 1.41-.59l7.78-7.78 2.81-2.81c.8-.78.8-2.07 0-2.86zM5.41 20L4 18.59l7.72-7.72 1.47 1.35L5.41 20z\"/>\n",
              "  </svg>\n",
              "      </button>\n",
              "      \n",
              "  <style>\n",
              "    .colab-df-container {\n",
              "      display:flex;\n",
              "      flex-wrap:wrap;\n",
              "      gap: 12px;\n",
              "    }\n",
              "\n",
              "    .colab-df-convert {\n",
              "      background-color: #E8F0FE;\n",
              "      border: none;\n",
              "      border-radius: 50%;\n",
              "      cursor: pointer;\n",
              "      display: none;\n",
              "      fill: #1967D2;\n",
              "      height: 32px;\n",
              "      padding: 0 0 0 0;\n",
              "      width: 32px;\n",
              "    }\n",
              "\n",
              "    .colab-df-convert:hover {\n",
              "      background-color: #E2EBFA;\n",
              "      box-shadow: 0px 1px 2px rgba(60, 64, 67, 0.3), 0px 1px 3px 1px rgba(60, 64, 67, 0.15);\n",
              "      fill: #174EA6;\n",
              "    }\n",
              "\n",
              "    [theme=dark] .colab-df-convert {\n",
              "      background-color: #3B4455;\n",
              "      fill: #D2E3FC;\n",
              "    }\n",
              "\n",
              "    [theme=dark] .colab-df-convert:hover {\n",
              "      background-color: #434B5C;\n",
              "      box-shadow: 0px 1px 3px 1px rgba(0, 0, 0, 0.15);\n",
              "      filter: drop-shadow(0px 1px 2px rgba(0, 0, 0, 0.3));\n",
              "      fill: #FFFFFF;\n",
              "    }\n",
              "  </style>\n",
              "\n",
              "      <script>\n",
              "        const buttonEl =\n",
              "          document.querySelector('#df-0923a527-54b5-488a-83de-6aa93b483341 button.colab-df-convert');\n",
              "        buttonEl.style.display =\n",
              "          google.colab.kernel.accessAllowed ? 'block' : 'none';\n",
              "\n",
              "        async function convertToInteractive(key) {\n",
              "          const element = document.querySelector('#df-0923a527-54b5-488a-83de-6aa93b483341');\n",
              "          const dataTable =\n",
              "            await google.colab.kernel.invokeFunction('convertToInteractive',\n",
              "                                                     [key], {});\n",
              "          if (!dataTable) return;\n",
              "\n",
              "          const docLinkHtml = 'Like what you see? Visit the ' +\n",
              "            '<a target=\"_blank\" href=https://colab.research.google.com/notebooks/data_table.ipynb>data table notebook</a>'\n",
              "            + ' to learn more about interactive tables.';\n",
              "          element.innerHTML = '';\n",
              "          dataTable['output_type'] = 'display_data';\n",
              "          await google.colab.output.renderOutput(dataTable, element);\n",
              "          const docLink = document.createElement('div');\n",
              "          docLink.innerHTML = docLinkHtml;\n",
              "          element.appendChild(docLink);\n",
              "        }\n",
              "      </script>\n",
              "    </div>\n",
              "  </div>\n",
              "  "
            ]
          },
          "metadata": {},
          "execution_count": 23
        }
      ]
    },
    {
      "cell_type": "code",
      "source": [
        "def fun_lineal(a0,a1,a2,a3,a4):\n",
        "  return"
      ],
      "metadata": {
        "id": "LLtE4RoaTtXT"
      },
      "execution_count": null,
      "outputs": []
    }
  ],
  "metadata": {
    "colab": {
      "provenance": []
    },
    "kernelspec": {
      "display_name": "Python 3 (ipykernel)",
      "language": "python",
      "name": "python3"
    },
    "language_info": {
      "codemirror_mode": {
        "name": "ipython",
        "version": 3
      },
      "file_extension": ".py",
      "mimetype": "text/x-python",
      "name": "python",
      "nbconvert_exporter": "python",
      "pygments_lexer": "ipython3",
      "version": "3.9.13"
    }
  },
  "nbformat": 4,
  "nbformat_minor": 0
}