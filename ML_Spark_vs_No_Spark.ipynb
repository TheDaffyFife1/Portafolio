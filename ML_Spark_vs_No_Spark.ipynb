{
  "cells": [
    {
      "cell_type": "markdown",
      "source": [
        "<div style = \"text-align: justify;\">\n",
        "\n",
        "\n",
        "# Apache Spark <font color =red>vs</font> No Spark\n",
        "\n",
        "## Computo de Alto Desempeño\n",
        "\n",
        "\n",
        "**Equipo:**\n",
        "\n",
        "Jasmin del Rocio Coba Candanedo / 190300460\n",
        "\n",
        "Oscar Manuel Castillo Torres / 190300399\n",
        "\n",
        "Alexis Rodriguez Ramon / 170300123\n",
        "\n",
        "### Profesora: **Candelaria E. Sansores**\n",
        "\n",
        "El trabajo consiste en evaluar el desempeño de Machine Learning incluyendo el proceso de ETL con Spark en comparación con la versión sin paralelismo sin Spark. Para ello, necesitamos convertir la libreta de python con el análisis y creación de modelos de ML de datos bancarios en Spark en una versión sin Spark.\n",
        "\n",
        "\n",
        "La comparación del desempeño de los procesos se hará de una manera simple, verificando el tiempo de ejecución de cada sección relevante del código en donde se haga uso de spark, por ejemplo, el manejo inicial de los datos (ETL), el modelo de regresión logística (LR), etc.\n",
        "Presentar una tabla y gráfico que compare los tiempos.\n",
        "Interpretar los resultados y discutirlo en las conclusiones.\n",
        "\n",
        "</div>"
      ],
      "metadata": {
        "id": "mPXDDEsmZuxQ"
      }
    },
    {
      "cell_type": "markdown",
      "source": [
        "#### Instalaciones necesarias para trabajar en collab, **java sdk** y **Apache Spark**."
      ],
      "metadata": {
        "id": "XEesANBodffB"
      }
    },
    {
      "cell_type": "code",
      "source": [
        "# Instalar Pyspark\n",
        "\n",
        "!pip install pyspark"
      ],
      "metadata": {
        "id": "hLhPCsIBhpih",
        "colab": {
          "base_uri": "https://localhost:8080/"
        },
        "outputId": "abfc7c05-636f-4ba8-de4d-75972f415e88"
      },
      "execution_count": null,
      "outputs": [
        {
          "output_type": "stream",
          "name": "stdout",
          "text": [
            "Collecting pyspark\n",
            "  Downloading pyspark-3.5.0.tar.gz (316.9 MB)\n",
            "\u001b[2K     \u001b[90m━━━━━━━━━━━━━━━━━━━━━━━━━━━━━━━━━━━━━━━━\u001b[0m \u001b[32m316.9/316.9 MB\u001b[0m \u001b[31m2.0 MB/s\u001b[0m eta \u001b[36m0:00:00\u001b[0m\n",
            "\u001b[?25h  Preparing metadata (setup.py) ... \u001b[?25l\u001b[?25hdone\n",
            "Requirement already satisfied: py4j==0.10.9.7 in /usr/local/lib/python3.10/dist-packages (from pyspark) (0.10.9.7)\n",
            "Building wheels for collected packages: pyspark\n",
            "  Building wheel for pyspark (setup.py) ... \u001b[?25l\u001b[?25hdone\n",
            "  Created wheel for pyspark: filename=pyspark-3.5.0-py2.py3-none-any.whl size=317425344 sha256=582dcbcfa73e0f3f6c891a7a9492f20522705c24017ec48e8d195a4d42433a19\n",
            "  Stored in directory: /root/.cache/pip/wheels/41/4e/10/c2cf2467f71c678cfc8a6b9ac9241e5e44a01940da8fbb17fc\n",
            "Successfully built pyspark\n",
            "Installing collected packages: pyspark\n",
            "Successfully installed pyspark-3.5.0\n"
          ]
        }
      ]
    },
    {
      "cell_type": "code",
      "source": [
        "# Instalar Java 8\n",
        "\n",
        "!pip install pyspark --quiet\n",
        "!pip install -U -q PyDrive --quiet\n",
        "!apt install openjdk-8-jdk-headless &> /dev/null"
      ],
      "metadata": {
        "id": "iO3w_JPdeMBe"
      },
      "execution_count": null,
      "outputs": []
    },
    {
      "cell_type": "code",
      "source": [
        "import os\n",
        "os.environ[\"JAVA_HOME\"] = \"/usr/lib/jvm/java-8-openjdk-amd64\""
      ],
      "metadata": {
        "id": "mQGCwXyVMMFx"
      },
      "execution_count": null,
      "outputs": []
    },
    {
      "cell_type": "code",
      "execution_count": null,
      "metadata": {
        "id": "7byhQ7EdZNLb"
      },
      "outputs": [],
      "source": [
        "# Apache SPARK\n",
        "\n",
        "from pyspark.sql import SparkSession\n",
        "from pyspark.ml import Pipeline\n",
        "from pyspark.sql.functions import mean,col,split, col, regexp_extract, when, lit\n",
        "from pyspark.ml.feature import StringIndexer\n",
        "from pyspark.ml.feature import VectorAssembler\n",
        "from pyspark.ml.feature import OneHotEncoder\n",
        "from pyspark.ml.evaluation import MulticlassClassificationEvaluator\n",
        "from pyspark.ml.feature import QuantileDiscretizer\n",
        "from pyspark.context import SparkContext\n",
        "\n",
        "\n",
        "# Sin Spark\n",
        "import pandas as pd\n",
        "import numpy as np\n",
        "from sklearn.preprocessing import OneHotEncoder\n",
        "from sklearn.compose import ColumnTransformer\n",
        "from sklearn.pipeline import Pipeline\n",
        "\n",
        "# Librerias para graficar y medir el tiempo de ejecución\n",
        "import time\n",
        "import matplotlib.pyplot as plt"
      ]
    },
    {
      "cell_type": "code",
      "source": [
        "!curl -s http://localhost:4040/api/tunnels | python3 -c \"import sys, json; print(json.load(sys.stdin)['tunnels'][0]['public_url'])\""
      ],
      "metadata": {
        "colab": {
          "base_uri": "https://localhost:8080/"
        },
        "id": "cBgxqY0gMgFs",
        "outputId": "c06bff42-ff48-467b-f308-9972aa8af756"
      },
      "execution_count": null,
      "outputs": [
        {
          "output_type": "stream",
          "name": "stdout",
          "text": [
            "Traceback (most recent call last):\n",
            "  File \"<string>\", line 1, in <module>\n",
            "  File \"/usr/lib/python3.10/json/__init__.py\", line 293, in load\n",
            "    return loads(fp.read(),\n",
            "  File \"/usr/lib/python3.10/json/__init__.py\", line 346, in loads\n",
            "    return _default_decoder.decode(s)\n",
            "  File \"/usr/lib/python3.10/json/decoder.py\", line 337, in decode\n",
            "    obj, end = self.raw_decode(s, idx=_w(s, 0).end())\n",
            "  File \"/usr/lib/python3.10/json/decoder.py\", line 355, in raw_decode\n",
            "    raise JSONDecodeError(\"Expecting value\", s, err.value) from None\n",
            "json.decoder.JSONDecodeError: Expecting value: line 1 column 1 (char 0)\n"
          ]
        }
      ]
    },
    {
      "cell_type": "code",
      "source": [
        "# Configurar Spark\n",
        "\n",
        "from pyspark import SparkContext, SparkConf\n",
        "conf = SparkConf().set('spark.ui.port', '4050').setAppName(\"Bank\").setMaster(\"local[2]\")\n",
        "sc = SparkContext.getOrCreate(conf=conf)\n",
        "spark = SparkSession(sc)\n"
      ],
      "metadata": {
        "id": "6so6lQc3MZsx"
      },
      "execution_count": null,
      "outputs": []
    },
    {
      "cell_type": "code",
      "source": [
        "sc"
      ],
      "metadata": {
        "colab": {
          "base_uri": "https://localhost:8080/",
          "height": 196
        },
        "id": "VvZlu4u6MqKk",
        "outputId": "5ce424a1-c6cc-42e3-b90d-b72348f66222"
      },
      "execution_count": null,
      "outputs": [
        {
          "output_type": "execute_result",
          "data": {
            "text/plain": [
              "<SparkContext master=local[2] appName=Bank>"
            ],
            "text/html": [
              "\n",
              "        <div>\n",
              "            <p><b>SparkContext</b></p>\n",
              "\n",
              "            <p><a href=\"http://9bc83534c5eb:4050\">Spark UI</a></p>\n",
              "\n",
              "            <dl>\n",
              "              <dt>Version</dt>\n",
              "                <dd><code>v3.5.0</code></dd>\n",
              "              <dt>Master</dt>\n",
              "                <dd><code>local[2]</code></dd>\n",
              "              <dt>AppName</dt>\n",
              "                <dd><code>Bank</code></dd>\n",
              "            </dl>\n",
              "        </div>\n",
              "        "
            ]
          },
          "metadata": {},
          "execution_count": 7
        }
      ]
    },
    {
      "cell_type": "markdown",
      "source": [
        "### Importamos las librerias que vamos a utilizar para cada una de los entornos para el uso de <font color= Yellow>Machine Learning"
      ],
      "metadata": {
        "id": "yFJYQ-XyVACQ"
      }
    },
    {
      "cell_type": "markdown",
      "source": [
        "## Creacion del entorno Spark Context"
      ],
      "metadata": {
        "id": "1qK_RwumVQtC"
      }
    },
    {
      "cell_type": "markdown",
      "source": [
        "## **Extracción con Spark**"
      ],
      "metadata": {
        "id": "wlj6anQkXa1K"
      }
    },
    {
      "cell_type": "code",
      "source": [
        "# Aqui iniciamos el conteo del tiemmpo de ejecución del programa\n",
        "\n",
        "start_time_spark = time.time()"
      ],
      "metadata": {
        "id": "rXRKgnxQiBRC"
      },
      "execution_count": null,
      "outputs": []
    },
    {
      "cell_type": "code",
      "execution_count": null,
      "metadata": {
        "id": "3V7HNGj7ZNLd"
      },
      "outputs": [],
      "source": [
        "df = spark.read.csv('bank.csv',header = 'True',inferSchema='True')"
      ]
    },
    {
      "cell_type": "code",
      "execution_count": null,
      "metadata": {
        "id": "TSLiyhVZZNLe",
        "colab": {
          "base_uri": "https://localhost:8080/"
        },
        "outputId": "87a97db4-731e-4614-99b9-c98ef8eeba85"
      },
      "outputs": [
        {
          "output_type": "execute_result",
          "data": {
            "text/plain": [
              "True"
            ]
          },
          "metadata": {},
          "execution_count": 11
        }
      ],
      "source": [
        "df.cache()\n",
        "df.is_cached"
      ]
    },
    {
      "cell_type": "code",
      "execution_count": null,
      "metadata": {
        "id": "Rhupc6DwZNLe",
        "colab": {
          "base_uri": "https://localhost:8080/",
          "height": 52
        },
        "outputId": "00cb04ce-2fe4-4f20-f36b-3b01220fd9da"
      },
      "outputs": [
        {
          "output_type": "display_data",
          "data": {
            "text/plain": [
              "DataFrame[age: int, job: string, marital: string, education: string, default: string, balance: int, housing: string, loan: string, contact: string, day: int, month: string, duration: int, campaign: int, pdays: int, previous: int, poutcome: string, deposit: string]"
            ]
          },
          "metadata": {}
        }
      ],
      "source": [
        "display(df)"
      ]
    },
    {
      "cell_type": "code",
      "execution_count": null,
      "metadata": {
        "id": "pbAV6mpjZNLe",
        "colab": {
          "base_uri": "https://localhost:8080/"
        },
        "outputId": "f38c9093-50be-472b-b76b-3cecf57475a5"
      },
      "outputs": [
        {
          "output_type": "stream",
          "name": "stdout",
          "text": [
            "root\n",
            " |-- age: integer (nullable = true)\n",
            " |-- job: string (nullable = true)\n",
            " |-- marital: string (nullable = true)\n",
            " |-- education: string (nullable = true)\n",
            " |-- default: string (nullable = true)\n",
            " |-- balance: integer (nullable = true)\n",
            " |-- housing: string (nullable = true)\n",
            " |-- loan: string (nullable = true)\n",
            " |-- contact: string (nullable = true)\n",
            " |-- day: integer (nullable = true)\n",
            " |-- month: string (nullable = true)\n",
            " |-- duration: integer (nullable = true)\n",
            " |-- campaign: integer (nullable = true)\n",
            " |-- pdays: integer (nullable = true)\n",
            " |-- previous: integer (nullable = true)\n",
            " |-- poutcome: string (nullable = true)\n",
            " |-- deposit: string (nullable = true)\n",
            "\n"
          ]
        }
      ],
      "source": [
        "df.printSchema()"
      ]
    },
    {
      "cell_type": "code",
      "execution_count": null,
      "metadata": {
        "id": "Er_J8S1CZNLf",
        "colab": {
          "base_uri": "https://localhost:8080/"
        },
        "outputId": "8701f88c-bd11-4550-aa6d-239063ce85d3"
      },
      "outputs": [
        {
          "output_type": "stream",
          "name": "stdout",
          "text": [
            "+---+----------+-------+---------+-------+-------+-------+----+-------+---+-----+--------+--------+-----+--------+--------+-------+\n",
            "|age|       job|marital|education|default|balance|housing|loan|contact|day|month|duration|campaign|pdays|previous|poutcome|deposit|\n",
            "+---+----------+-------+---------+-------+-------+-------+----+-------+---+-----+--------+--------+-----+--------+--------+-------+\n",
            "| 59|    admin.|married|secondary|     no|   2343|    yes|  no|unknown|  5|  may|    1042|       1|   -1|       0| unknown|    yes|\n",
            "| 56|    admin.|married|secondary|     no|     45|     no|  no|unknown|  5|  may|    1467|       1|   -1|       0| unknown|    yes|\n",
            "| 41|technician|married|secondary|     no|   1270|    yes|  no|unknown|  5|  may|    1389|       1|   -1|       0| unknown|    yes|\n",
            "| 55|  services|married|secondary|     no|   2476|    yes|  no|unknown|  5|  may|     579|       1|   -1|       0| unknown|    yes|\n",
            "| 54|    admin.|married| tertiary|     no|    184|     no|  no|unknown|  5|  may|     673|       2|   -1|       0| unknown|    yes|\n",
            "+---+----------+-------+---------+-------+-------+-------+----+-------+---+-----+--------+--------+-----+--------+--------+-------+\n",
            "only showing top 5 rows\n",
            "\n"
          ]
        }
      ],
      "source": [
        "df.show(5)"
      ]
    },
    {
      "cell_type": "code",
      "execution_count": null,
      "metadata": {
        "id": "TFssIIMxZNLf",
        "colab": {
          "base_uri": "https://localhost:8080/"
        },
        "outputId": "eab2e73f-0247-4d1f-ff64-a3b93a0db790"
      },
      "outputs": [
        {
          "output_type": "stream",
          "name": "stdout",
          "text": [
            "+-------+------------------+-------+--------+---------+-------+------------------+-------+-----+--------+------------------+-----+------------------+------------------+------------------+------------------+--------+-------+\n",
            "|summary|               age|    job| marital|education|default|           balance|housing| loan| contact|               day|month|          duration|          campaign|             pdays|          previous|poutcome|deposit|\n",
            "+-------+------------------+-------+--------+---------+-------+------------------+-------+-----+--------+------------------+-----+------------------+------------------+------------------+------------------+--------+-------+\n",
            "|  count|             11162|  11162|   11162|    11162|  11162|             11162|  11162|11162|   11162|             11162|11162|             11162|             11162|             11162|             11162|   11162|  11162|\n",
            "|   mean|41.231947679627304|   NULL|    NULL|     NULL|   NULL|1528.5385235620856|   NULL| NULL|    NULL|15.658036194230425| NULL|371.99381831213043| 2.508421429851281| 51.33040673714388|0.8325568894463358|    NULL|   NULL|\n",
            "| stddev|11.913369192215518|   NULL|    NULL|     NULL|   NULL| 3225.413325946149|   NULL| NULL|    NULL| 8.420739541006462| NULL|347.12838571630687|2.7220771816614824|108.75828197197717| 2.292007218670508|    NULL|   NULL|\n",
            "|    min|                18| admin.|divorced|  primary|     no|             -6847|     no|   no|cellular|                 1|  apr|                 2|                 1|                -1|                 0| failure|     no|\n",
            "|    max|                95|unknown|  single|  unknown|    yes|             81204|    yes|  yes| unknown|                31|  sep|              3881|                63|               854|                58| unknown|    yes|\n",
            "+-------+------------------+-------+--------+---------+-------+------------------+-------+-----+--------+------------------+-----+------------------+------------------+------------------+------------------+--------+-------+\n",
            "\n"
          ]
        }
      ],
      "source": [
        "df.describe().show()"
      ]
    },
    {
      "cell_type": "code",
      "execution_count": null,
      "metadata": {
        "id": "NbjhrBJeZNLf",
        "colab": {
          "base_uri": "https://localhost:8080/"
        },
        "outputId": "4160277a-ef99-4364-9c68-05c570aeb148"
      },
      "outputs": [
        {
          "output_type": "execute_result",
          "data": {
            "text/plain": [
              "17"
            ]
          },
          "metadata": {},
          "execution_count": 16
        }
      ],
      "source": [
        "df.count()                # 11162\n",
        "#  How many columns?\n",
        "len(df.columns)"
      ]
    },
    {
      "cell_type": "code",
      "source": [
        "# Tiempo de finalización para la extracción con Spark\n",
        "end_time_spark = time.time()\n",
        "\n",
        "# Calcula el tiempo total para la extracción con Spark\n",
        "elapsed_time_spark = end_time_spark - start_time_spark"
      ],
      "metadata": {
        "id": "H5RWJ0Te9dvx"
      },
      "execution_count": null,
      "outputs": []
    },
    {
      "cell_type": "markdown",
      "source": [
        "## **Extracción sin Spark**"
      ],
      "metadata": {
        "id": "3kZeaFDoaHh1"
      }
    },
    {
      "cell_type": "code",
      "source": [
        "# Tiempo de inicio para la extracción sin Spark\n",
        "start_time_no_spark = time.time()"
      ],
      "metadata": {
        "id": "YfFuMTc5-ILO"
      },
      "execution_count": null,
      "outputs": []
    },
    {
      "cell_type": "code",
      "execution_count": null,
      "metadata": {
        "id": "qGB9687jQ1mL"
      },
      "outputs": [],
      "source": [
        "ds = pd.read_csv('bank.csv', header=0)"
      ]
    },
    {
      "cell_type": "code",
      "execution_count": null,
      "metadata": {
        "id": "-cQ4GU7yQ1mM",
        "colab": {
          "base_uri": "https://localhost:8080/",
          "height": 461
        },
        "outputId": "7d7d067c-e3a4-4c0e-acd0-934b9122ec6c"
      },
      "outputs": [
        {
          "output_type": "execute_result",
          "data": {
            "text/plain": [
              "       age          job  marital  education default  balance housing loan  \\\n",
              "0       59       admin.  married  secondary      no     2343     yes   no   \n",
              "1       56       admin.  married  secondary      no       45      no   no   \n",
              "2       41   technician  married  secondary      no     1270     yes   no   \n",
              "3       55     services  married  secondary      no     2476     yes   no   \n",
              "4       54       admin.  married   tertiary      no      184      no   no   \n",
              "...    ...          ...      ...        ...     ...      ...     ...  ...   \n",
              "11157   33  blue-collar   single    primary      no        1     yes   no   \n",
              "11158   39     services  married  secondary      no      733      no   no   \n",
              "11159   32   technician   single  secondary      no       29      no   no   \n",
              "11160   43   technician  married  secondary      no        0      no  yes   \n",
              "11161   34   technician  married  secondary      no        0      no   no   \n",
              "\n",
              "        contact  day month  duration  campaign  pdays  previous poutcome  \\\n",
              "0       unknown    5   may      1042         1     -1         0  unknown   \n",
              "1       unknown    5   may      1467         1     -1         0  unknown   \n",
              "2       unknown    5   may      1389         1     -1         0  unknown   \n",
              "3       unknown    5   may       579         1     -1         0  unknown   \n",
              "4       unknown    5   may       673         2     -1         0  unknown   \n",
              "...         ...  ...   ...       ...       ...    ...       ...      ...   \n",
              "11157  cellular   20   apr       257         1     -1         0  unknown   \n",
              "11158   unknown   16   jun        83         4     -1         0  unknown   \n",
              "11159  cellular   19   aug       156         2     -1         0  unknown   \n",
              "11160  cellular    8   may         9         2    172         5  failure   \n",
              "11161  cellular    9   jul       628         1     -1         0  unknown   \n",
              "\n",
              "      deposit  \n",
              "0         yes  \n",
              "1         yes  \n",
              "2         yes  \n",
              "3         yes  \n",
              "4         yes  \n",
              "...       ...  \n",
              "11157      no  \n",
              "11158      no  \n",
              "11159      no  \n",
              "11160      no  \n",
              "11161      no  \n",
              "\n",
              "[11162 rows x 17 columns]"
            ],
            "text/html": [
              "\n",
              "  <div id=\"df-28fe3abf-fe4e-4289-b1a2-b60f82493e91\" class=\"colab-df-container\">\n",
              "    <div>\n",
              "<style scoped>\n",
              "    .dataframe tbody tr th:only-of-type {\n",
              "        vertical-align: middle;\n",
              "    }\n",
              "\n",
              "    .dataframe tbody tr th {\n",
              "        vertical-align: top;\n",
              "    }\n",
              "\n",
              "    .dataframe thead th {\n",
              "        text-align: right;\n",
              "    }\n",
              "</style>\n",
              "<table border=\"1\" class=\"dataframe\">\n",
              "  <thead>\n",
              "    <tr style=\"text-align: right;\">\n",
              "      <th></th>\n",
              "      <th>age</th>\n",
              "      <th>job</th>\n",
              "      <th>marital</th>\n",
              "      <th>education</th>\n",
              "      <th>default</th>\n",
              "      <th>balance</th>\n",
              "      <th>housing</th>\n",
              "      <th>loan</th>\n",
              "      <th>contact</th>\n",
              "      <th>day</th>\n",
              "      <th>month</th>\n",
              "      <th>duration</th>\n",
              "      <th>campaign</th>\n",
              "      <th>pdays</th>\n",
              "      <th>previous</th>\n",
              "      <th>poutcome</th>\n",
              "      <th>deposit</th>\n",
              "    </tr>\n",
              "  </thead>\n",
              "  <tbody>\n",
              "    <tr>\n",
              "      <th>0</th>\n",
              "      <td>59</td>\n",
              "      <td>admin.</td>\n",
              "      <td>married</td>\n",
              "      <td>secondary</td>\n",
              "      <td>no</td>\n",
              "      <td>2343</td>\n",
              "      <td>yes</td>\n",
              "      <td>no</td>\n",
              "      <td>unknown</td>\n",
              "      <td>5</td>\n",
              "      <td>may</td>\n",
              "      <td>1042</td>\n",
              "      <td>1</td>\n",
              "      <td>-1</td>\n",
              "      <td>0</td>\n",
              "      <td>unknown</td>\n",
              "      <td>yes</td>\n",
              "    </tr>\n",
              "    <tr>\n",
              "      <th>1</th>\n",
              "      <td>56</td>\n",
              "      <td>admin.</td>\n",
              "      <td>married</td>\n",
              "      <td>secondary</td>\n",
              "      <td>no</td>\n",
              "      <td>45</td>\n",
              "      <td>no</td>\n",
              "      <td>no</td>\n",
              "      <td>unknown</td>\n",
              "      <td>5</td>\n",
              "      <td>may</td>\n",
              "      <td>1467</td>\n",
              "      <td>1</td>\n",
              "      <td>-1</td>\n",
              "      <td>0</td>\n",
              "      <td>unknown</td>\n",
              "      <td>yes</td>\n",
              "    </tr>\n",
              "    <tr>\n",
              "      <th>2</th>\n",
              "      <td>41</td>\n",
              "      <td>technician</td>\n",
              "      <td>married</td>\n",
              "      <td>secondary</td>\n",
              "      <td>no</td>\n",
              "      <td>1270</td>\n",
              "      <td>yes</td>\n",
              "      <td>no</td>\n",
              "      <td>unknown</td>\n",
              "      <td>5</td>\n",
              "      <td>may</td>\n",
              "      <td>1389</td>\n",
              "      <td>1</td>\n",
              "      <td>-1</td>\n",
              "      <td>0</td>\n",
              "      <td>unknown</td>\n",
              "      <td>yes</td>\n",
              "    </tr>\n",
              "    <tr>\n",
              "      <th>3</th>\n",
              "      <td>55</td>\n",
              "      <td>services</td>\n",
              "      <td>married</td>\n",
              "      <td>secondary</td>\n",
              "      <td>no</td>\n",
              "      <td>2476</td>\n",
              "      <td>yes</td>\n",
              "      <td>no</td>\n",
              "      <td>unknown</td>\n",
              "      <td>5</td>\n",
              "      <td>may</td>\n",
              "      <td>579</td>\n",
              "      <td>1</td>\n",
              "      <td>-1</td>\n",
              "      <td>0</td>\n",
              "      <td>unknown</td>\n",
              "      <td>yes</td>\n",
              "    </tr>\n",
              "    <tr>\n",
              "      <th>4</th>\n",
              "      <td>54</td>\n",
              "      <td>admin.</td>\n",
              "      <td>married</td>\n",
              "      <td>tertiary</td>\n",
              "      <td>no</td>\n",
              "      <td>184</td>\n",
              "      <td>no</td>\n",
              "      <td>no</td>\n",
              "      <td>unknown</td>\n",
              "      <td>5</td>\n",
              "      <td>may</td>\n",
              "      <td>673</td>\n",
              "      <td>2</td>\n",
              "      <td>-1</td>\n",
              "      <td>0</td>\n",
              "      <td>unknown</td>\n",
              "      <td>yes</td>\n",
              "    </tr>\n",
              "    <tr>\n",
              "      <th>...</th>\n",
              "      <td>...</td>\n",
              "      <td>...</td>\n",
              "      <td>...</td>\n",
              "      <td>...</td>\n",
              "      <td>...</td>\n",
              "      <td>...</td>\n",
              "      <td>...</td>\n",
              "      <td>...</td>\n",
              "      <td>...</td>\n",
              "      <td>...</td>\n",
              "      <td>...</td>\n",
              "      <td>...</td>\n",
              "      <td>...</td>\n",
              "      <td>...</td>\n",
              "      <td>...</td>\n",
              "      <td>...</td>\n",
              "      <td>...</td>\n",
              "    </tr>\n",
              "    <tr>\n",
              "      <th>11157</th>\n",
              "      <td>33</td>\n",
              "      <td>blue-collar</td>\n",
              "      <td>single</td>\n",
              "      <td>primary</td>\n",
              "      <td>no</td>\n",
              "      <td>1</td>\n",
              "      <td>yes</td>\n",
              "      <td>no</td>\n",
              "      <td>cellular</td>\n",
              "      <td>20</td>\n",
              "      <td>apr</td>\n",
              "      <td>257</td>\n",
              "      <td>1</td>\n",
              "      <td>-1</td>\n",
              "      <td>0</td>\n",
              "      <td>unknown</td>\n",
              "      <td>no</td>\n",
              "    </tr>\n",
              "    <tr>\n",
              "      <th>11158</th>\n",
              "      <td>39</td>\n",
              "      <td>services</td>\n",
              "      <td>married</td>\n",
              "      <td>secondary</td>\n",
              "      <td>no</td>\n",
              "      <td>733</td>\n",
              "      <td>no</td>\n",
              "      <td>no</td>\n",
              "      <td>unknown</td>\n",
              "      <td>16</td>\n",
              "      <td>jun</td>\n",
              "      <td>83</td>\n",
              "      <td>4</td>\n",
              "      <td>-1</td>\n",
              "      <td>0</td>\n",
              "      <td>unknown</td>\n",
              "      <td>no</td>\n",
              "    </tr>\n",
              "    <tr>\n",
              "      <th>11159</th>\n",
              "      <td>32</td>\n",
              "      <td>technician</td>\n",
              "      <td>single</td>\n",
              "      <td>secondary</td>\n",
              "      <td>no</td>\n",
              "      <td>29</td>\n",
              "      <td>no</td>\n",
              "      <td>no</td>\n",
              "      <td>cellular</td>\n",
              "      <td>19</td>\n",
              "      <td>aug</td>\n",
              "      <td>156</td>\n",
              "      <td>2</td>\n",
              "      <td>-1</td>\n",
              "      <td>0</td>\n",
              "      <td>unknown</td>\n",
              "      <td>no</td>\n",
              "    </tr>\n",
              "    <tr>\n",
              "      <th>11160</th>\n",
              "      <td>43</td>\n",
              "      <td>technician</td>\n",
              "      <td>married</td>\n",
              "      <td>secondary</td>\n",
              "      <td>no</td>\n",
              "      <td>0</td>\n",
              "      <td>no</td>\n",
              "      <td>yes</td>\n",
              "      <td>cellular</td>\n",
              "      <td>8</td>\n",
              "      <td>may</td>\n",
              "      <td>9</td>\n",
              "      <td>2</td>\n",
              "      <td>172</td>\n",
              "      <td>5</td>\n",
              "      <td>failure</td>\n",
              "      <td>no</td>\n",
              "    </tr>\n",
              "    <tr>\n",
              "      <th>11161</th>\n",
              "      <td>34</td>\n",
              "      <td>technician</td>\n",
              "      <td>married</td>\n",
              "      <td>secondary</td>\n",
              "      <td>no</td>\n",
              "      <td>0</td>\n",
              "      <td>no</td>\n",
              "      <td>no</td>\n",
              "      <td>cellular</td>\n",
              "      <td>9</td>\n",
              "      <td>jul</td>\n",
              "      <td>628</td>\n",
              "      <td>1</td>\n",
              "      <td>-1</td>\n",
              "      <td>0</td>\n",
              "      <td>unknown</td>\n",
              "      <td>no</td>\n",
              "    </tr>\n",
              "  </tbody>\n",
              "</table>\n",
              "<p>11162 rows × 17 columns</p>\n",
              "</div>\n",
              "    <div class=\"colab-df-buttons\">\n",
              "\n",
              "  <div class=\"colab-df-container\">\n",
              "    <button class=\"colab-df-convert\" onclick=\"convertToInteractive('df-28fe3abf-fe4e-4289-b1a2-b60f82493e91')\"\n",
              "            title=\"Convert this dataframe to an interactive table.\"\n",
              "            style=\"display:none;\">\n",
              "\n",
              "  <svg xmlns=\"http://www.w3.org/2000/svg\" height=\"24px\" viewBox=\"0 -960 960 960\">\n",
              "    <path d=\"M120-120v-720h720v720H120Zm60-500h600v-160H180v160Zm220 220h160v-160H400v160Zm0 220h160v-160H400v160ZM180-400h160v-160H180v160Zm440 0h160v-160H620v160ZM180-180h160v-160H180v160Zm440 0h160v-160H620v160Z\"/>\n",
              "  </svg>\n",
              "    </button>\n",
              "\n",
              "  <style>\n",
              "    .colab-df-container {\n",
              "      display:flex;\n",
              "      gap: 12px;\n",
              "    }\n",
              "\n",
              "    .colab-df-convert {\n",
              "      background-color: #E8F0FE;\n",
              "      border: none;\n",
              "      border-radius: 50%;\n",
              "      cursor: pointer;\n",
              "      display: none;\n",
              "      fill: #1967D2;\n",
              "      height: 32px;\n",
              "      padding: 0 0 0 0;\n",
              "      width: 32px;\n",
              "    }\n",
              "\n",
              "    .colab-df-convert:hover {\n",
              "      background-color: #E2EBFA;\n",
              "      box-shadow: 0px 1px 2px rgba(60, 64, 67, 0.3), 0px 1px 3px 1px rgba(60, 64, 67, 0.15);\n",
              "      fill: #174EA6;\n",
              "    }\n",
              "\n",
              "    .colab-df-buttons div {\n",
              "      margin-bottom: 4px;\n",
              "    }\n",
              "\n",
              "    [theme=dark] .colab-df-convert {\n",
              "      background-color: #3B4455;\n",
              "      fill: #D2E3FC;\n",
              "    }\n",
              "\n",
              "    [theme=dark] .colab-df-convert:hover {\n",
              "      background-color: #434B5C;\n",
              "      box-shadow: 0px 1px 3px 1px rgba(0, 0, 0, 0.15);\n",
              "      filter: drop-shadow(0px 1px 2px rgba(0, 0, 0, 0.3));\n",
              "      fill: #FFFFFF;\n",
              "    }\n",
              "  </style>\n",
              "\n",
              "    <script>\n",
              "      const buttonEl =\n",
              "        document.querySelector('#df-28fe3abf-fe4e-4289-b1a2-b60f82493e91 button.colab-df-convert');\n",
              "      buttonEl.style.display =\n",
              "        google.colab.kernel.accessAllowed ? 'block' : 'none';\n",
              "\n",
              "      async function convertToInteractive(key) {\n",
              "        const element = document.querySelector('#df-28fe3abf-fe4e-4289-b1a2-b60f82493e91');\n",
              "        const dataTable =\n",
              "          await google.colab.kernel.invokeFunction('convertToInteractive',\n",
              "                                                    [key], {});\n",
              "        if (!dataTable) return;\n",
              "\n",
              "        const docLinkHtml = 'Like what you see? Visit the ' +\n",
              "          '<a target=\"_blank\" href=https://colab.research.google.com/notebooks/data_table.ipynb>data table notebook</a>'\n",
              "          + ' to learn more about interactive tables.';\n",
              "        element.innerHTML = '';\n",
              "        dataTable['output_type'] = 'display_data';\n",
              "        await google.colab.output.renderOutput(dataTable, element);\n",
              "        const docLink = document.createElement('div');\n",
              "        docLink.innerHTML = docLinkHtml;\n",
              "        element.appendChild(docLink);\n",
              "      }\n",
              "    </script>\n",
              "  </div>\n",
              "\n",
              "\n",
              "<div id=\"df-50e42e24-05c4-48a2-9ec7-fec5293b6b8f\">\n",
              "  <button class=\"colab-df-quickchart\" onclick=\"quickchart('df-50e42e24-05c4-48a2-9ec7-fec5293b6b8f')\"\n",
              "            title=\"Suggest charts.\"\n",
              "            style=\"display:none;\">\n",
              "\n",
              "<svg xmlns=\"http://www.w3.org/2000/svg\" height=\"24px\"viewBox=\"0 0 24 24\"\n",
              "     width=\"24px\">\n",
              "    <g>\n",
              "        <path d=\"M19 3H5c-1.1 0-2 .9-2 2v14c0 1.1.9 2 2 2h14c1.1 0 2-.9 2-2V5c0-1.1-.9-2-2-2zM9 17H7v-7h2v7zm4 0h-2V7h2v10zm4 0h-2v-4h2v4z\"/>\n",
              "    </g>\n",
              "</svg>\n",
              "  </button>\n",
              "\n",
              "<style>\n",
              "  .colab-df-quickchart {\n",
              "      --bg-color: #E8F0FE;\n",
              "      --fill-color: #1967D2;\n",
              "      --hover-bg-color: #E2EBFA;\n",
              "      --hover-fill-color: #174EA6;\n",
              "      --disabled-fill-color: #AAA;\n",
              "      --disabled-bg-color: #DDD;\n",
              "  }\n",
              "\n",
              "  [theme=dark] .colab-df-quickchart {\n",
              "      --bg-color: #3B4455;\n",
              "      --fill-color: #D2E3FC;\n",
              "      --hover-bg-color: #434B5C;\n",
              "      --hover-fill-color: #FFFFFF;\n",
              "      --disabled-bg-color: #3B4455;\n",
              "      --disabled-fill-color: #666;\n",
              "  }\n",
              "\n",
              "  .colab-df-quickchart {\n",
              "    background-color: var(--bg-color);\n",
              "    border: none;\n",
              "    border-radius: 50%;\n",
              "    cursor: pointer;\n",
              "    display: none;\n",
              "    fill: var(--fill-color);\n",
              "    height: 32px;\n",
              "    padding: 0;\n",
              "    width: 32px;\n",
              "  }\n",
              "\n",
              "  .colab-df-quickchart:hover {\n",
              "    background-color: var(--hover-bg-color);\n",
              "    box-shadow: 0 1px 2px rgba(60, 64, 67, 0.3), 0 1px 3px 1px rgba(60, 64, 67, 0.15);\n",
              "    fill: var(--button-hover-fill-color);\n",
              "  }\n",
              "\n",
              "  .colab-df-quickchart-complete:disabled,\n",
              "  .colab-df-quickchart-complete:disabled:hover {\n",
              "    background-color: var(--disabled-bg-color);\n",
              "    fill: var(--disabled-fill-color);\n",
              "    box-shadow: none;\n",
              "  }\n",
              "\n",
              "  .colab-df-spinner {\n",
              "    border: 2px solid var(--fill-color);\n",
              "    border-color: transparent;\n",
              "    border-bottom-color: var(--fill-color);\n",
              "    animation:\n",
              "      spin 1s steps(1) infinite;\n",
              "  }\n",
              "\n",
              "  @keyframes spin {\n",
              "    0% {\n",
              "      border-color: transparent;\n",
              "      border-bottom-color: var(--fill-color);\n",
              "      border-left-color: var(--fill-color);\n",
              "    }\n",
              "    20% {\n",
              "      border-color: transparent;\n",
              "      border-left-color: var(--fill-color);\n",
              "      border-top-color: var(--fill-color);\n",
              "    }\n",
              "    30% {\n",
              "      border-color: transparent;\n",
              "      border-left-color: var(--fill-color);\n",
              "      border-top-color: var(--fill-color);\n",
              "      border-right-color: var(--fill-color);\n",
              "    }\n",
              "    40% {\n",
              "      border-color: transparent;\n",
              "      border-right-color: var(--fill-color);\n",
              "      border-top-color: var(--fill-color);\n",
              "    }\n",
              "    60% {\n",
              "      border-color: transparent;\n",
              "      border-right-color: var(--fill-color);\n",
              "    }\n",
              "    80% {\n",
              "      border-color: transparent;\n",
              "      border-right-color: var(--fill-color);\n",
              "      border-bottom-color: var(--fill-color);\n",
              "    }\n",
              "    90% {\n",
              "      border-color: transparent;\n",
              "      border-bottom-color: var(--fill-color);\n",
              "    }\n",
              "  }\n",
              "</style>\n",
              "\n",
              "  <script>\n",
              "    async function quickchart(key) {\n",
              "      const quickchartButtonEl =\n",
              "        document.querySelector('#' + key + ' button');\n",
              "      quickchartButtonEl.disabled = true;  // To prevent multiple clicks.\n",
              "      quickchartButtonEl.classList.add('colab-df-spinner');\n",
              "      try {\n",
              "        const charts = await google.colab.kernel.invokeFunction(\n",
              "            'suggestCharts', [key], {});\n",
              "      } catch (error) {\n",
              "        console.error('Error during call to suggestCharts:', error);\n",
              "      }\n",
              "      quickchartButtonEl.classList.remove('colab-df-spinner');\n",
              "      quickchartButtonEl.classList.add('colab-df-quickchart-complete');\n",
              "    }\n",
              "    (() => {\n",
              "      let quickchartButtonEl =\n",
              "        document.querySelector('#df-50e42e24-05c4-48a2-9ec7-fec5293b6b8f button');\n",
              "      quickchartButtonEl.style.display =\n",
              "        google.colab.kernel.accessAllowed ? 'block' : 'none';\n",
              "    })();\n",
              "  </script>\n",
              "</div>\n",
              "    </div>\n",
              "  </div>\n"
            ]
          },
          "metadata": {},
          "execution_count": 20
        }
      ],
      "source": [
        "ds"
      ]
    },
    {
      "cell_type": "code",
      "execution_count": null,
      "metadata": {
        "id": "lJ2sSEzDQ1mN",
        "colab": {
          "base_uri": "https://localhost:8080/"
        },
        "outputId": "56379945-6f83-4426-935c-c02733eb253d"
      },
      "outputs": [
        {
          "output_type": "stream",
          "name": "stdout",
          "text": [
            "<class 'pandas.core.frame.DataFrame'>\n",
            "RangeIndex: 11162 entries, 0 to 11161\n",
            "Data columns (total 17 columns):\n",
            " #   Column     Non-Null Count  Dtype \n",
            "---  ------     --------------  ----- \n",
            " 0   age        11162 non-null  int64 \n",
            " 1   job        11162 non-null  object\n",
            " 2   marital    11162 non-null  object\n",
            " 3   education  11162 non-null  object\n",
            " 4   default    11162 non-null  object\n",
            " 5   balance    11162 non-null  int64 \n",
            " 6   housing    11162 non-null  object\n",
            " 7   loan       11162 non-null  object\n",
            " 8   contact    11162 non-null  object\n",
            " 9   day        11162 non-null  int64 \n",
            " 10  month      11162 non-null  object\n",
            " 11  duration   11162 non-null  int64 \n",
            " 12  campaign   11162 non-null  int64 \n",
            " 13  pdays      11162 non-null  int64 \n",
            " 14  previous   11162 non-null  int64 \n",
            " 15  poutcome   11162 non-null  object\n",
            " 16  deposit    11162 non-null  object\n",
            "dtypes: int64(7), object(10)\n",
            "memory usage: 1.4+ MB\n"
          ]
        }
      ],
      "source": [
        "ds.info()"
      ]
    },
    {
      "cell_type": "code",
      "execution_count": null,
      "metadata": {
        "id": "j6d8sJaSQ1mN",
        "colab": {
          "base_uri": "https://localhost:8080/",
          "height": 226
        },
        "outputId": "13415641-ece5-4b34-d45c-6e4960ed079d"
      },
      "outputs": [
        {
          "output_type": "execute_result",
          "data": {
            "text/plain": [
              "   age         job  marital  education default  balance housing loan  contact  \\\n",
              "0   59      admin.  married  secondary      no     2343     yes   no  unknown   \n",
              "1   56      admin.  married  secondary      no       45      no   no  unknown   \n",
              "2   41  technician  married  secondary      no     1270     yes   no  unknown   \n",
              "3   55    services  married  secondary      no     2476     yes   no  unknown   \n",
              "4   54      admin.  married   tertiary      no      184      no   no  unknown   \n",
              "\n",
              "   day month  duration  campaign  pdays  previous poutcome deposit  \n",
              "0    5   may      1042         1     -1         0  unknown     yes  \n",
              "1    5   may      1467         1     -1         0  unknown     yes  \n",
              "2    5   may      1389         1     -1         0  unknown     yes  \n",
              "3    5   may       579         1     -1         0  unknown     yes  \n",
              "4    5   may       673         2     -1         0  unknown     yes  "
            ],
            "text/html": [
              "\n",
              "  <div id=\"df-6a879a7c-da04-49a0-9b36-ae7470b8e80e\" class=\"colab-df-container\">\n",
              "    <div>\n",
              "<style scoped>\n",
              "    .dataframe tbody tr th:only-of-type {\n",
              "        vertical-align: middle;\n",
              "    }\n",
              "\n",
              "    .dataframe tbody tr th {\n",
              "        vertical-align: top;\n",
              "    }\n",
              "\n",
              "    .dataframe thead th {\n",
              "        text-align: right;\n",
              "    }\n",
              "</style>\n",
              "<table border=\"1\" class=\"dataframe\">\n",
              "  <thead>\n",
              "    <tr style=\"text-align: right;\">\n",
              "      <th></th>\n",
              "      <th>age</th>\n",
              "      <th>job</th>\n",
              "      <th>marital</th>\n",
              "      <th>education</th>\n",
              "      <th>default</th>\n",
              "      <th>balance</th>\n",
              "      <th>housing</th>\n",
              "      <th>loan</th>\n",
              "      <th>contact</th>\n",
              "      <th>day</th>\n",
              "      <th>month</th>\n",
              "      <th>duration</th>\n",
              "      <th>campaign</th>\n",
              "      <th>pdays</th>\n",
              "      <th>previous</th>\n",
              "      <th>poutcome</th>\n",
              "      <th>deposit</th>\n",
              "    </tr>\n",
              "  </thead>\n",
              "  <tbody>\n",
              "    <tr>\n",
              "      <th>0</th>\n",
              "      <td>59</td>\n",
              "      <td>admin.</td>\n",
              "      <td>married</td>\n",
              "      <td>secondary</td>\n",
              "      <td>no</td>\n",
              "      <td>2343</td>\n",
              "      <td>yes</td>\n",
              "      <td>no</td>\n",
              "      <td>unknown</td>\n",
              "      <td>5</td>\n",
              "      <td>may</td>\n",
              "      <td>1042</td>\n",
              "      <td>1</td>\n",
              "      <td>-1</td>\n",
              "      <td>0</td>\n",
              "      <td>unknown</td>\n",
              "      <td>yes</td>\n",
              "    </tr>\n",
              "    <tr>\n",
              "      <th>1</th>\n",
              "      <td>56</td>\n",
              "      <td>admin.</td>\n",
              "      <td>married</td>\n",
              "      <td>secondary</td>\n",
              "      <td>no</td>\n",
              "      <td>45</td>\n",
              "      <td>no</td>\n",
              "      <td>no</td>\n",
              "      <td>unknown</td>\n",
              "      <td>5</td>\n",
              "      <td>may</td>\n",
              "      <td>1467</td>\n",
              "      <td>1</td>\n",
              "      <td>-1</td>\n",
              "      <td>0</td>\n",
              "      <td>unknown</td>\n",
              "      <td>yes</td>\n",
              "    </tr>\n",
              "    <tr>\n",
              "      <th>2</th>\n",
              "      <td>41</td>\n",
              "      <td>technician</td>\n",
              "      <td>married</td>\n",
              "      <td>secondary</td>\n",
              "      <td>no</td>\n",
              "      <td>1270</td>\n",
              "      <td>yes</td>\n",
              "      <td>no</td>\n",
              "      <td>unknown</td>\n",
              "      <td>5</td>\n",
              "      <td>may</td>\n",
              "      <td>1389</td>\n",
              "      <td>1</td>\n",
              "      <td>-1</td>\n",
              "      <td>0</td>\n",
              "      <td>unknown</td>\n",
              "      <td>yes</td>\n",
              "    </tr>\n",
              "    <tr>\n",
              "      <th>3</th>\n",
              "      <td>55</td>\n",
              "      <td>services</td>\n",
              "      <td>married</td>\n",
              "      <td>secondary</td>\n",
              "      <td>no</td>\n",
              "      <td>2476</td>\n",
              "      <td>yes</td>\n",
              "      <td>no</td>\n",
              "      <td>unknown</td>\n",
              "      <td>5</td>\n",
              "      <td>may</td>\n",
              "      <td>579</td>\n",
              "      <td>1</td>\n",
              "      <td>-1</td>\n",
              "      <td>0</td>\n",
              "      <td>unknown</td>\n",
              "      <td>yes</td>\n",
              "    </tr>\n",
              "    <tr>\n",
              "      <th>4</th>\n",
              "      <td>54</td>\n",
              "      <td>admin.</td>\n",
              "      <td>married</td>\n",
              "      <td>tertiary</td>\n",
              "      <td>no</td>\n",
              "      <td>184</td>\n",
              "      <td>no</td>\n",
              "      <td>no</td>\n",
              "      <td>unknown</td>\n",
              "      <td>5</td>\n",
              "      <td>may</td>\n",
              "      <td>673</td>\n",
              "      <td>2</td>\n",
              "      <td>-1</td>\n",
              "      <td>0</td>\n",
              "      <td>unknown</td>\n",
              "      <td>yes</td>\n",
              "    </tr>\n",
              "  </tbody>\n",
              "</table>\n",
              "</div>\n",
              "    <div class=\"colab-df-buttons\">\n",
              "\n",
              "  <div class=\"colab-df-container\">\n",
              "    <button class=\"colab-df-convert\" onclick=\"convertToInteractive('df-6a879a7c-da04-49a0-9b36-ae7470b8e80e')\"\n",
              "            title=\"Convert this dataframe to an interactive table.\"\n",
              "            style=\"display:none;\">\n",
              "\n",
              "  <svg xmlns=\"http://www.w3.org/2000/svg\" height=\"24px\" viewBox=\"0 -960 960 960\">\n",
              "    <path d=\"M120-120v-720h720v720H120Zm60-500h600v-160H180v160Zm220 220h160v-160H400v160Zm0 220h160v-160H400v160ZM180-400h160v-160H180v160Zm440 0h160v-160H620v160ZM180-180h160v-160H180v160Zm440 0h160v-160H620v160Z\"/>\n",
              "  </svg>\n",
              "    </button>\n",
              "\n",
              "  <style>\n",
              "    .colab-df-container {\n",
              "      display:flex;\n",
              "      gap: 12px;\n",
              "    }\n",
              "\n",
              "    .colab-df-convert {\n",
              "      background-color: #E8F0FE;\n",
              "      border: none;\n",
              "      border-radius: 50%;\n",
              "      cursor: pointer;\n",
              "      display: none;\n",
              "      fill: #1967D2;\n",
              "      height: 32px;\n",
              "      padding: 0 0 0 0;\n",
              "      width: 32px;\n",
              "    }\n",
              "\n",
              "    .colab-df-convert:hover {\n",
              "      background-color: #E2EBFA;\n",
              "      box-shadow: 0px 1px 2px rgba(60, 64, 67, 0.3), 0px 1px 3px 1px rgba(60, 64, 67, 0.15);\n",
              "      fill: #174EA6;\n",
              "    }\n",
              "\n",
              "    .colab-df-buttons div {\n",
              "      margin-bottom: 4px;\n",
              "    }\n",
              "\n",
              "    [theme=dark] .colab-df-convert {\n",
              "      background-color: #3B4455;\n",
              "      fill: #D2E3FC;\n",
              "    }\n",
              "\n",
              "    [theme=dark] .colab-df-convert:hover {\n",
              "      background-color: #434B5C;\n",
              "      box-shadow: 0px 1px 3px 1px rgba(0, 0, 0, 0.15);\n",
              "      filter: drop-shadow(0px 1px 2px rgba(0, 0, 0, 0.3));\n",
              "      fill: #FFFFFF;\n",
              "    }\n",
              "  </style>\n",
              "\n",
              "    <script>\n",
              "      const buttonEl =\n",
              "        document.querySelector('#df-6a879a7c-da04-49a0-9b36-ae7470b8e80e button.colab-df-convert');\n",
              "      buttonEl.style.display =\n",
              "        google.colab.kernel.accessAllowed ? 'block' : 'none';\n",
              "\n",
              "      async function convertToInteractive(key) {\n",
              "        const element = document.querySelector('#df-6a879a7c-da04-49a0-9b36-ae7470b8e80e');\n",
              "        const dataTable =\n",
              "          await google.colab.kernel.invokeFunction('convertToInteractive',\n",
              "                                                    [key], {});\n",
              "        if (!dataTable) return;\n",
              "\n",
              "        const docLinkHtml = 'Like what you see? Visit the ' +\n",
              "          '<a target=\"_blank\" href=https://colab.research.google.com/notebooks/data_table.ipynb>data table notebook</a>'\n",
              "          + ' to learn more about interactive tables.';\n",
              "        element.innerHTML = '';\n",
              "        dataTable['output_type'] = 'display_data';\n",
              "        await google.colab.output.renderOutput(dataTable, element);\n",
              "        const docLink = document.createElement('div');\n",
              "        docLink.innerHTML = docLinkHtml;\n",
              "        element.appendChild(docLink);\n",
              "      }\n",
              "    </script>\n",
              "  </div>\n",
              "\n",
              "\n",
              "<div id=\"df-22fedf41-393d-4e13-a2eb-209d560c6d80\">\n",
              "  <button class=\"colab-df-quickchart\" onclick=\"quickchart('df-22fedf41-393d-4e13-a2eb-209d560c6d80')\"\n",
              "            title=\"Suggest charts.\"\n",
              "            style=\"display:none;\">\n",
              "\n",
              "<svg xmlns=\"http://www.w3.org/2000/svg\" height=\"24px\"viewBox=\"0 0 24 24\"\n",
              "     width=\"24px\">\n",
              "    <g>\n",
              "        <path d=\"M19 3H5c-1.1 0-2 .9-2 2v14c0 1.1.9 2 2 2h14c1.1 0 2-.9 2-2V5c0-1.1-.9-2-2-2zM9 17H7v-7h2v7zm4 0h-2V7h2v10zm4 0h-2v-4h2v4z\"/>\n",
              "    </g>\n",
              "</svg>\n",
              "  </button>\n",
              "\n",
              "<style>\n",
              "  .colab-df-quickchart {\n",
              "      --bg-color: #E8F0FE;\n",
              "      --fill-color: #1967D2;\n",
              "      --hover-bg-color: #E2EBFA;\n",
              "      --hover-fill-color: #174EA6;\n",
              "      --disabled-fill-color: #AAA;\n",
              "      --disabled-bg-color: #DDD;\n",
              "  }\n",
              "\n",
              "  [theme=dark] .colab-df-quickchart {\n",
              "      --bg-color: #3B4455;\n",
              "      --fill-color: #D2E3FC;\n",
              "      --hover-bg-color: #434B5C;\n",
              "      --hover-fill-color: #FFFFFF;\n",
              "      --disabled-bg-color: #3B4455;\n",
              "      --disabled-fill-color: #666;\n",
              "  }\n",
              "\n",
              "  .colab-df-quickchart {\n",
              "    background-color: var(--bg-color);\n",
              "    border: none;\n",
              "    border-radius: 50%;\n",
              "    cursor: pointer;\n",
              "    display: none;\n",
              "    fill: var(--fill-color);\n",
              "    height: 32px;\n",
              "    padding: 0;\n",
              "    width: 32px;\n",
              "  }\n",
              "\n",
              "  .colab-df-quickchart:hover {\n",
              "    background-color: var(--hover-bg-color);\n",
              "    box-shadow: 0 1px 2px rgba(60, 64, 67, 0.3), 0 1px 3px 1px rgba(60, 64, 67, 0.15);\n",
              "    fill: var(--button-hover-fill-color);\n",
              "  }\n",
              "\n",
              "  .colab-df-quickchart-complete:disabled,\n",
              "  .colab-df-quickchart-complete:disabled:hover {\n",
              "    background-color: var(--disabled-bg-color);\n",
              "    fill: var(--disabled-fill-color);\n",
              "    box-shadow: none;\n",
              "  }\n",
              "\n",
              "  .colab-df-spinner {\n",
              "    border: 2px solid var(--fill-color);\n",
              "    border-color: transparent;\n",
              "    border-bottom-color: var(--fill-color);\n",
              "    animation:\n",
              "      spin 1s steps(1) infinite;\n",
              "  }\n",
              "\n",
              "  @keyframes spin {\n",
              "    0% {\n",
              "      border-color: transparent;\n",
              "      border-bottom-color: var(--fill-color);\n",
              "      border-left-color: var(--fill-color);\n",
              "    }\n",
              "    20% {\n",
              "      border-color: transparent;\n",
              "      border-left-color: var(--fill-color);\n",
              "      border-top-color: var(--fill-color);\n",
              "    }\n",
              "    30% {\n",
              "      border-color: transparent;\n",
              "      border-left-color: var(--fill-color);\n",
              "      border-top-color: var(--fill-color);\n",
              "      border-right-color: var(--fill-color);\n",
              "    }\n",
              "    40% {\n",
              "      border-color: transparent;\n",
              "      border-right-color: var(--fill-color);\n",
              "      border-top-color: var(--fill-color);\n",
              "    }\n",
              "    60% {\n",
              "      border-color: transparent;\n",
              "      border-right-color: var(--fill-color);\n",
              "    }\n",
              "    80% {\n",
              "      border-color: transparent;\n",
              "      border-right-color: var(--fill-color);\n",
              "      border-bottom-color: var(--fill-color);\n",
              "    }\n",
              "    90% {\n",
              "      border-color: transparent;\n",
              "      border-bottom-color: var(--fill-color);\n",
              "    }\n",
              "  }\n",
              "</style>\n",
              "\n",
              "  <script>\n",
              "    async function quickchart(key) {\n",
              "      const quickchartButtonEl =\n",
              "        document.querySelector('#' + key + ' button');\n",
              "      quickchartButtonEl.disabled = true;  // To prevent multiple clicks.\n",
              "      quickchartButtonEl.classList.add('colab-df-spinner');\n",
              "      try {\n",
              "        const charts = await google.colab.kernel.invokeFunction(\n",
              "            'suggestCharts', [key], {});\n",
              "      } catch (error) {\n",
              "        console.error('Error during call to suggestCharts:', error);\n",
              "      }\n",
              "      quickchartButtonEl.classList.remove('colab-df-spinner');\n",
              "      quickchartButtonEl.classList.add('colab-df-quickchart-complete');\n",
              "    }\n",
              "    (() => {\n",
              "      let quickchartButtonEl =\n",
              "        document.querySelector('#df-22fedf41-393d-4e13-a2eb-209d560c6d80 button');\n",
              "      quickchartButtonEl.style.display =\n",
              "        google.colab.kernel.accessAllowed ? 'block' : 'none';\n",
              "    })();\n",
              "  </script>\n",
              "</div>\n",
              "    </div>\n",
              "  </div>\n"
            ]
          },
          "metadata": {},
          "execution_count": 22
        }
      ],
      "source": [
        "ds.head(5)"
      ]
    },
    {
      "cell_type": "code",
      "execution_count": null,
      "metadata": {
        "id": "fGJgqJ2YQ1mN",
        "colab": {
          "base_uri": "https://localhost:8080/",
          "height": 300
        },
        "outputId": "4b47e6a3-8b11-4cff-df65-4a37cd664d7f"
      },
      "outputs": [
        {
          "output_type": "execute_result",
          "data": {
            "text/plain": [
              "                age       balance           day      duration      campaign  \\\n",
              "count  11162.000000  11162.000000  11162.000000  11162.000000  11162.000000   \n",
              "mean      41.231948   1528.538524     15.658036    371.993818      2.508421   \n",
              "std       11.913369   3225.413326      8.420740    347.128386      2.722077   \n",
              "min       18.000000  -6847.000000      1.000000      2.000000      1.000000   \n",
              "25%       32.000000    122.000000      8.000000    138.000000      1.000000   \n",
              "50%       39.000000    550.000000     15.000000    255.000000      2.000000   \n",
              "75%       49.000000   1708.000000     22.000000    496.000000      3.000000   \n",
              "max       95.000000  81204.000000     31.000000   3881.000000     63.000000   \n",
              "\n",
              "              pdays      previous  \n",
              "count  11162.000000  11162.000000  \n",
              "mean      51.330407      0.832557  \n",
              "std      108.758282      2.292007  \n",
              "min       -1.000000      0.000000  \n",
              "25%       -1.000000      0.000000  \n",
              "50%       -1.000000      0.000000  \n",
              "75%       20.750000      1.000000  \n",
              "max      854.000000     58.000000  "
            ],
            "text/html": [
              "\n",
              "  <div id=\"df-f30a4edb-9bfa-48df-ab5c-d0eb744cdec5\" class=\"colab-df-container\">\n",
              "    <div>\n",
              "<style scoped>\n",
              "    .dataframe tbody tr th:only-of-type {\n",
              "        vertical-align: middle;\n",
              "    }\n",
              "\n",
              "    .dataframe tbody tr th {\n",
              "        vertical-align: top;\n",
              "    }\n",
              "\n",
              "    .dataframe thead th {\n",
              "        text-align: right;\n",
              "    }\n",
              "</style>\n",
              "<table border=\"1\" class=\"dataframe\">\n",
              "  <thead>\n",
              "    <tr style=\"text-align: right;\">\n",
              "      <th></th>\n",
              "      <th>age</th>\n",
              "      <th>balance</th>\n",
              "      <th>day</th>\n",
              "      <th>duration</th>\n",
              "      <th>campaign</th>\n",
              "      <th>pdays</th>\n",
              "      <th>previous</th>\n",
              "    </tr>\n",
              "  </thead>\n",
              "  <tbody>\n",
              "    <tr>\n",
              "      <th>count</th>\n",
              "      <td>11162.000000</td>\n",
              "      <td>11162.000000</td>\n",
              "      <td>11162.000000</td>\n",
              "      <td>11162.000000</td>\n",
              "      <td>11162.000000</td>\n",
              "      <td>11162.000000</td>\n",
              "      <td>11162.000000</td>\n",
              "    </tr>\n",
              "    <tr>\n",
              "      <th>mean</th>\n",
              "      <td>41.231948</td>\n",
              "      <td>1528.538524</td>\n",
              "      <td>15.658036</td>\n",
              "      <td>371.993818</td>\n",
              "      <td>2.508421</td>\n",
              "      <td>51.330407</td>\n",
              "      <td>0.832557</td>\n",
              "    </tr>\n",
              "    <tr>\n",
              "      <th>std</th>\n",
              "      <td>11.913369</td>\n",
              "      <td>3225.413326</td>\n",
              "      <td>8.420740</td>\n",
              "      <td>347.128386</td>\n",
              "      <td>2.722077</td>\n",
              "      <td>108.758282</td>\n",
              "      <td>2.292007</td>\n",
              "    </tr>\n",
              "    <tr>\n",
              "      <th>min</th>\n",
              "      <td>18.000000</td>\n",
              "      <td>-6847.000000</td>\n",
              "      <td>1.000000</td>\n",
              "      <td>2.000000</td>\n",
              "      <td>1.000000</td>\n",
              "      <td>-1.000000</td>\n",
              "      <td>0.000000</td>\n",
              "    </tr>\n",
              "    <tr>\n",
              "      <th>25%</th>\n",
              "      <td>32.000000</td>\n",
              "      <td>122.000000</td>\n",
              "      <td>8.000000</td>\n",
              "      <td>138.000000</td>\n",
              "      <td>1.000000</td>\n",
              "      <td>-1.000000</td>\n",
              "      <td>0.000000</td>\n",
              "    </tr>\n",
              "    <tr>\n",
              "      <th>50%</th>\n",
              "      <td>39.000000</td>\n",
              "      <td>550.000000</td>\n",
              "      <td>15.000000</td>\n",
              "      <td>255.000000</td>\n",
              "      <td>2.000000</td>\n",
              "      <td>-1.000000</td>\n",
              "      <td>0.000000</td>\n",
              "    </tr>\n",
              "    <tr>\n",
              "      <th>75%</th>\n",
              "      <td>49.000000</td>\n",
              "      <td>1708.000000</td>\n",
              "      <td>22.000000</td>\n",
              "      <td>496.000000</td>\n",
              "      <td>3.000000</td>\n",
              "      <td>20.750000</td>\n",
              "      <td>1.000000</td>\n",
              "    </tr>\n",
              "    <tr>\n",
              "      <th>max</th>\n",
              "      <td>95.000000</td>\n",
              "      <td>81204.000000</td>\n",
              "      <td>31.000000</td>\n",
              "      <td>3881.000000</td>\n",
              "      <td>63.000000</td>\n",
              "      <td>854.000000</td>\n",
              "      <td>58.000000</td>\n",
              "    </tr>\n",
              "  </tbody>\n",
              "</table>\n",
              "</div>\n",
              "    <div class=\"colab-df-buttons\">\n",
              "\n",
              "  <div class=\"colab-df-container\">\n",
              "    <button class=\"colab-df-convert\" onclick=\"convertToInteractive('df-f30a4edb-9bfa-48df-ab5c-d0eb744cdec5')\"\n",
              "            title=\"Convert this dataframe to an interactive table.\"\n",
              "            style=\"display:none;\">\n",
              "\n",
              "  <svg xmlns=\"http://www.w3.org/2000/svg\" height=\"24px\" viewBox=\"0 -960 960 960\">\n",
              "    <path d=\"M120-120v-720h720v720H120Zm60-500h600v-160H180v160Zm220 220h160v-160H400v160Zm0 220h160v-160H400v160ZM180-400h160v-160H180v160Zm440 0h160v-160H620v160ZM180-180h160v-160H180v160Zm440 0h160v-160H620v160Z\"/>\n",
              "  </svg>\n",
              "    </button>\n",
              "\n",
              "  <style>\n",
              "    .colab-df-container {\n",
              "      display:flex;\n",
              "      gap: 12px;\n",
              "    }\n",
              "\n",
              "    .colab-df-convert {\n",
              "      background-color: #E8F0FE;\n",
              "      border: none;\n",
              "      border-radius: 50%;\n",
              "      cursor: pointer;\n",
              "      display: none;\n",
              "      fill: #1967D2;\n",
              "      height: 32px;\n",
              "      padding: 0 0 0 0;\n",
              "      width: 32px;\n",
              "    }\n",
              "\n",
              "    .colab-df-convert:hover {\n",
              "      background-color: #E2EBFA;\n",
              "      box-shadow: 0px 1px 2px rgba(60, 64, 67, 0.3), 0px 1px 3px 1px rgba(60, 64, 67, 0.15);\n",
              "      fill: #174EA6;\n",
              "    }\n",
              "\n",
              "    .colab-df-buttons div {\n",
              "      margin-bottom: 4px;\n",
              "    }\n",
              "\n",
              "    [theme=dark] .colab-df-convert {\n",
              "      background-color: #3B4455;\n",
              "      fill: #D2E3FC;\n",
              "    }\n",
              "\n",
              "    [theme=dark] .colab-df-convert:hover {\n",
              "      background-color: #434B5C;\n",
              "      box-shadow: 0px 1px 3px 1px rgba(0, 0, 0, 0.15);\n",
              "      filter: drop-shadow(0px 1px 2px rgba(0, 0, 0, 0.3));\n",
              "      fill: #FFFFFF;\n",
              "    }\n",
              "  </style>\n",
              "\n",
              "    <script>\n",
              "      const buttonEl =\n",
              "        document.querySelector('#df-f30a4edb-9bfa-48df-ab5c-d0eb744cdec5 button.colab-df-convert');\n",
              "      buttonEl.style.display =\n",
              "        google.colab.kernel.accessAllowed ? 'block' : 'none';\n",
              "\n",
              "      async function convertToInteractive(key) {\n",
              "        const element = document.querySelector('#df-f30a4edb-9bfa-48df-ab5c-d0eb744cdec5');\n",
              "        const dataTable =\n",
              "          await google.colab.kernel.invokeFunction('convertToInteractive',\n",
              "                                                    [key], {});\n",
              "        if (!dataTable) return;\n",
              "\n",
              "        const docLinkHtml = 'Like what you see? Visit the ' +\n",
              "          '<a target=\"_blank\" href=https://colab.research.google.com/notebooks/data_table.ipynb>data table notebook</a>'\n",
              "          + ' to learn more about interactive tables.';\n",
              "        element.innerHTML = '';\n",
              "        dataTable['output_type'] = 'display_data';\n",
              "        await google.colab.output.renderOutput(dataTable, element);\n",
              "        const docLink = document.createElement('div');\n",
              "        docLink.innerHTML = docLinkHtml;\n",
              "        element.appendChild(docLink);\n",
              "      }\n",
              "    </script>\n",
              "  </div>\n",
              "\n",
              "\n",
              "<div id=\"df-6edf2127-9efd-482f-ad12-a1cdebdca48d\">\n",
              "  <button class=\"colab-df-quickchart\" onclick=\"quickchart('df-6edf2127-9efd-482f-ad12-a1cdebdca48d')\"\n",
              "            title=\"Suggest charts.\"\n",
              "            style=\"display:none;\">\n",
              "\n",
              "<svg xmlns=\"http://www.w3.org/2000/svg\" height=\"24px\"viewBox=\"0 0 24 24\"\n",
              "     width=\"24px\">\n",
              "    <g>\n",
              "        <path d=\"M19 3H5c-1.1 0-2 .9-2 2v14c0 1.1.9 2 2 2h14c1.1 0 2-.9 2-2V5c0-1.1-.9-2-2-2zM9 17H7v-7h2v7zm4 0h-2V7h2v10zm4 0h-2v-4h2v4z\"/>\n",
              "    </g>\n",
              "</svg>\n",
              "  </button>\n",
              "\n",
              "<style>\n",
              "  .colab-df-quickchart {\n",
              "      --bg-color: #E8F0FE;\n",
              "      --fill-color: #1967D2;\n",
              "      --hover-bg-color: #E2EBFA;\n",
              "      --hover-fill-color: #174EA6;\n",
              "      --disabled-fill-color: #AAA;\n",
              "      --disabled-bg-color: #DDD;\n",
              "  }\n",
              "\n",
              "  [theme=dark] .colab-df-quickchart {\n",
              "      --bg-color: #3B4455;\n",
              "      --fill-color: #D2E3FC;\n",
              "      --hover-bg-color: #434B5C;\n",
              "      --hover-fill-color: #FFFFFF;\n",
              "      --disabled-bg-color: #3B4455;\n",
              "      --disabled-fill-color: #666;\n",
              "  }\n",
              "\n",
              "  .colab-df-quickchart {\n",
              "    background-color: var(--bg-color);\n",
              "    border: none;\n",
              "    border-radius: 50%;\n",
              "    cursor: pointer;\n",
              "    display: none;\n",
              "    fill: var(--fill-color);\n",
              "    height: 32px;\n",
              "    padding: 0;\n",
              "    width: 32px;\n",
              "  }\n",
              "\n",
              "  .colab-df-quickchart:hover {\n",
              "    background-color: var(--hover-bg-color);\n",
              "    box-shadow: 0 1px 2px rgba(60, 64, 67, 0.3), 0 1px 3px 1px rgba(60, 64, 67, 0.15);\n",
              "    fill: var(--button-hover-fill-color);\n",
              "  }\n",
              "\n",
              "  .colab-df-quickchart-complete:disabled,\n",
              "  .colab-df-quickchart-complete:disabled:hover {\n",
              "    background-color: var(--disabled-bg-color);\n",
              "    fill: var(--disabled-fill-color);\n",
              "    box-shadow: none;\n",
              "  }\n",
              "\n",
              "  .colab-df-spinner {\n",
              "    border: 2px solid var(--fill-color);\n",
              "    border-color: transparent;\n",
              "    border-bottom-color: var(--fill-color);\n",
              "    animation:\n",
              "      spin 1s steps(1) infinite;\n",
              "  }\n",
              "\n",
              "  @keyframes spin {\n",
              "    0% {\n",
              "      border-color: transparent;\n",
              "      border-bottom-color: var(--fill-color);\n",
              "      border-left-color: var(--fill-color);\n",
              "    }\n",
              "    20% {\n",
              "      border-color: transparent;\n",
              "      border-left-color: var(--fill-color);\n",
              "      border-top-color: var(--fill-color);\n",
              "    }\n",
              "    30% {\n",
              "      border-color: transparent;\n",
              "      border-left-color: var(--fill-color);\n",
              "      border-top-color: var(--fill-color);\n",
              "      border-right-color: var(--fill-color);\n",
              "    }\n",
              "    40% {\n",
              "      border-color: transparent;\n",
              "      border-right-color: var(--fill-color);\n",
              "      border-top-color: var(--fill-color);\n",
              "    }\n",
              "    60% {\n",
              "      border-color: transparent;\n",
              "      border-right-color: var(--fill-color);\n",
              "    }\n",
              "    80% {\n",
              "      border-color: transparent;\n",
              "      border-right-color: var(--fill-color);\n",
              "      border-bottom-color: var(--fill-color);\n",
              "    }\n",
              "    90% {\n",
              "      border-color: transparent;\n",
              "      border-bottom-color: var(--fill-color);\n",
              "    }\n",
              "  }\n",
              "</style>\n",
              "\n",
              "  <script>\n",
              "    async function quickchart(key) {\n",
              "      const quickchartButtonEl =\n",
              "        document.querySelector('#' + key + ' button');\n",
              "      quickchartButtonEl.disabled = true;  // To prevent multiple clicks.\n",
              "      quickchartButtonEl.classList.add('colab-df-spinner');\n",
              "      try {\n",
              "        const charts = await google.colab.kernel.invokeFunction(\n",
              "            'suggestCharts', [key], {});\n",
              "      } catch (error) {\n",
              "        console.error('Error during call to suggestCharts:', error);\n",
              "      }\n",
              "      quickchartButtonEl.classList.remove('colab-df-spinner');\n",
              "      quickchartButtonEl.classList.add('colab-df-quickchart-complete');\n",
              "    }\n",
              "    (() => {\n",
              "      let quickchartButtonEl =\n",
              "        document.querySelector('#df-6edf2127-9efd-482f-ad12-a1cdebdca48d button');\n",
              "      quickchartButtonEl.style.display =\n",
              "        google.colab.kernel.accessAllowed ? 'block' : 'none';\n",
              "    })();\n",
              "  </script>\n",
              "</div>\n",
              "    </div>\n",
              "  </div>\n"
            ]
          },
          "metadata": {},
          "execution_count": 23
        }
      ],
      "source": [
        "ds.describe()"
      ]
    },
    {
      "cell_type": "code",
      "execution_count": null,
      "metadata": {
        "id": "-xyalc7XQ1mO",
        "colab": {
          "base_uri": "https://localhost:8080/"
        },
        "outputId": "0323ce5b-787a-42b2-ed64-cc537c454d23"
      },
      "outputs": [
        {
          "output_type": "execute_result",
          "data": {
            "text/plain": [
              "age          11162\n",
              "job          11162\n",
              "marital      11162\n",
              "education    11162\n",
              "default      11162\n",
              "balance      11162\n",
              "housing      11162\n",
              "loan         11162\n",
              "contact      11162\n",
              "day          11162\n",
              "month        11162\n",
              "duration     11162\n",
              "campaign     11162\n",
              "pdays        11162\n",
              "previous     11162\n",
              "poutcome     11162\n",
              "deposit      11162\n",
              "dtype: int64"
            ]
          },
          "metadata": {},
          "execution_count": 24
        }
      ],
      "source": [
        "ds.count()"
      ]
    },
    {
      "cell_type": "code",
      "execution_count": null,
      "metadata": {
        "id": "Wcl14y22Q1mO",
        "colab": {
          "base_uri": "https://localhost:8080/"
        },
        "outputId": "e9dcb1ba-a683-4c55-e265-f10e590cb8fe"
      },
      "outputs": [
        {
          "output_type": "execute_result",
          "data": {
            "text/plain": [
              "17"
            ]
          },
          "metadata": {},
          "execution_count": 25
        }
      ],
      "source": [
        "len(df.columns)"
      ]
    },
    {
      "cell_type": "code",
      "source": [
        "# Tiempo de finalización para la extracción sin Spark\n",
        "end_time_no_spark = time.time()\n",
        "\n",
        "# Calcula el tiempo total para la extracción sin Spark\n",
        "elapsed_time_no_spark = end_time_no_spark - start_time_no_spark\n",
        "\n",
        "# Imprime los resultados\n",
        "print(f\"Tiempo de ejecución con Spark: {elapsed_time_spark} segundos\")\n",
        "print(f\"Tiempo de ejecución sin Spark: {elapsed_time_no_spark} segundos\")"
      ],
      "metadata": {
        "id": "TAaiHbC0-UI_",
        "colab": {
          "base_uri": "https://localhost:8080/"
        },
        "outputId": "ba0dfab7-45cf-4a18-e14a-e57131649332"
      },
      "execution_count": null,
      "outputs": [
        {
          "output_type": "stream",
          "name": "stdout",
          "text": [
            "Tiempo de ejecución con Spark: 40.46485233306885 segundos\n",
            "Tiempo de ejecución sin Spark: 0.2873404026031494 segundos\n"
          ]
        }
      ]
    },
    {
      "cell_type": "code",
      "source": [
        "labels = ['Con Spark', 'Sin Spark']\n",
        "times = [elapsed_time_spark, elapsed_time_no_spark]\n",
        "\n",
        "plt.bar(labels, times, color=['blue', 'orange'])\n",
        "plt.ylabel('Tiempo de ejecución (segundos)')\n",
        "plt.title('Comparativa de Tiempos de Extracción con y sin Spark')\n",
        "plt.show()"
      ],
      "metadata": {
        "id": "o4Za3PEzvT0v",
        "colab": {
          "base_uri": "https://localhost:8080/",
          "height": 453
        },
        "outputId": "9e9f7a40-5376-4aa1-bc64-b15f0895ded4"
      },
      "execution_count": null,
      "outputs": [
        {
          "output_type": "display_data",
          "data": {
            "text/plain": [
              "<Figure size 640x480 with 1 Axes>"
            ],
            "image/png": "[encoded data removed]"
          },
          "metadata": {}
        }
      ]
    },
    {
      "cell_type": "markdown",
      "source": [
        "## **Transfromación Con Spark**"
      ],
      "metadata": {
        "id": "0aDqBRHqZze3"
      }
    },
    {
      "cell_type": "code",
      "source": [
        "start_time_spark_transformation = time.time()"
      ],
      "metadata": {
        "id": "vNamDQi_S_aO"
      },
      "execution_count": null,
      "outputs": []
    },
    {
      "cell_type": "code",
      "execution_count": null,
      "metadata": {
        "id": "BC1szpJaZNLg",
        "colab": {
          "base_uri": "https://localhost:8080/"
        },
        "outputId": "030e0618-6b95-4d25-81d1-b321cc1a585f"
      },
      "outputs": [
        {
          "output_type": "stream",
          "name": "stdout",
          "text": [
            "+---+----------+-------+---------+-------+-------+-------+----+-------+--------+--------+-----+--------+--------+-------+\n",
            "|age|       job|marital|education|default|balance|housing|loan|contact|duration|campaign|pdays|previous|poutcome|deposit|\n",
            "+---+----------+-------+---------+-------+-------+-------+----+-------+--------+--------+-----+--------+--------+-------+\n",
            "| 59|    admin.|married|secondary|     no|   2343|    yes|  no|unknown|    1042|       1|   -1|       0| unknown|    yes|\n",
            "| 56|    admin.|married|secondary|     no|     45|     no|  no|unknown|    1467|       1|   -1|       0| unknown|    yes|\n",
            "| 41|technician|married|secondary|     no|   1270|    yes|  no|unknown|    1389|       1|   -1|       0| unknown|    yes|\n",
            "| 55|  services|married|secondary|     no|   2476|    yes|  no|unknown|     579|       1|   -1|       0| unknown|    yes|\n",
            "| 54|    admin.|married| tertiary|     no|    184|     no|  no|unknown|     673|       2|   -1|       0| unknown|    yes|\n",
            "+---+----------+-------+---------+-------+-------+-------+----+-------+--------+--------+-----+--------+--------+-------+\n",
            "only showing top 5 rows\n",
            "\n"
          ]
        }
      ],
      "source": [
        "df = df.select('age', 'job', 'marital', 'education', 'default',  'balance',\n",
        "'housing', 'loan', 'contact', 'duration',  'campaign',\n",
        " 'pdays', 'previous', 'poutcome', 'deposit')\n",
        "\n",
        "df.show(5)"
      ]
    },
    {
      "cell_type": "code",
      "source": [
        "from pyspark.ml.feature import StringIndexer, OneHotEncoder, VectorAssembler\n",
        "from pyspark.ml.pipeline import Pipeline"
      ],
      "metadata": {
        "id": "HRGQ_u4NJeLj"
      },
      "execution_count": null,
      "outputs": []
    },
    {
      "cell_type": "code",
      "source": [
        "catCols = ['job', 'marital', 'education', 'default','housing', 'loan', 'contact', 'poutcome']\n",
        "# The index of string vlaues multiple columns\n",
        "indexers = [\n",
        "    StringIndexer(inputCol=c, outputCol=\"{0}_indexed\".format(c))\n",
        "    for c in catCols\n",
        "]\n",
        "\n",
        "# The encode of indexed values multiple columns\n",
        "encoders = [OneHotEncoder(dropLast=False,inputCol=indexer.getOutputCol(),\n",
        "            outputCol=\"{0}_encoded\".format(indexer.getOutputCol()))\n",
        "    for indexer in indexers\n",
        "]\n",
        "\n",
        "# Vectorizing encoded values\n",
        "assembler = VectorAssembler(inputCols=[encoder.getOutputCol() for encoder in encoders],outputCol=\"rawFeatures\")\n",
        "\n",
        "numericCols = ['age', 'balance', 'duration',  'campaign', 'pdays', 'previous']\n",
        "\n",
        "pipeline = Pipeline(stages=indexers + encoders+ [assembler])\n",
        "model=pipeline.fit(df)\n",
        "transformed = model.transform(df)\n",
        "transformed.show(5)"
      ],
      "metadata": {
        "id": "dSUxb8KrKqji",
        "colab": {
          "base_uri": "https://localhost:8080/"
        },
        "outputId": "f035ee06-f79a-4204-882a-8215e29c3874"
      },
      "execution_count": null,
      "outputs": [
        {
          "output_type": "stream",
          "name": "stdout",
          "text": [
            "+---+----------+-------+---------+-------+-------+-------+----+-------+--------+--------+-----+--------+--------+-------+-----------+---------------+-----------------+---------------+---------------+------------+---------------+----------------+-------------------+-----------------------+-------------------------+-----------------------+-----------------------+--------------------+-----------------------+------------------------+--------------------+\n",
            "|age|       job|marital|education|default|balance|housing|loan|contact|duration|campaign|pdays|previous|poutcome|deposit|job_indexed|marital_indexed|education_indexed|default_indexed|housing_indexed|loan_indexed|contact_indexed|poutcome_indexed|job_indexed_encoded|marital_indexed_encoded|education_indexed_encoded|default_indexed_encoded|housing_indexed_encoded|loan_indexed_encoded|contact_indexed_encoded|poutcome_indexed_encoded|         rawFeatures|\n",
            "+---+----------+-------+---------+-------+-------+-------+----+-------+--------+--------+-----+--------+--------+-------+-----------+---------------+-----------------+---------------+---------------+------------+---------------+----------------+-------------------+-----------------------+-------------------------+-----------------------+-----------------------+--------------------+-----------------------+------------------------+--------------------+\n",
            "| 59|    admin.|married|secondary|     no|   2343|    yes|  no|unknown|    1042|       1|   -1|       0| unknown|    yes|        3.0|            0.0|              0.0|            0.0|            1.0|         0.0|            1.0|             0.0|     (12,[3],[1.0])|          (3,[0],[1.0])|            (4,[0],[1.0])|          (2,[0],[1.0])|          (2,[1],[1.0])|       (2,[0],[1.0])|          (3,[1],[1.0])|           (4,[0],[1.0])|(32,[3,12,15,19,2...|\n",
            "| 56|    admin.|married|secondary|     no|     45|     no|  no|unknown|    1467|       1|   -1|       0| unknown|    yes|        3.0|            0.0|              0.0|            0.0|            0.0|         0.0|            1.0|             0.0|     (12,[3],[1.0])|          (3,[0],[1.0])|            (4,[0],[1.0])|          (2,[0],[1.0])|          (2,[0],[1.0])|       (2,[0],[1.0])|          (3,[1],[1.0])|           (4,[0],[1.0])|(32,[3,12,15,19,2...|\n",
            "| 41|technician|married|secondary|     no|   1270|    yes|  no|unknown|    1389|       1|   -1|       0| unknown|    yes|        2.0|            0.0|              0.0|            0.0|            1.0|         0.0|            1.0|             0.0|     (12,[2],[1.0])|          (3,[0],[1.0])|            (4,[0],[1.0])|          (2,[0],[1.0])|          (2,[1],[1.0])|       (2,[0],[1.0])|          (3,[1],[1.0])|           (4,[0],[1.0])|(32,[2,12,15,19,2...|\n",
            "| 55|  services|married|secondary|     no|   2476|    yes|  no|unknown|     579|       1|   -1|       0| unknown|    yes|        4.0|            0.0|              0.0|            0.0|            1.0|         0.0|            1.0|             0.0|     (12,[4],[1.0])|          (3,[0],[1.0])|            (4,[0],[1.0])|          (2,[0],[1.0])|          (2,[1],[1.0])|       (2,[0],[1.0])|          (3,[1],[1.0])|           (4,[0],[1.0])|(32,[4,12,15,19,2...|\n",
            "| 54|    admin.|married| tertiary|     no|    184|     no|  no|unknown|     673|       2|   -1|       0| unknown|    yes|        3.0|            0.0|              1.0|            0.0|            0.0|         0.0|            1.0|             0.0|     (12,[3],[1.0])|          (3,[0],[1.0])|            (4,[1],[1.0])|          (2,[0],[1.0])|          (2,[0],[1.0])|       (2,[0],[1.0])|          (3,[1],[1.0])|           (4,[0],[1.0])|(32,[3,12,16,19,2...|\n",
            "+---+----------+-------+---------+-------+-------+-------+----+-------+--------+--------+-----+--------+--------+-------+-----------+---------------+-----------------+---------------+---------------+------------+---------------+----------------+-------------------+-----------------------+-------------------------+-----------------------+-----------------------+--------------------+-----------------------+------------------------+--------------------+\n",
            "only showing top 5 rows\n",
            "\n"
          ]
        }
      ]
    },
    {
      "cell_type": "code",
      "execution_count": null,
      "metadata": {
        "id": "suZescOEZNLg",
        "colab": {
          "base_uri": "https://localhost:8080/"
        },
        "outputId": "7b36e54f-d04b-449d-9b73-34dbb8eb7a5b"
      },
      "outputs": [
        {
          "output_type": "stream",
          "name": "stdout",
          "text": [
            "root\n",
            " |-- rawFeatures: vector (nullable = true)\n",
            "\n"
          ]
        }
      ],
      "source": [
        "transformed.select('rawFeatures').printSchema()\n"
      ]
    },
    {
      "cell_type": "code",
      "source": [
        "end_time_spark_transformation = time.time()"
      ],
      "metadata": {
        "id": "poGOysxvTD58"
      },
      "execution_count": null,
      "outputs": []
    },
    {
      "cell_type": "code",
      "source": [
        "elapsed_time_spark_transformation = end_time_spark_transformation - start_time_spark_transformation"
      ],
      "metadata": {
        "id": "9yXmnh78TLFW"
      },
      "execution_count": null,
      "outputs": []
    },
    {
      "cell_type": "markdown",
      "source": [
        "## **Transformación sin Spark**"
      ],
      "metadata": {
        "id": "Asf8xlV3P5f1"
      }
    },
    {
      "cell_type": "code",
      "source": [
        "start_time_no_spark_transformation = time.time()"
      ],
      "metadata": {
        "id": "5mYN_vp_T4b9"
      },
      "execution_count": null,
      "outputs": []
    },
    {
      "cell_type": "code",
      "source": [
        "import pandas as pd\n",
        "from sklearn.preprocessing import OneHotEncoder\n",
        "from sklearn.compose import ColumnTransformer\n",
        "from sklearn.pipeline import Pipeline\n",
        "import time\n",
        "\n",
        "# Supongamos que tienes un DataFrame llamado 'ds' con tus datos.\n",
        "ds = pd.read_csv('bank.csv', header=0)\n",
        "\n",
        "# Columnas categóricas\n",
        "catCols = ['job', 'marital', 'education', 'default', 'housing', 'loan', 'contact', 'poutcome']\n",
        "\n",
        "# Columnas numéricas (excluyendo 'deposit' que es la etiqueta)\n",
        "numericCols = ['age', 'balance', 'duration', 'campaign', 'pdays', 'previous']\n",
        "\n",
        "# Selecciona las características y la etiqueta\n",
        "X = ds[numericCols + catCols]\n",
        "y = ds['deposit']\n",
        "\n",
        "# Definimos un preprocesador que manejará las columnas categóricas y numéricas\n",
        "preprocessor = ColumnTransformer(\n",
        "    transformers=[\n",
        "        ('num', 'passthrough', numericCols),  # No necesita encoding\n",
        "        ('cat', OneHotEncoder(drop='first'), catCols)\n",
        "    ])\n",
        "\n",
        "# Creamos un pipeline que incluye el preprocesamiento\n",
        "pipeline = Pipeline(steps=[\n",
        "    ('preprocessor', preprocessor)\n",
        "])\n",
        "\n",
        "# Medimos el tiempo de inicio\n",
        "start_time = time.time()\n",
        "\n",
        "# Ajustamos y transformamos los datos\n",
        "transformed_data = pipeline.fit_transform(X)\n",
        "\n",
        "# Medimos el tiempo de finalización\n",
        "end_time = time.time()\n",
        "\n",
        "# Calculamos el tiempo transcurrido\n",
        "elapsed_time = end_time - start_time\n",
        "\n",
        "# El resultado se encuentra en un formato de matriz NumPy\n",
        "transformed_df = pd.DataFrame(transformed_data)\n",
        "\n",
        "# Muestra las primeras 5 filas del DataFrame transformado\n",
        "print(transformed_df.head(5))\n",
        "\n",
        "# Muestra el tiempo de ejecución\n",
        "print(f\"Tiempo de ejecución: {elapsed_time} segundos\")\n"
      ],
      "metadata": {
        "id": "0wtSInurP-MD",
        "colab": {
          "base_uri": "https://localhost:8080/"
        },
        "outputId": "c43287d4-00a7-43e7-e0f1-2164afce06db"
      },
      "execution_count": null,
      "outputs": [
        {
          "output_type": "stream",
          "name": "stdout",
          "text": [
            "     0       1       2    3    4    5    6    7    8    9   ...   20   21  \\\n",
            "0  59.0  2343.0  1042.0  1.0 -1.0  0.0  0.0  0.0  0.0  0.0  ...  0.0  0.0   \n",
            "1  56.0    45.0  1467.0  1.0 -1.0  0.0  0.0  0.0  0.0  0.0  ...  0.0  0.0   \n",
            "2  41.0  1270.0  1389.0  1.0 -1.0  0.0  0.0  0.0  0.0  0.0  ...  0.0  0.0   \n",
            "3  55.0  2476.0   579.0  1.0 -1.0  0.0  0.0  0.0  0.0  0.0  ...  0.0  0.0   \n",
            "4  54.0   184.0   673.0  2.0 -1.0  0.0  0.0  0.0  0.0  0.0  ...  1.0  0.0   \n",
            "\n",
            "    22   23   24   25   26   27   28   29  \n",
            "0  0.0  1.0  0.0  0.0  1.0  0.0  0.0  1.0  \n",
            "1  0.0  0.0  0.0  0.0  1.0  0.0  0.0  1.0  \n",
            "2  0.0  1.0  0.0  0.0  1.0  0.0  0.0  1.0  \n",
            "3  0.0  1.0  0.0  0.0  1.0  0.0  0.0  1.0  \n",
            "4  0.0  0.0  0.0  0.0  1.0  0.0  0.0  1.0  \n",
            "\n",
            "[5 rows x 30 columns]\n",
            "Tiempo de ejecución: 0.06888103485107422 segundos\n"
          ]
        }
      ]
    },
    {
      "cell_type": "code",
      "source": [
        "end_time_no_spark_transformation = time.time()"
      ],
      "metadata": {
        "id": "PDKdJnvCUKMU"
      },
      "execution_count": null,
      "outputs": []
    },
    {
      "cell_type": "code",
      "source": [
        "elapsed_time_no_spark_transformation = end_time_no_spark_transformation - start_time_no_spark_transformation"
      ],
      "metadata": {
        "id": "k4spOavjTOOl"
      },
      "execution_count": null,
      "outputs": []
    },
    {
      "cell_type": "code",
      "source": [
        "# Guardamos los tiempos en un DataFrame para facilitar la presentación\n",
        "transformation_data = {\n",
        "    'Con Spark': [elapsed_time_spark_transformation],\n",
        "    'Sin Spark': [elapsed_time_no_spark_transformation]\n",
        "}\n",
        "\n",
        "transformation_time_df = pd.DataFrame(transformation_data)\n",
        "\n",
        "# Mostramos los tiempos en una tabla\n",
        "print(\"Tiempos de Transformación:\")\n",
        "print(transformation_time_df)\n",
        "\n",
        "# Mostramos los tiempos en un gráfico de barras\n",
        "labels = ['Con Spark', 'Sin Spark']\n",
        "times = [elapsed_time_spark_transformation, elapsed_time_no_spark_transformation]\n",
        "\n",
        "plt.bar(labels, times, color=['blue', 'orange'])\n",
        "plt.ylabel('Tiempo de ejecución (segundos)')\n",
        "plt.title('Comparativa de Tiempos de Transformación con y sin Spark')\n",
        "plt.show()"
      ],
      "metadata": {
        "id": "63btHYQKSYiT",
        "colab": {
          "base_uri": "https://localhost:8080/",
          "height": 505
        },
        "outputId": "73331ea6-21e6-47eb-dd4a-59a6814fe41a"
      },
      "execution_count": null,
      "outputs": [
        {
          "output_type": "stream",
          "name": "stdout",
          "text": [
            "Tiempos de Transformación:\n",
            "   Con Spark  Sin Spark\n",
            "0    8.03868   0.179106\n"
          ]
        },
        {
          "output_type": "display_data",
          "data": {
            "text/plain": [
              "<Figure size 640x480 with 1 Axes>"
            ],
            "image/png": "[encoded data removed]"
          },
          "metadata": {}
        }
      ]
    },
    {
      "cell_type": "markdown",
      "metadata": {
        "id": "x88sHKn3ZNLg"
      },
      "source": [
        "## Modelo de entrenamiento y prueba Con y sin Spark"
      ]
    },
    {
      "cell_type": "markdown",
      "source": [
        "## **Training con Spark**"
      ],
      "metadata": {
        "id": "IMoIcysjQbBI"
      }
    },
    {
      "cell_type": "code",
      "execution_count": null,
      "metadata": {
        "id": "Yb2LPSQYZNLh",
        "colab": {
          "base_uri": "https://localhost:8080/"
        },
        "outputId": "3fded70f-0d02-4d9e-f898-862024876493"
      },
      "outputs": [
        {
          "output_type": "stream",
          "name": "stdout",
          "text": [
            "Forma de trainingData (con Spark): 7825\n",
            "Forma de testData (con Spark): 3337\n"
          ]
        }
      ],
      "source": [
        "# Medimos el tiempo de inicio para la división de datos con Spark\n",
        "start_time_spark_split = time.time()\n",
        "\n",
        "# División de datos con Spark\n",
        "(trainingData_spark, testData_spark) = transformed.randomSplit([0.7, 0.3], seed=11)\n",
        "\n",
        "# Medimos el tiempo de finalización para la división de datos con Spark\n",
        "end_time_spark_split = time.time()\n",
        "\n",
        "# Calculamos el tiempo total para la división de datos con Spark\n",
        "elapsed_time_spark_split = end_time_spark_split - start_time_spark_split\n",
        "\n",
        "# Imprimimos la forma de los conjuntos de entrenamiento y prueba con Spark\n",
        "print(\"Forma de trainingData (con Spark):\", trainingData_spark.count())\n",
        "print(\"Forma de testData (con Spark):\", testData_spark.count())"
      ]
    },
    {
      "cell_type": "code",
      "execution_count": null,
      "metadata": {
        "id": "xR43IVg5ZNLi",
        "colab": {
          "base_uri": "https://localhost:8080/"
        },
        "outputId": "f404effd-c377-4a43-90a8-fc1a3ca973b8"
      },
      "outputs": [
        {
          "output_type": "stream",
          "name": "stdout",
          "text": [
            "+---+-------+-------+---------+-------+-------+-------+----+--------+--------+--------+-----+--------+--------+-------+-----------+---------------+-----------------+---------------+---------------+------------+---------------+----------------+-------------------+-----------------------+-------------------------+-----------------------+-----------------------+--------------------+-----------------------+------------------------+--------------------+\n",
            "|age|    job|marital|education|default|balance|housing|loan| contact|duration|campaign|pdays|previous|poutcome|deposit|job_indexed|marital_indexed|education_indexed|default_indexed|housing_indexed|loan_indexed|contact_indexed|poutcome_indexed|job_indexed_encoded|marital_indexed_encoded|education_indexed_encoded|default_indexed_encoded|housing_indexed_encoded|loan_indexed_encoded|contact_indexed_encoded|poutcome_indexed_encoded|         rawFeatures|\n",
            "+---+-------+-------+---------+-------+-------+-------+----+--------+--------+--------+-----+--------+--------+-------+-----------+---------------+-----------------+---------------+---------------+------------+---------------+----------------+-------------------+-----------------------+-------------------------+-----------------------+-----------------------+--------------------+-----------------------+------------------------+--------------------+\n",
            "| 18|student| single|  primary|     no|    608|     no|  no|cellular|     210|       1|   93|       1| success|    yes|        7.0|            1.0|              2.0|            0.0|            0.0|         0.0|            0.0|             2.0|     (12,[7],[1.0])|          (3,[1],[1.0])|            (4,[2],[1.0])|          (2,[0],[1.0])|          (2,[0],[1.0])|       (2,[0],[1.0])|          (3,[0],[1.0])|           (4,[2],[1.0])|(32,[7,13,17,19,2...|\n",
            "| 18|student| single|  primary|     no|    608|     no|  no|cellular|     267|       1|   -1|       0| unknown|    yes|        7.0|            1.0|              2.0|            0.0|            0.0|         0.0|            0.0|             0.0|     (12,[7],[1.0])|          (3,[1],[1.0])|            (4,[2],[1.0])|          (2,[0],[1.0])|          (2,[0],[1.0])|       (2,[0],[1.0])|          (3,[0],[1.0])|           (4,[0],[1.0])|(32,[7,13,17,19,2...|\n",
            "| 18|student| single|secondary|     no|      5|     no|  no|cellular|     143|       2|   -1|       0| unknown|     no|        7.0|            1.0|              0.0|            0.0|            0.0|         0.0|            0.0|             0.0|     (12,[7],[1.0])|          (3,[1],[1.0])|            (4,[0],[1.0])|          (2,[0],[1.0])|          (2,[0],[1.0])|       (2,[0],[1.0])|          (3,[0],[1.0])|           (4,[0],[1.0])|(32,[7,13,15,19,2...|\n",
            "| 18|student| single|  unknown|     no|      3|     no|  no|cellular|     130|       2|   -1|       0| unknown|    yes|        7.0|            1.0|              3.0|            0.0|            0.0|         0.0|            0.0|             0.0|     (12,[7],[1.0])|          (3,[1],[1.0])|            (4,[3],[1.0])|          (2,[0],[1.0])|          (2,[0],[1.0])|       (2,[0],[1.0])|          (3,[0],[1.0])|           (4,[0],[1.0])|(32,[7,13,18,19,2...|\n",
            "| 18|student| single|  unknown|     no|    108|     no|  no|cellular|      92|       1|  183|       1| success|    yes|        7.0|            1.0|              3.0|            0.0|            0.0|         0.0|            0.0|             2.0|     (12,[7],[1.0])|          (3,[1],[1.0])|            (4,[3],[1.0])|          (2,[0],[1.0])|          (2,[0],[1.0])|       (2,[0],[1.0])|          (3,[0],[1.0])|           (4,[2],[1.0])|(32,[7,13,18,19,2...|\n",
            "+---+-------+-------+---------+-------+-------+-------+----+--------+--------+--------+-----+--------+--------+-------+-----------+---------------+-----------------+---------------+---------------+------------+---------------+----------------+-------------------+-----------------------+-------------------------+-----------------------+-----------------------+--------------------+-----------------------+------------------------+--------------------+\n",
            "only showing top 5 rows\n",
            "\n"
          ]
        }
      ],
      "source": [
        "trainingData_spark.show(5)\n"
      ]
    },
    {
      "cell_type": "markdown",
      "source": [
        "## **Training Sin spark**"
      ],
      "metadata": {
        "id": "eqOCqPs5Qi9Z"
      }
    },
    {
      "cell_type": "code",
      "source": [
        "from sklearn.model_selection import train_test_split\n",
        "import time\n",
        "\n",
        "# Supongamos que 'transformed_df' es tu DataFrame transformado\n",
        "\n",
        "# Medimos el tiempo de inicio\n",
        "start_time_spark_split = time.time()\n",
        "\n",
        "# Divide los datos en conjuntos de entrenamiento y prueba (70% de entrenamiento, 30% de prueba)\n",
        "trainingData, testData = train_test_split(transformed_df, test_size=0.3, random_state=11)\n",
        "\n",
        "# Medimos el tiempo de finalización\n",
        "end_time_spark_split = time.time()\n",
        "\n",
        "# Calculamos el tiempo transcurrido\n",
        "elapsed_time_no_spark_split = end_time_spark_split - start_time_spark_split\n",
        "\n",
        "# Verifica las formas de los conjuntos de entrenamiento y prueba\n",
        "print(\"Forma de trainingData:\", trainingData.shape)\n",
        "print(\"Forma de testData:\", testData.shape)\n",
        "\n",
        "# Muestra el tiempo de ejecución\n",
        "print(f\"Tiempo de ejecución para la división de datos: {elapsed_time} segundos\")\n"
      ],
      "metadata": {
        "id": "VGbGDYpLQnVn",
        "colab": {
          "base_uri": "https://localhost:8080/"
        },
        "outputId": "3041fca6-ed67-476c-e144-6430f0bd6f0b"
      },
      "execution_count": null,
      "outputs": [
        {
          "output_type": "stream",
          "name": "stdout",
          "text": [
            "Forma de trainingData: (7813, 30)\n",
            "Forma de testData: (3349, 30)\n",
            "Tiempo de ejecución para la división de datos: 0.06888103485107422 segundos\n"
          ]
        }
      ]
    },
    {
      "cell_type": "code",
      "source": [
        "# Guardamos los tiempos en un DataFrame para facilitar la presentación\n",
        "split_data = {\n",
        "    'Con Spark': [elapsed_time_spark_split],\n",
        "    'Sin Spark': [elapsed_time_no_spark_split]\n",
        "}"
      ],
      "metadata": {
        "id": "dK_LcjXzWEfd"
      },
      "execution_count": null,
      "outputs": []
    },
    {
      "cell_type": "code",
      "source": [
        "print(split_data)\n",
        "split_data_df = pd.DataFrame(split_data)\n",
        "\n",
        "# Mostramos los tiempos en una tabla\n",
        "print(\"Tiempos de Transformación:\")\n",
        "print(transformation_time_df)\n",
        "\n",
        "# Mostramos los tiempos en un gráfico de barras\n",
        "labels = ['Con Spark', 'Sin Spark']\n",
        "times = [elapsed_time_spark_split, elapsed_time_no_spark_split]\n",
        "\n",
        "plt.bar(labels, times, color=['blue', 'orange'])\n",
        "plt.ylabel('Tiempo de ejecución (segundos)')\n",
        "plt.title('Comparativa de Tiempos de Entrenamiento con y sin Spark')\n",
        "plt.show()"
      ],
      "metadata": {
        "id": "gNHKdJ1eYP7e",
        "colab": {
          "base_uri": "https://localhost:8080/",
          "height": 521
        },
        "outputId": "2ab2de03-605c-411b-d7a3-2178d2495696"
      },
      "execution_count": null,
      "outputs": [
        {
          "output_type": "stream",
          "name": "stdout",
          "text": [
            "{'Con Spark': [0.03313088417053223], 'Sin Spark': [0.006376028060913086]}\n",
            "Tiempos de Transformación:\n",
            "   Con Spark  Sin Spark\n",
            "0    8.03868   0.179106\n"
          ]
        },
        {
          "output_type": "display_data",
          "data": {
            "text/plain": [
              "<Figure size 640x480 with 1 Axes>"
            ],
            "image/png": "[encoded data removed]"
          },
          "metadata": {}
        }
      ]
    },
    {
      "cell_type": "markdown",
      "source": [
        "## **Modelos de ML Con Spark**\n",
        "\n",
        "* LogisticRegression\n",
        "\n",
        "* DecisionTreeClassifier\n",
        "\n",
        "* RadomForestClassifier\n",
        "\n",
        "* Gradient-boosted tree classifier\n",
        "\n",
        "* NaiveBayes\n",
        "\n",
        "* support Vector Machine"
      ],
      "metadata": {
        "id": "8IQIdhKsjSw8"
      }
    },
    {
      "cell_type": "markdown",
      "metadata": {
        "id": "Wkt7_tewZNLi"
      },
      "source": [
        "## **LogisticRegression**"
      ]
    },
    {
      "cell_type": "code",
      "execution_count": null,
      "metadata": {
        "id": "A9CJMH5FZNLi",
        "colab": {
          "base_uri": "https://localhost:8080/"
        },
        "outputId": "b1e6e562-5b27-4be4-adbc-b1a55173fe7f"
      },
      "outputs": [
        {
          "output_type": "stream",
          "name": "stdout",
          "text": [
            "Training Time: 9.947418451309204 seconds\n",
            "Prediction Time: 10.109852313995361 seconds\n",
            "+----------+------------+--------------------+\n",
            "|prediction|loan_indexed|         rawFeatures|\n",
            "+----------+------------+--------------------+\n",
            "|       0.0|         0.0|(32,[7,13,18,19,2...|\n",
            "|       0.0|         0.0|(32,[7,13,18,19,2...|\n",
            "|       0.0|         0.0|(32,[7,13,15,19,2...|\n",
            "|       0.0|         0.0|(32,[7,13,15,19,2...|\n",
            "|       0.0|         0.0|(32,[7,13,15,19,2...|\n",
            "|       0.0|         0.0|(32,[7,13,15,19,2...|\n",
            "|       0.0|         0.0|(32,[7,13,15,19,2...|\n",
            "|       0.0|         0.0|(32,[7,13,18,19,2...|\n",
            "|       1.0|         1.0|(32,[3,13,15,19,2...|\n",
            "|       0.0|         0.0|(32,[7,13,17,19,2...|\n",
            "|       0.0|         0.0|(32,[7,13,15,19,2...|\n",
            "|       0.0|         0.0|(32,[7,13,15,19,2...|\n",
            "|       0.0|         0.0|(32,[7,13,15,19,2...|\n",
            "|       0.0|         0.0|(32,[7,13,18,19,2...|\n",
            "|       0.0|         0.0|(32,[7,13,18,19,2...|\n",
            "|       0.0|         0.0|(32,[7,13,18,19,2...|\n",
            "|       1.0|         1.0|(32,[0,13,16,19,2...|\n",
            "|       0.0|         0.0|(32,[7,13,17,19,2...|\n",
            "|       0.0|         0.0|(32,[7,13,15,19,2...|\n",
            "|       0.0|         0.0|(32,[7,13,15,19,2...|\n",
            "+----------+------------+--------------------+\n",
            "only showing top 20 rows\n",
            "\n",
            "Accuracy: 1.0\n",
            "Evaluation Time: 12.571402072906494 seconds\n",
            "Total Time: 12.571600437164307 seconds\n"
          ]
        }
      ],
      "source": [
        "from pyspark.ml.classification import LogisticRegression\n",
        "from pyspark.ml.evaluation import MulticlassClassificationEvaluator\n",
        "import time\n",
        "\n",
        "\n",
        "def spark_total_tiempo(trainingData, testData):\n",
        "    # Iniciar el cronómetro total\n",
        "    total_start_time = time.time()\n",
        "\n",
        "    # Entrenamiento del modelo\n",
        "    lr = LogisticRegression(labelCol=\"loan_indexed\", featuresCol=\"rawFeatures\")\n",
        "    lrModel = lr.fit(trainingData_spark)\n",
        "\n",
        "    # Tiempo de entrenamiento\n",
        "    training_time = time.time() - total_start_time\n",
        "    print(\"Training Time: {} seconds\".format(training_time))\n",
        "\n",
        "    # Predicción\n",
        "    lr_prediction = lrModel.transform(testData_spark)\n",
        "\n",
        "    # Tiempo de predicción\n",
        "    prediction_time = time.time() - total_start_time\n",
        "    print(\"Prediction Time: {} seconds\".format(prediction_time))\n",
        "\n",
        "    # Mostrar resultados\n",
        "    lr_prediction.select(\"prediction\", \"loan_indexed\", \"rawFeatures\").show()\n",
        "\n",
        "    # Evaluación\n",
        "    evaluator = MulticlassClassificationEvaluator(labelCol=\"loan_indexed\", predictionCol=\"prediction\", metricName=\"accuracy\")\n",
        "\n",
        "    accuracy = evaluator.evaluate(lr_prediction)\n",
        "\n",
        "    # Tiempo de evaluación\n",
        "    evaluation_time = time.time() - total_start_time\n",
        "    print(\"Accuracy:\", accuracy)\n",
        "    print(\"Evaluation Time: {} seconds\".format(evaluation_time))\n",
        "\n",
        "    # Tiempo total\n",
        "    total_time = time.time() - total_start_time\n",
        "    print(\"Total Time: {} seconds\".format(total_time))\n",
        "\n",
        "    return accuracy, total_time\n",
        "\n",
        "# Llamar a la función con los conjuntos de datos de entrenamiento y prueba\n",
        "accuracy, total_time = spark_total_tiempo(trainingData, testData)\n"
      ]
    },
    {
      "cell_type": "markdown",
      "source": [
        "## **DecisionTreeClassifier**\n"
      ],
      "metadata": {
        "id": "qeAOlF31Xfpv"
      }
    },
    {
      "cell_type": "code",
      "execution_count": null,
      "metadata": {
        "id": "fjZ3KwZqZNLj",
        "colab": {
          "base_uri": "https://localhost:8080/"
        },
        "outputId": "e64442bb-0a86-4292-b6ec-e3910ca9e38c"
      },
      "outputs": [
        {
          "output_type": "stream",
          "name": "stdout",
          "text": [
            "+----------+------------+--------------------+\n",
            "|prediction|loan_indexed|         rawFeatures|\n",
            "+----------+------------+--------------------+\n",
            "|       0.0|         0.0|(32,[7,13,18,19,2...|\n",
            "|       0.0|         0.0|(32,[7,13,18,19,2...|\n",
            "|       0.0|         0.0|(32,[7,13,15,19,2...|\n",
            "|       0.0|         0.0|(32,[7,13,15,19,2...|\n",
            "|       0.0|         0.0|(32,[7,13,15,19,2...|\n",
            "|       0.0|         0.0|(32,[7,13,15,19,2...|\n",
            "|       0.0|         0.0|(32,[7,13,15,19,2...|\n",
            "|       0.0|         0.0|(32,[7,13,18,19,2...|\n",
            "|       1.0|         1.0|(32,[3,13,15,19,2...|\n",
            "|       0.0|         0.0|(32,[7,13,17,19,2...|\n",
            "|       0.0|         0.0|(32,[7,13,15,19,2...|\n",
            "|       0.0|         0.0|(32,[7,13,15,19,2...|\n",
            "|       0.0|         0.0|(32,[7,13,15,19,2...|\n",
            "|       0.0|         0.0|(32,[7,13,18,19,2...|\n",
            "|       0.0|         0.0|(32,[7,13,18,19,2...|\n",
            "|       0.0|         0.0|(32,[7,13,18,19,2...|\n",
            "|       1.0|         1.0|(32,[0,13,16,19,2...|\n",
            "|       0.0|         0.0|(32,[7,13,17,19,2...|\n",
            "|       0.0|         0.0|(32,[7,13,15,19,2...|\n",
            "|       0.0|         0.0|(32,[7,13,15,19,2...|\n",
            "+----------+------------+--------------------+\n",
            "only showing top 20 rows\n",
            "\n",
            "Elapsed Time: 2.9278435707092285 seconds\n"
          ]
        }
      ],
      "source": [
        "import time\n",
        "from pyspark.ml.classification import DecisionTreeClassifier\n",
        "\n",
        "# Record the start time\n",
        "start_time = time.time()\n",
        "\n",
        "# Create the DecisionTreeClassifier and fit the model\n",
        "dt = DecisionTreeClassifier(labelCol=\"loan_indexed\", featuresCol=\"rawFeatures\")\n",
        "dt_model = dt.fit(trainingData_spark)\n",
        "\n",
        "# Make predictions\n",
        "dt_prediction = dt_model.transform(testData_spark)\n",
        "\n",
        "# Record the end time\n",
        "end_time = time.time()\n",
        "\n",
        "# Calculate the elapsed time\n",
        "elapsed_time = end_time - start_time\n",
        "\n",
        "# Display the prediction and elapsed time\n",
        "dt_prediction.select(\"prediction\", \"loan_indexed\", \"rawFeatures\").show()\n",
        "print(f\"Elapsed Time: {elapsed_time} seconds\")\n"
      ]
    },
    {
      "cell_type": "code",
      "source": [
        "evaluator = MulticlassClassificationEvaluator(labelCol=\"loan_indexed\", predictionCol=\"prediction\", metricName=\"accuracy\")\n",
        "\n"
      ],
      "metadata": {
        "id": "gflm0G_AwsDD"
      },
      "execution_count": null,
      "outputs": []
    },
    {
      "cell_type": "code",
      "source": [
        "dt_accuracy = evaluator.evaluate(dt_prediction)\n",
        "print(\"Accuracy of DecisionTreeClassifier is = %g\"% (dt_accuracy))\n",
        "print(\"Test Error of DecisionTreeClassifier = %g \" % (1.0 - dt_accuracy))"
      ],
      "metadata": {
        "colab": {
          "base_uri": "https://localhost:8080/"
        },
        "id": "x1Vq4UZErHdo",
        "outputId": "2a1b35a5-20af-4670-8092-e46ced6c3dad"
      },
      "execution_count": null,
      "outputs": [
        {
          "output_type": "stream",
          "name": "stdout",
          "text": [
            "Accuracy of DecisionTreeClassifier is = 1\n",
            "Test Error of DecisionTreeClassifier = 0 \n"
          ]
        }
      ]
    },
    {
      "cell_type": "markdown",
      "source": [
        "## **RANDOMFORESTCLASSIFIER**"
      ],
      "metadata": {
        "id": "XinIVIf_nrFU"
      }
    },
    {
      "cell_type": "code",
      "source": [
        "from pyspark.ml.classification import RandomForestClassifier\n",
        "import time\n",
        "\n",
        "# Registra el tiempo de inicio\n",
        "start_time = time.time()\n",
        "\n",
        "# Crea el RandomForestClassifier\n",
        "rf = RandomForestClassifier(labelCol=\"loan_indexed\", featuresCol=\"rawFeatures\")\n",
        "\n",
        "# Ajusta el modelo a tus datos de entrenamiento\n",
        "rf_model = rf.fit(trainingData_spark)\n",
        "\n",
        "# Realiza predicciones en tus datos de prueba\n",
        "rf_prediction = rf_model.transform(testData_spark)\n",
        "\n",
        "# Selecciona las columnas que deseas mostrar\n",
        "rf_prediction.select(\"prediction\", \"loan_indexed\", \"rawFeatures\").show()\n",
        "\n",
        "# Registra el tiempo de finalización\n",
        "end_time = time.time()\n",
        "\n",
        "# Calcula el tiempo de ejecución\n",
        "execution_time = end_time - start_time\n",
        "\n",
        "# Imprime el tiempo de ejecución\n",
        "print(\"Tiempo de ejecución: {} segundos\".format(execution_time))\n"
      ],
      "metadata": {
        "id": "ymUM3bQsnwqF",
        "colab": {
          "base_uri": "https://localhost:8080/"
        },
        "outputId": "6dde8df9-175f-405e-e627-7ef7119c7084"
      },
      "execution_count": null,
      "outputs": [
        {
          "output_type": "stream",
          "name": "stdout",
          "text": [
            "+----------+------------+--------------------+\n",
            "|prediction|loan_indexed|         rawFeatures|\n",
            "+----------+------------+--------------------+\n",
            "|       0.0|         0.0|(32,[7,13,18,19,2...|\n",
            "|       0.0|         0.0|(32,[7,13,18,19,2...|\n",
            "|       0.0|         0.0|(32,[7,13,15,19,2...|\n",
            "|       0.0|         0.0|(32,[7,13,15,19,2...|\n",
            "|       0.0|         0.0|(32,[7,13,15,19,2...|\n",
            "|       0.0|         0.0|(32,[7,13,15,19,2...|\n",
            "|       0.0|         0.0|(32,[7,13,15,19,2...|\n",
            "|       0.0|         0.0|(32,[7,13,18,19,2...|\n",
            "|       1.0|         1.0|(32,[3,13,15,19,2...|\n",
            "|       0.0|         0.0|(32,[7,13,17,19,2...|\n",
            "|       0.0|         0.0|(32,[7,13,15,19,2...|\n",
            "|       0.0|         0.0|(32,[7,13,15,19,2...|\n",
            "|       0.0|         0.0|(32,[7,13,15,19,2...|\n",
            "|       0.0|         0.0|(32,[7,13,18,19,2...|\n",
            "|       0.0|         0.0|(32,[7,13,18,19,2...|\n",
            "|       0.0|         0.0|(32,[7,13,18,19,2...|\n",
            "|       1.0|         1.0|(32,[0,13,16,19,2...|\n",
            "|       0.0|         0.0|(32,[7,13,17,19,2...|\n",
            "|       0.0|         0.0|(32,[7,13,15,19,2...|\n",
            "|       0.0|         0.0|(32,[7,13,15,19,2...|\n",
            "+----------+------------+--------------------+\n",
            "only showing top 20 rows\n",
            "\n",
            "Tiempo de ejecución: 4.378693103790283 segundos\n"
          ]
        }
      ]
    },
    {
      "cell_type": "markdown",
      "source": [
        "EVALUATING"
      ],
      "metadata": {
        "id": "849syy-Anym8"
      }
    },
    {
      "cell_type": "code",
      "source": [
        "dt_accuracy = evaluator.evaluate(dt_prediction)\n",
        "print(\"Accuracy of DecisionTreeClassifier is = %g\"% (dt_accuracy))\n",
        "print(\"Test Error of DecisionTreeClassifier = %g \" % (1.0 - dt_accuracy))"
      ],
      "metadata": {
        "id": "gxvKmocSn3B0",
        "colab": {
          "base_uri": "https://localhost:8080/"
        },
        "outputId": "2f1d36b8-ccf7-4105-f010-8d2144f2e3eb"
      },
      "execution_count": null,
      "outputs": [
        {
          "output_type": "stream",
          "name": "stdout",
          "text": [
            "Accuracy of DecisionTreeClassifier is = 1\n",
            "Test Error of DecisionTreeClassifier = 0 \n"
          ]
        }
      ]
    },
    {
      "cell_type": "markdown",
      "source": [
        "### GRADIENT-BOOSTED TREE **CLASSIFIER**"
      ],
      "metadata": {
        "id": "kKzDzEryn3M7"
      }
    },
    {
      "cell_type": "code",
      "source": [
        "from pyspark.ml.classification import GBTClassifier\n",
        "from pyspark.sql import functions as F\n",
        "import time\n",
        "\n",
        "# Entrenar el modelo\n",
        "start_time = time.time()\n",
        "gbt = GBTClassifier(labelCol=\"loan_indexed\", featuresCol=\"rawFeatures\", maxIter=10)\n",
        "gbt_model = gbt.fit(trainingData_spark)\n",
        "training_time = time.time() - start_time\n",
        "\n",
        "# Realizar las predicciones\n",
        "start_time = time.time()\n",
        "gbt_prediction = gbt_model.transform(testData_spark)\n",
        "prediction_time = time.time() - start_time\n",
        "\n",
        "# Agregar las columnas de tiempo\n",
        "gbt_prediction = gbt_prediction.withColumn(\"training_time\", F.lit(training_time))\n",
        "gbt_prediction = gbt_prediction.withColumn(\"prediction_time\", F.lit(prediction_time))\n",
        "\n",
        "# Mostrar las predicciones y los tiempos\n",
        "gbt_prediction.select(\"prediction\", \"loan_indexed\", \"rawFeatures\", \"training_time\", \"prediction_time\").show()\n"
      ],
      "metadata": {
        "id": "3OsL4bOqn3Vs",
        "colab": {
          "base_uri": "https://localhost:8080/"
        },
        "outputId": "1f98d211-261a-4a1b-d007-7de10a6a8f09"
      },
      "execution_count": null,
      "outputs": [
        {
          "output_type": "stream",
          "name": "stdout",
          "text": [
            "+----------+------------+--------------------+-----------------+-------------------+\n",
            "|prediction|loan_indexed|         rawFeatures|    training_time|    prediction_time|\n",
            "+----------+------------+--------------------+-----------------+-------------------+\n",
            "|       0.0|         0.0|(32,[7,13,18,19,2...|5.675282001495361|0.23473048210144043|\n",
            "|       0.0|         0.0|(32,[7,13,18,19,2...|5.675282001495361|0.23473048210144043|\n",
            "|       0.0|         0.0|(32,[7,13,15,19,2...|5.675282001495361|0.23473048210144043|\n",
            "|       0.0|         0.0|(32,[7,13,15,19,2...|5.675282001495361|0.23473048210144043|\n",
            "|       0.0|         0.0|(32,[7,13,15,19,2...|5.675282001495361|0.23473048210144043|\n",
            "|       0.0|         0.0|(32,[7,13,15,19,2...|5.675282001495361|0.23473048210144043|\n",
            "|       0.0|         0.0|(32,[7,13,15,19,2...|5.675282001495361|0.23473048210144043|\n",
            "|       0.0|         0.0|(32,[7,13,18,19,2...|5.675282001495361|0.23473048210144043|\n",
            "|       1.0|         1.0|(32,[3,13,15,19,2...|5.675282001495361|0.23473048210144043|\n",
            "|       0.0|         0.0|(32,[7,13,17,19,2...|5.675282001495361|0.23473048210144043|\n",
            "|       0.0|         0.0|(32,[7,13,15,19,2...|5.675282001495361|0.23473048210144043|\n",
            "|       0.0|         0.0|(32,[7,13,15,19,2...|5.675282001495361|0.23473048210144043|\n",
            "|       0.0|         0.0|(32,[7,13,15,19,2...|5.675282001495361|0.23473048210144043|\n",
            "|       0.0|         0.0|(32,[7,13,18,19,2...|5.675282001495361|0.23473048210144043|\n",
            "|       0.0|         0.0|(32,[7,13,18,19,2...|5.675282001495361|0.23473048210144043|\n",
            "|       0.0|         0.0|(32,[7,13,18,19,2...|5.675282001495361|0.23473048210144043|\n",
            "|       1.0|         1.0|(32,[0,13,16,19,2...|5.675282001495361|0.23473048210144043|\n",
            "|       0.0|         0.0|(32,[7,13,17,19,2...|5.675282001495361|0.23473048210144043|\n",
            "|       0.0|         0.0|(32,[7,13,15,19,2...|5.675282001495361|0.23473048210144043|\n",
            "|       0.0|         0.0|(32,[7,13,15,19,2...|5.675282001495361|0.23473048210144043|\n",
            "+----------+------------+--------------------+-----------------+-------------------+\n",
            "only showing top 20 rows\n",
            "\n"
          ]
        }
      ]
    },
    {
      "cell_type": "markdown",
      "source": [
        "EVALUATING"
      ],
      "metadata": {
        "id": "6tz4QtH1trGc"
      }
    },
    {
      "cell_type": "code",
      "source": [
        "gbt_accuracy = evaluator.evaluate(gbt_prediction)\n",
        "print(\"Accuracy of Gradient-boosted tree classifie is = %g\"% (gbt_accuracy))\n",
        "print(\"Test Error of Gradient-boosted tree classifie %g\"% (1.0 - gbt_accuracy))"
      ],
      "metadata": {
        "id": "0dwQy4t8tre7",
        "colab": {
          "base_uri": "https://localhost:8080/"
        },
        "outputId": "6ea30c82-2d2b-4afc-e68b-b9ad93ce95a7"
      },
      "execution_count": null,
      "outputs": [
        {
          "output_type": "stream",
          "name": "stdout",
          "text": [
            "Accuracy of Gradient-boosted tree classifie is = 1\n",
            "Test Error of Gradient-boosted tree classifie 0\n"
          ]
        }
      ]
    },
    {
      "cell_type": "markdown",
      "source": [
        "### **SUPPORT VECTOR MACHINE**"
      ],
      "metadata": {
        "id": "um6OhBMJoFnu"
      }
    },
    {
      "cell_type": "code",
      "source": [
        "from pyspark.ml.classification import NaiveBayes\n",
        "import time\n",
        "\n",
        "# Inicia el cronómetro\n",
        "start_time = time.time()\n",
        "\n",
        "# Crea y ajusta el modelo Naive Bayes\n",
        "nb = NaiveBayes(labelCol=\"loan_indexed\", featuresCol=\"rawFeatures\")\n",
        "nb_model = nb.fit(trainingData_spark)\n",
        "\n",
        "# Detén el cronómetro\n",
        "training_time = time.time() - start_time\n",
        "\n",
        "# Imprime el tiempo de entrenamiento\n",
        "print(\"Tiempo de entrenamiento: {:.2f} segundos\".format(training_time))\n",
        "\n",
        "# Inicia el cronómetro nuevamente para la predicción\n",
        "start_time = time.time()\n",
        "\n",
        "# Realiza la predicción en el conjunto de prueba\n",
        "nb_prediction = nb_model.transform(testData_spark)\n",
        "\n",
        "# Detén el cronómetro\n",
        "prediction_time = time.time() - start_time\n",
        "\n",
        "# Imprime el tiempo de predicción\n",
        "print(\"Tiempo de predicción: {:.2f} segundos\")\n",
        "\n",
        "# Muestra las predicciones y otras columnas\n",
        "nb_prediction.select(\"prediction\", \"loan_indexed\", \"rawFeatures\").show()\n"
      ],
      "metadata": {
        "id": "cLz-VVqzoFxJ",
        "colab": {
          "base_uri": "https://localhost:8080/"
        },
        "outputId": "d186e2e6-d906-4ee0-e370-950291c7ab6f"
      },
      "execution_count": null,
      "outputs": [
        {
          "output_type": "stream",
          "name": "stdout",
          "text": [
            "Tiempo de entrenamiento: 1.76 segundos\n",
            "Tiempo de predicción: {:.2f} segundos\n",
            "+----------+------------+--------------------+\n",
            "|prediction|loan_indexed|         rawFeatures|\n",
            "+----------+------------+--------------------+\n",
            "|       0.0|         0.0|(32,[7,13,18,19,2...|\n",
            "|       0.0|         0.0|(32,[7,13,18,19,2...|\n",
            "|       0.0|         0.0|(32,[7,13,15,19,2...|\n",
            "|       0.0|         0.0|(32,[7,13,15,19,2...|\n",
            "|       0.0|         0.0|(32,[7,13,15,19,2...|\n",
            "|       0.0|         0.0|(32,[7,13,15,19,2...|\n",
            "|       0.0|         0.0|(32,[7,13,15,19,2...|\n",
            "|       0.0|         0.0|(32,[7,13,18,19,2...|\n",
            "|       1.0|         1.0|(32,[3,13,15,19,2...|\n",
            "|       0.0|         0.0|(32,[7,13,17,19,2...|\n",
            "|       0.0|         0.0|(32,[7,13,15,19,2...|\n",
            "|       0.0|         0.0|(32,[7,13,15,19,2...|\n",
            "|       0.0|         0.0|(32,[7,13,15,19,2...|\n",
            "|       0.0|         0.0|(32,[7,13,18,19,2...|\n",
            "|       0.0|         0.0|(32,[7,13,18,19,2...|\n",
            "|       0.0|         0.0|(32,[7,13,18,19,2...|\n",
            "|       1.0|         1.0|(32,[0,13,16,19,2...|\n",
            "|       0.0|         0.0|(32,[7,13,17,19,2...|\n",
            "|       0.0|         0.0|(32,[7,13,15,19,2...|\n",
            "|       0.0|         0.0|(32,[7,13,15,19,2...|\n",
            "+----------+------------+--------------------+\n",
            "only showing top 20 rows\n",
            "\n"
          ]
        }
      ]
    },
    {
      "cell_type": "markdown",
      "source": [
        "EVALUATING"
      ],
      "metadata": {
        "id": "vnfQ1cY2tsQF"
      }
    },
    {
      "cell_type": "code",
      "source": [
        "nb_accuracy = evaluator.evaluate(nb_prediction)\n",
        "print(\"Accuracy of NaiveBayes is  = %g\"% (nb_accuracy))\n",
        "print(\"Test Error of NaiveBayes  = %g \" % (1.0 - nb_accuracy))"
      ],
      "metadata": {
        "id": "Xe3OAkOztswr",
        "colab": {
          "base_uri": "https://localhost:8080/"
        },
        "outputId": "02e4b06f-8bd9-4834-f89e-80ba51773c3f"
      },
      "execution_count": null,
      "outputs": [
        {
          "output_type": "stream",
          "name": "stdout",
          "text": [
            "Accuracy of NaiveBayes is  = 1\n",
            "Test Error of NaiveBayes  = 0 \n"
          ]
        }
      ]
    },
    {
      "cell_type": "markdown",
      "source": [
        "Linear"
      ],
      "metadata": {
        "id": "k_TjmkoboMFm"
      }
    },
    {
      "cell_type": "code",
      "source": [
        "from pyspark.ml.classification import LinearSVC\n",
        "import time\n",
        "\n",
        "# Crear el modelo LinearSVC\n",
        "svm = LinearSVC(labelCol=\"loan_indexed\", featuresCol=\"rawFeatures\")\n",
        "\n",
        "# Medir el tiempo de entrenamiento\n",
        "start_time = time.time()\n",
        "svm_model = svm.fit(trainingData_spark)\n",
        "training_time = time.time() - start_time\n",
        "\n",
        "# Medir el tiempo de predicción\n",
        "start_time = time.time()\n",
        "svm_prediction = svm_model.transform(testData_spark)\n",
        "prediction_time = time.time() - start_time\n",
        "\n",
        "# Mostrar las predicciones y tiempos\n",
        "svm_prediction.select(\"prediction\", \"loan_indexed\", \"rawFeatures\").show()\n",
        "print(\"Tiempo de entrenamiento: {:.2f} segundos\".format(training_time))\n",
        "print(\"Tiempo de predicción: {:.2f} segundos\".format(prediction_time))\n"
      ],
      "metadata": {
        "id": "VJmwb0ujoWcQ",
        "colab": {
          "base_uri": "https://localhost:8080/"
        },
        "outputId": "c9c2562f-589b-4400-fff1-f1d4586d9632"
      },
      "execution_count": null,
      "outputs": [
        {
          "output_type": "stream",
          "name": "stdout",
          "text": [
            "+----------+------------+--------------------+\n",
            "|prediction|loan_indexed|         rawFeatures|\n",
            "+----------+------------+--------------------+\n",
            "|       0.0|         0.0|(32,[7,13,18,19,2...|\n",
            "|       0.0|         0.0|(32,[7,13,18,19,2...|\n",
            "|       0.0|         0.0|(32,[7,13,15,19,2...|\n",
            "|       0.0|         0.0|(32,[7,13,15,19,2...|\n",
            "|       0.0|         0.0|(32,[7,13,15,19,2...|\n",
            "|       0.0|         0.0|(32,[7,13,15,19,2...|\n",
            "|       0.0|         0.0|(32,[7,13,15,19,2...|\n",
            "|       0.0|         0.0|(32,[7,13,18,19,2...|\n",
            "|       1.0|         1.0|(32,[3,13,15,19,2...|\n",
            "|       0.0|         0.0|(32,[7,13,17,19,2...|\n",
            "|       0.0|         0.0|(32,[7,13,15,19,2...|\n",
            "|       0.0|         0.0|(32,[7,13,15,19,2...|\n",
            "|       0.0|         0.0|(32,[7,13,15,19,2...|\n",
            "|       0.0|         0.0|(32,[7,13,18,19,2...|\n",
            "|       0.0|         0.0|(32,[7,13,18,19,2...|\n",
            "|       0.0|         0.0|(32,[7,13,18,19,2...|\n",
            "|       1.0|         1.0|(32,[0,13,16,19,2...|\n",
            "|       0.0|         0.0|(32,[7,13,17,19,2...|\n",
            "|       0.0|         0.0|(32,[7,13,15,19,2...|\n",
            "|       0.0|         0.0|(32,[7,13,15,19,2...|\n",
            "+----------+------------+--------------------+\n",
            "only showing top 20 rows\n",
            "\n",
            "Tiempo de entrenamiento: 2.30 segundos\n",
            "Tiempo de predicción: 0.04 segundos\n"
          ]
        }
      ]
    },
    {
      "cell_type": "markdown",
      "source": [
        "EVALUATING"
      ],
      "metadata": {
        "id": "Lx1gdpLZttSE"
      }
    },
    {
      "cell_type": "code",
      "source": [
        "svm_accuracy = evaluator.evaluate(svm_prediction)\n",
        "print(\"Accuracy of Support Vector Machine is = %g\"% (svm_accuracy))\n",
        "print(\"Test Error of Support Vector Machine = %g \" % (1.0 - svm_accuracy))"
      ],
      "metadata": {
        "id": "-KBbFUxSttrF",
        "colab": {
          "base_uri": "https://localhost:8080/"
        },
        "outputId": "18177e68-95e3-4025-919f-f464c2a436be"
      },
      "execution_count": null,
      "outputs": [
        {
          "output_type": "stream",
          "name": "stdout",
          "text": [
            "Accuracy of Support Vector Machine is = 1\n",
            "Test Error of Support Vector Machine = 0 \n"
          ]
        }
      ]
    },
    {
      "cell_type": "markdown",
      "source": [
        "# **Sin Spark**"
      ],
      "metadata": {
        "id": "sMBZzCILnJrX"
      }
    },
    {
      "cell_type": "markdown",
      "source": [
        "### **LogisticRegression**"
      ],
      "metadata": {
        "id": "N1s4EqmWuK1k"
      }
    },
    {
      "cell_type": "code",
      "source": [
        "from sklearn.linear_model import LogisticRegression\n",
        "from sklearn.metrics import accuracy_score, classification_report\n",
        "from sklearn.model_selection import train_test_split\n",
        "import time\n",
        "import pandas as pd\n",
        "\n",
        "# Supongamos que 'transformed_df' es tu DataFrame transformado y las columnas van del 0 al 29\n",
        "\n",
        "# Divide los datos en conjuntos de entrenamiento y prueba (70% de entrenamiento, 30% de prueba)\n",
        "trainingData, testData = train_test_split(transformed_df, test_size=0.3, random_state=11)\n",
        "\n",
        "# Define las características y la variable objetivo\n",
        "X_train = trainingData.iloc[:, :-1]  # Todas las columnas excepto la última\n",
        "y_train = trainingData.iloc[:, -1]  # Última columna\n",
        "X_test = testData.iloc[:, :-1]  # Todas las columnas excepto la última\n",
        "y_test = testData.iloc[:, -1]  # Última columna\n",
        "\n",
        "# Inicia el tiempo de entrenamiento\n",
        "start_time = time.time()\n",
        "\n",
        "# Crea y entrena el modelo de regresión logística\n",
        "lr = LogisticRegression(max_iter=1000)\n",
        "lr.fit(X_train, y_train)\n",
        "\n",
        "# Calcula el tiempo de entrenamiento\n",
        "training_time = time.time() - start_time\n",
        "print(\"Training Time: {} seconds\".format(training_time))\n",
        "\n",
        "# Inicia el tiempo de predicción\n",
        "start_time = time.time()\n",
        "\n",
        "# Realiza predicciones en el conjunto de prueba\n",
        "y_pred = lr.predict(X_test)\n",
        "\n",
        "# Calcula el tiempo de predicción\n",
        "prediction_time = time.time() - start_time\n",
        "print(\"Prediction Time: {} seconds\".format(prediction_time))\n",
        "\n",
        "# Calcula la precisión del modelo\n",
        "accuracy = accuracy_score(y_test, y_pred)\n",
        "print(\"Accuracy:\", accuracy)\n",
        "\n",
        "# Reporte de clasificación\n",
        "print(classification_report(y_test, y_pred))\n"
      ],
      "metadata": {
        "id": "xI2WFHgwaJmG",
        "colab": {
          "base_uri": "https://localhost:8080/"
        },
        "outputId": "e371d692-97ae-4428-8c98-0e5c459250c5"
      },
      "execution_count": null,
      "outputs": [
        {
          "output_type": "stream",
          "name": "stdout",
          "text": [
            "Training Time: 1.8915033340454102 seconds\n",
            "Prediction Time: 0.010133028030395508 seconds\n",
            "Accuracy: 0.9988056136160047\n",
            "              precision    recall  f1-score   support\n",
            "\n",
            "         0.0       1.00      1.00      1.00       873\n",
            "         1.0       1.00      1.00      1.00      2476\n",
            "\n",
            "    accuracy                           1.00      3349\n",
            "   macro avg       1.00      1.00      1.00      3349\n",
            "weighted avg       1.00      1.00      1.00      3349\n",
            "\n"
          ]
        },
        {
          "output_type": "stream",
          "name": "stderr",
          "text": [
            "/usr/local/lib/python3.10/dist-packages/sklearn/linear_model/_logistic.py:458: ConvergenceWarning: lbfgs failed to converge (status=1):\n",
            "STOP: TOTAL NO. of ITERATIONS REACHED LIMIT.\n",
            "\n",
            "Increase the number of iterations (max_iter) or scale the data as shown in:\n",
            "    https://scikit-learn.org/stable/modules/preprocessing.html\n",
            "Please also refer to the documentation for alternative solver options:\n",
            "    https://scikit-learn.org/stable/modules/linear_model.html#logistic-regression\n",
            "  n_iter_i = _check_optimize_result(\n"
          ]
        }
      ]
    },
    {
      "cell_type": "markdown",
      "source": [
        "EVALUATING"
      ],
      "metadata": {
        "id": "LpLkhsuQt-6m"
      }
    },
    {
      "cell_type": "code",
      "source": [
        "# Realiza predicciones en el conjunto de prueba\n",
        "y_pre = lr.predict(X_test)\n",
        "\n",
        "# Calcula la precisión del modelo\n",
        "accuracy = accuracy_score(y_test, y_pred)\n",
        "print(\"Accuracy of LogisticRegression is =\", accuracy)\n",
        "\n",
        "# Calcula el error en los datos de prueba\n",
        "test_error = 1.0 - accuracy\n",
        "print(\"Test Error of LogisticRegression =\", test_error)"
      ],
      "metadata": {
        "id": "vOi8JmEVmFaM",
        "colab": {
          "base_uri": "https://localhost:8080/"
        },
        "outputId": "7fa2a141-dd3a-48c9-dc28-ff1f627e7a52"
      },
      "execution_count": null,
      "outputs": [
        {
          "output_type": "stream",
          "name": "stdout",
          "text": [
            "Accuracy of LogisticRegression is = 0.9988056136160047\n",
            "Test Error of LogisticRegression = 0.0011943863839952717\n"
          ]
        }
      ]
    },
    {
      "cell_type": "markdown",
      "source": [
        "\n",
        "\n",
        "```\n",
        "# Esto tiene formato de código\n",
        "```\n",
        "\n",
        "### **DecisionTreeClassifier**"
      ],
      "metadata": {
        "id": "z8OIcNusnnL0"
      }
    },
    {
      "cell_type": "code",
      "source": [
        "from sklearn.tree import DecisionTreeClassifier\n",
        "from sklearn.metrics import accuracy_score, classification_report\n",
        "import time\n",
        "\n",
        "# Supongamos que ya has dividido tus datos en conjuntos de entrenamiento y prueba (X_train, y_train, X_test, y_test).\n",
        "\n",
        "# Inicia el tiempo de entrenamiento\n",
        "start_time = time.time()\n",
        "\n",
        "# Crea y entrena el modelo de árbol de decisión\n",
        "dt = DecisionTreeClassifier()\n",
        "dt.fit(X_train, y_train)\n",
        "\n",
        "# Calcula el tiempo de entrenamiento\n",
        "training_time = time.time() - start_time\n",
        "print(\"Elapsed Time: {} seconds\".format(training_time))\n",
        "\n",
        "# Inicia el tiempo de predicción\n",
        "start_time = time.time()\n",
        "\n",
        "# Realiza predicciones en el conjunto de prueba\n",
        "y_pred = dt.predict(X_test)\n",
        "\n",
        "# Calcula el tiempo de predicción\n",
        "prediction_time = time.time() - start_time\n",
        "print(\"Prediction Time: {} seconds\".format(prediction_time))\n",
        "\n",
        "# Muestra las predicciones y el tiempo de predicción\n",
        "print(\"Predictions:\", y_pred)\n",
        "\n",
        "# Calcula la precisión del modelo\n",
        "accuracy = accuracy_score(y_test, y_pred)\n",
        "print(\"Accuracy:\", accuracy)\n",
        "\n",
        "# Reporte de clasificación\n",
        "print(classification_report(y_test, y_pred))\n"
      ],
      "metadata": {
        "id": "-1KhmviGinrk",
        "colab": {
          "base_uri": "https://localhost:8080/"
        },
        "outputId": "a2f7953f-7212-4c5d-fc8d-0b9f9561bda6"
      },
      "execution_count": null,
      "outputs": [
        {
          "output_type": "stream",
          "name": "stdout",
          "text": [
            "Elapsed Time: 0.019052743911743164 seconds\n",
            "Prediction Time: 0.003292083740234375 seconds\n",
            "Predictions: [0. 0. 0. ... 0. 1. 1.]\n",
            "Accuracy: 0.9997014034040012\n",
            "              precision    recall  f1-score   support\n",
            "\n",
            "         0.0       1.00      1.00      1.00       873\n",
            "         1.0       1.00      1.00      1.00      2476\n",
            "\n",
            "    accuracy                           1.00      3349\n",
            "   macro avg       1.00      1.00      1.00      3349\n",
            "weighted avg       1.00      1.00      1.00      3349\n",
            "\n"
          ]
        }
      ]
    },
    {
      "cell_type": "markdown",
      "source": [
        "EVALUATING"
      ],
      "metadata": {
        "id": "UeKeZappuAo2"
      }
    },
    {
      "cell_type": "code",
      "source": [
        "# Calcula la precisión del modelo de árbol de decisión\n",
        "dt_accuracy = accuracy_score(y_test, y_pred)\n",
        "print(\"Accuracy of DecisionTreeClassifier is =\", dt_accuracy)\n",
        "\n",
        "# Calcula el error en los datos de prueba\n",
        "test_error = 1.0 - dt_accuracy\n",
        "print(\"Test Error of DecisionTreeClassifier =\", test_error)"
      ],
      "metadata": {
        "id": "8yWUct68ptfy",
        "colab": {
          "base_uri": "https://localhost:8080/"
        },
        "outputId": "397bd8a1-1e22-4849-ae5d-e40043c0bbcd"
      },
      "execution_count": null,
      "outputs": [
        {
          "output_type": "stream",
          "name": "stdout",
          "text": [
            "Accuracy of DecisionTreeClassifier is = 0.9997014034040012\n",
            "Test Error of DecisionTreeClassifier = 0.0002985965959988457\n"
          ]
        }
      ]
    },
    {
      "cell_type": "markdown",
      "source": [
        "### **RANDOMFORESTCLASSIFIER**"
      ],
      "metadata": {
        "id": "Cs2vygHCplLI"
      }
    },
    {
      "cell_type": "code",
      "source": [
        "from sklearn.ensemble import RandomForestClassifier\n",
        "import time\n",
        "import pandas as pd\n",
        "from sklearn.metrics import accuracy_score\n",
        "\n",
        "# Supongamos que ya has dividido tus datos en conjuntos de entrenamiento y prueba (X_train, y_train, X_test, y_test).\n",
        "\n",
        "# Registra el tiempo de inicio\n",
        "start_time = time.time()\n",
        "\n",
        "# Crea el RandomForestClassifier\n",
        "rf = RandomForestClassifier()\n",
        "rf.fit(X_train, y_train)\n",
        "\n",
        "# Registra el tiempo de finalización\n",
        "end_time = time.time()\n",
        "\n",
        "# Calcula el tiempo de ejecución\n",
        "execution_time = end_time - start_time\n",
        "print(\"Tiempo de ejecución: {} segundos\".format(execution_time))\n",
        "\n",
        "# Realiza predicciones en tus datos de prueba\n",
        "y_pred = rf.predict(X_test)\n",
        "\n",
        "# Combina las predicciones y las características en un DataFrame\n",
        "rf_prediction = pd.DataFrame({'prediction': y_pred, 'loan_indexed': y_test})\n",
        "rf_prediction = pd.concat([rf_prediction, pd.DataFrame(X_test, columns=X_test.columns)], axis=1)\n",
        "print(rf_prediction.head())\n",
        "\n",
        "# Calcula la precisión del modelo\n",
        "accuracy = accuracy_score(y_test, y_pred)\n",
        "print(\"Accuracy:\", accuracy)\n"
      ],
      "metadata": {
        "id": "g_XKlbjDpkTT",
        "colab": {
          "base_uri": "https://localhost:8080/"
        },
        "outputId": "ef13cda4-7ead-4b06-a2bc-afe9653625bd"
      },
      "execution_count": null,
      "outputs": [
        {
          "output_type": "stream",
          "name": "stdout",
          "text": [
            "Tiempo de ejecución: 0.594367504119873 segundos\n",
            "      prediction  loan_indexed     0        1      2    3      4    5    6  \\\n",
            "2789         0.0           0.0  53.0   2581.0  828.0  1.0  189.0  1.0  0.0   \n",
            "4635         0.0           0.0  56.0  12356.0  410.0  1.0  551.0  5.0  0.0   \n",
            "2172         0.0           0.0  45.0   2552.0   69.0  1.0  293.0  7.0  0.0   \n",
            "2217         1.0           1.0  38.0   2467.0  192.0  1.0   -1.0  0.0  1.0   \n",
            "8605         1.0           1.0  39.0   2226.0  158.0  1.0   -1.0  0.0  1.0   \n",
            "\n",
            "        7  ...   19   20   21   22   23   24   25   26   27   28  \n",
            "2789  0.0  ...  0.0  0.0  0.0  0.0  0.0  0.0  0.0  0.0  0.0  0.0  \n",
            "4635  0.0  ...  0.0  1.0  0.0  0.0  1.0  0.0  0.0  0.0  1.0  0.0  \n",
            "2172  0.0  ...  0.0  1.0  0.0  0.0  0.0  0.0  0.0  0.0  0.0  0.0  \n",
            "2217  0.0  ...  1.0  0.0  0.0  0.0  0.0  0.0  0.0  0.0  0.0  0.0  \n",
            "8605  0.0  ...  0.0  0.0  0.0  0.0  1.0  0.0  0.0  1.0  0.0  0.0  \n",
            "\n",
            "[5 rows x 31 columns]\n",
            "Accuracy: 0.9997014034040012\n"
          ]
        }
      ]
    },
    {
      "cell_type": "markdown",
      "source": [
        "EVALUATING"
      ],
      "metadata": {
        "id": "HkV4XKEIuBoP"
      }
    },
    {
      "cell_type": "code",
      "source": [
        "# Calcula la precisión del modelo de árbol de decisión\n",
        "dt_accuracy = accuracy_score(y_test, y_pred)\n",
        "print(\"Accuracy of Linear is =\", dt_accuracy)\n",
        "\n",
        "# Calcula el error en los datos de prueba\n",
        "test_error = 1.0 - dt_accuracy\n",
        "print(\"Test Error of Linear =\", test_error)"
      ],
      "metadata": {
        "id": "Pn7o5AEKuB3d",
        "colab": {
          "base_uri": "https://localhost:8080/"
        },
        "outputId": "18ee1b56-7e2c-4cae-bb11-78b3eb694c42"
      },
      "execution_count": null,
      "outputs": [
        {
          "output_type": "stream",
          "name": "stdout",
          "text": [
            "Accuracy of Linear is = 0.9997014034040012\n",
            "Test Error of Linear = 0.0002985965959988457\n"
          ]
        }
      ]
    },
    {
      "cell_type": "markdown",
      "source": [
        "GradientBoostingClassifier"
      ],
      "metadata": {
        "id": "qQQVIECzp-Jj"
      }
    },
    {
      "cell_type": "code",
      "source": [
        "from sklearn.ensemble import GradientBoostingClassifier\n",
        "from sklearn.metrics import accuracy_score\n",
        "import time\n",
        "import pandas as pd\n",
        "\n",
        "# Supongamos que ya has dividido tus datos en conjuntos de entrenamiento y prueba (X_train, y_train, X_test, y_test).\n",
        "\n",
        "# Entrenar el modelo GBT\n",
        "start_time = time.time()\n",
        "gbt = GradientBoostingClassifier(n_estimators=100, max_depth=3)\n",
        "gbt.fit(X_train, y_train)\n",
        "training_time = time.time() - start_time\n",
        "\n",
        "# Realizar las predicciones en el conjunto de prueba\n",
        "start_time = time.time()\n",
        "y_pred = gbt.predict(X_test)\n",
        "prediction_time = time.time() - start_time\n",
        "\n",
        "# Muestra las predicciones y los tiempos\n",
        "gbt_prediction = pd.DataFrame({'prediction': y_pred, 'loan_indexed': y_test})\n",
        "\n",
        "# Calcula la precisión del modelo\n",
        "accuracy = accuracy_score(y_test, y_pred)\n",
        "print(\"Accuracy:\", accuracy)\n",
        "\n",
        "# Agrega los tiempos de entrenamiento y predicción al DataFrame de predicciones\n",
        "gbt_prediction['training_time'] = training_time\n",
        "gbt_prediction['prediction_time'] = prediction_time\n",
        "\n",
        "print(gbt_prediction)\n"
      ],
      "metadata": {
        "id": "GVyFVK-cp5SZ",
        "colab": {
          "base_uri": "https://localhost:8080/"
        },
        "outputId": "1908b340-36d6-49fe-e112-ffdd232d9f1d"
      },
      "execution_count": null,
      "outputs": [
        {
          "output_type": "stream",
          "name": "stdout",
          "text": [
            "Accuracy: 0.9997014034040012\n",
            "      prediction  loan_indexed  training_time  prediction_time\n",
            "2789         0.0           0.0       0.999939         0.004745\n",
            "4635         0.0           0.0       0.999939         0.004745\n",
            "2172         0.0           0.0       0.999939         0.004745\n",
            "2217         1.0           1.0       0.999939         0.004745\n",
            "8605         1.0           1.0       0.999939         0.004745\n",
            "...          ...           ...            ...              ...\n",
            "7501         1.0           1.0       0.999939         0.004745\n",
            "5504         1.0           1.0       0.999939         0.004745\n",
            "2548         0.0           0.0       0.999939         0.004745\n",
            "9870         1.0           1.0       0.999939         0.004745\n",
            "2105         1.0           1.0       0.999939         0.004745\n",
            "\n",
            "[3349 rows x 4 columns]\n"
          ]
        }
      ]
    },
    {
      "cell_type": "markdown",
      "source": [
        "EVALUATING"
      ],
      "metadata": {
        "id": "hyUayiwLuCse"
      }
    },
    {
      "cell_type": "code",
      "source": [
        "from sklearn.metrics import accuracy_score\n",
        "\n",
        "svm_accuracy = accuracy_score(y_test, y_pred)\n",
        "test_error = 1.0 - svm_accuracy\n",
        "\n",
        "print(\"Accuracy of Support Vector Machine is = %g\" % svm_accuracy)\n",
        "print(\"Test Error of Support Vector Machine = %g\" % test_error)\n"
      ],
      "metadata": {
        "id": "fH9zCnbwuDOG",
        "colab": {
          "base_uri": "https://localhost:8080/"
        },
        "outputId": "b96e92ae-180a-49c6-9276-bcc1362201c5"
      },
      "execution_count": null,
      "outputs": [
        {
          "output_type": "stream",
          "name": "stdout",
          "text": [
            "Accuracy of Support Vector Machine is = 0.999701\n",
            "Test Error of Support Vector Machine = 0.000298597\n"
          ]
        }
      ]
    },
    {
      "cell_type": "markdown",
      "source": [
        "### **GaussianNB**"
      ],
      "metadata": {
        "id": "Qx5H03CkqE1c"
      }
    },
    {
      "cell_type": "code",
      "source": [
        "from sklearn.naive_bayes import GaussianNB\n",
        "from sklearn.metrics import accuracy_score\n",
        "import time\n",
        "\n",
        "# Supongamos que ya has dividido tus datos en conjuntos de entrenamiento y prueba (X_train, y_train, X_test, y_test).\n",
        "\n",
        "# Inicia el cronómetro para el entrenamiento\n",
        "start_time = time.time()\n",
        "\n",
        "# Crea y ajusta el modelo Naive Bayes\n",
        "nb = GaussianNB()\n",
        "nb.fit(X_train, y_train)\n",
        "\n",
        "# Detén el cronómetro de entrenamiento\n",
        "training_time = time.time() - start_time\n",
        "print(\"Tiempo de entrenamiento: {:.2f} segundos\".format(training_time))\n",
        "\n",
        "# Inicia el cronómetro para la predicción\n",
        "start_time = time.time()\n",
        "\n",
        "# Realiza predicciones en el conjunto de prueba\n",
        "y_pred = nb.predict(X_test)\n",
        "\n",
        "# Detén el cronómetro de predicción\n",
        "prediction_time = time.time() - start_time\n",
        "print(\"Tiempo de predicción: {:.2f} segundos\".format(prediction_time))\n",
        "\n",
        "# Calcula la precisión del modelo\n",
        "accuracy = accuracy_score(y_test, y_pred)\n",
        "print(\"Precisión del modelo Naive Bayes: {:.2f}\".format(accuracy))\n",
        "\n",
        "# Calcula el tiempo total de entrenamiento y predicción\n",
        "total_time = training_time + prediction_time\n",
        "print(\"Tiempo total (entrenamiento + predicción): {:.2f} segundos\".format(total_time))\n"
      ],
      "metadata": {
        "id": "CGZJ3CqTp_rL",
        "colab": {
          "base_uri": "https://localhost:8080/"
        },
        "outputId": "a6e6157e-92c5-40ba-93ee-8bc85a34fa91"
      },
      "execution_count": null,
      "outputs": [
        {
          "output_type": "stream",
          "name": "stdout",
          "text": [
            "Tiempo de entrenamiento: 0.01 segundos\n",
            "Tiempo de predicción: 0.01 segundos\n",
            "Precisión del modelo Naive Bayes: 0.99\n",
            "Tiempo total (entrenamiento + predicción): 0.01 segundos\n"
          ]
        }
      ]
    },
    {
      "cell_type": "markdown",
      "source": [
        "EVALUATING"
      ],
      "metadata": {
        "id": "SpOsRiq4uD6-"
      }
    },
    {
      "cell_type": "code",
      "source": [
        "from sklearn.metrics import accuracy_score\n",
        "\n",
        "svm_accuracy = accuracy_score(y_test, y_pred)\n",
        "test_error = 1.0 - svm_accuracy\n",
        "\n",
        "print(\"Accuracy of Support Vector Machine is = %g\" % svm_accuracy)\n",
        "print(\"Test Error of Support Vector Machine = %g\" % test_error)\n"
      ],
      "metadata": {
        "id": "v94hD4zVuETX",
        "colab": {
          "base_uri": "https://localhost:8080/"
        },
        "outputId": "235e5592-9bca-49a0-d3c9-4fdc0c143b89"
      },
      "execution_count": null,
      "outputs": [
        {
          "output_type": "stream",
          "name": "stdout",
          "text": [
            "Accuracy of Support Vector Machine is = 0.994028\n",
            "Test Error of Support Vector Machine = 0.00597193\n"
          ]
        }
      ]
    },
    {
      "cell_type": "markdown",
      "source": [
        "**LinearSVC**"
      ],
      "metadata": {
        "id": "uqsWdhBuqHJE"
      }
    },
    {
      "cell_type": "code",
      "source": [
        "from sklearn.svm import LinearSVC\n",
        "import time\n",
        "\n",
        "# Supongamos que ya has dividido tus datos en conjuntos de entrenamiento y prueba (X_train, y_train, X_test, y_test).\n",
        "\n",
        "# Inicia el cronómetro para el entrenamiento\n",
        "start_time = time.time()\n",
        "\n",
        "# Crea y ajusta el modelo LinearSVC\n",
        "svm = LinearSVC(max_iter=10000)\n",
        "svm.fit(X_train, y_train)\n",
        "\n",
        "# Detén el cronómetro de entrenamiento\n",
        "training_time = time.time() - start_time\n",
        "print(\"Tiempo de entrenamiento: {:.2f} segundos\".format(training_time))\n",
        "\n",
        "# Inicia el cronómetro para la predicción\n",
        "start_time = time.time()\n",
        "\n",
        "# Realiza predicciones en el conjunto de prueba\n",
        "y_pred = svm.predict(X_test)\n",
        "\n",
        "# Detén el cronómetro de predicción\n",
        "prediction_time = time.time() - start_time\n",
        "print(\"Tiempo de predicción: {:.2f} segundos\".format(prediction_time))\n",
        "\n",
        "# Calcula el tiempo de entrenamiento y predicción\n",
        "print(\"Tiempo total (entrenamiento + predicción): {:.2f} segundos\".format(training_time + prediction_time))\n"
      ],
      "metadata": {
        "id": "_d8VBHVXqI4b",
        "colab": {
          "base_uri": "https://localhost:8080/"
        },
        "outputId": "20d81bc2-8705-435b-fcc6-1465d2321afa"
      },
      "execution_count": null,
      "outputs": [
        {
          "output_type": "stream",
          "name": "stdout",
          "text": [
            "Tiempo de entrenamiento: 0.34 segundos\n",
            "Tiempo de predicción: 0.00 segundos\n",
            "Tiempo total (entrenamiento + predicción): 0.34 segundos\n"
          ]
        },
        {
          "output_type": "stream",
          "name": "stderr",
          "text": [
            "/usr/local/lib/python3.10/dist-packages/sklearn/svm/_base.py:1244: ConvergenceWarning: Liblinear failed to converge, increase the number of iterations.\n",
            "  warnings.warn(\n"
          ]
        }
      ]
    },
    {
      "cell_type": "markdown",
      "source": [
        "EVALUATING"
      ],
      "metadata": {
        "id": "SyI2HfkNuE6v"
      }
    },
    {
      "cell_type": "code",
      "source": [
        "from sklearn.metrics import accuracy_score\n",
        "\n",
        "svm_accuracy = accuracy_score(y_test, y_pred)\n",
        "test_error = 1.0 - svm_accuracy\n",
        "\n",
        "print(\"Accuracy of Support Vector Machine is = %g\" % svm_accuracy)\n",
        "print(\"Test Error of Support Vector Machine = %g\" % test_error)\n"
      ],
      "metadata": {
        "id": "Il2BfFvvuFM2",
        "colab": {
          "base_uri": "https://localhost:8080/"
        },
        "outputId": "f86d7cc4-a96f-48df-b883-da8a1500e792"
      },
      "execution_count": null,
      "outputs": [
        {
          "output_type": "stream",
          "name": "stdout",
          "text": [
            "Accuracy of Support Vector Machine is = 0.983279\n",
            "Test Error of Support Vector Machine = 0.0167214\n"
          ]
        }
      ]
    },
    {
      "cell_type": "markdown",
      "source": [
        "# **Graficas Comparativas de ML**"
      ],
      "metadata": {
        "id": "CpWu3NjQqVDI"
      }
    },
    {
      "cell_type": "markdown",
      "source": [
        "**LOGISTICREGRESSION CON Y SIN SPARK**"
      ],
      "metadata": {
        "id": "0OcJebkDqZdZ"
      }
    },
    {
      "cell_type": "code",
      "source": [
        "import matplotlib.pyplot as plt\n",
        "import numpy as np\n",
        "\n",
        "# Valores de tiempo y precisión\n",
        "training_time_pyspark = 9.865050077438354\n",
        "prediction_time_pyspark = 10.025771856307983\n",
        "accuracy_pyspark = 1.0\n",
        "\n",
        "training_time_sklearn = 1.0816192626953125\n",
        "prediction_time_sklearn = 0.003161907196044922\n",
        "accuracy_sklearn = 0.9988056136160047\n",
        "\n",
        "# Nombres de los enfoques\n",
        "frameworks = ['PySpark', 'scikit-learn']\n",
        "\n",
        "# Valores de tiempo de entrenamiento y predicción\n",
        "training_times = [training_time_pyspark, training_time_sklearn]\n",
        "prediction_times = [prediction_time_pyspark, prediction_time_sklearn]\n",
        "accuracies = [accuracy_pyspark, accuracy_sklearn]\n",
        "\n",
        "# Crear un gráfico de barras agrupadas\n",
        "fig, ax = plt.subplots(figsize=(12, 7))\n",
        "bar_width = 0.2\n",
        "index = np.arange(len(frameworks))\n",
        "\n",
        "bar1 = ax.bar(index - bar_width, training_times, bar_width, label='Tiempo de Entrenamiento', color='blue')\n",
        "bar2 = ax.bar(index, prediction_times, bar_width, label='Tiempo de Predicción', color='red')\n",
        "bar3 = ax.bar(index + bar_width, accuracies, bar_width, label='Precisión', color='green')\n",
        "\n",
        "ax.set_xlabel('Framework')\n",
        "ax.set_ylabel('Tiempo/Precisión')\n",
        "ax.set_title('Comparación de Tiempos y Precisión')\n",
        "ax.set_xticks(index)\n",
        "ax.set_xticklabels(frameworks)\n",
        "ax.legend()\n",
        "\n",
        "plt.show()\n"
      ],
      "metadata": {
        "colab": {
          "base_uri": "https://localhost:8080/",
          "height": 642
        },
        "id": "lJjzOf7j6UGJ",
        "outputId": "3b120f44-4516-49fb-e6da-5d707e23d28c"
      },
      "execution_count": null,
      "outputs": [
        {
          "output_type": "display_data",
          "data": {
            "text/plain": [
              "<Figure size 1200x700 with 1 Axes>"
            ],
            "image/png": "[encoded data removed]"
          },
          "metadata": {}
        }
      ]
    },
    {
      "cell_type": "markdown",
      "source": [
        "### **DecisionTreeClassifier**"
      ],
      "metadata": {
        "id": "Tbi63jNVqhe3"
      }
    },
    {
      "cell_type": "code",
      "source": [
        "import matplotlib.pyplot as plt\n",
        "import numpy as np\n",
        "\n",
        "# Valores de tiempo\n",
        "training_time_pyspark = 2.910039186477661\n",
        "prediction_time_pyspark = 3.910039186477661\n",
        "accuracy_pyspark = 1.0\n",
        "\n",
        "training_time_sklearn = 0.011905431747436523\n",
        "prediction_time_sklearn = 0.002847909927368164\n",
        "accuracy_sklearn = 0.9997014034040012\n",
        "\n",
        "# Nombres de los enfoques\n",
        "frameworks = ['PySpark', 'scikit-learn']\n",
        "\n",
        "# Valores de tiempo de entrenamiento y predicción\n",
        "training_times = [training_time_pyspark, training_time_sklearn]\n",
        "prediction_times = [prediction_time_pyspark, prediction_time_sklearn]\n",
        "accuracies = [accuracy_pyspark, accuracy_sklearn]\n",
        "\n",
        "# Crear un gráfico combinado de barras para tiempos de entrenamiento, predicción y precisión\n",
        "fig, ax = plt.subplots(figsize=(12, 7))\n",
        "bar_width = 0.2\n",
        "index = np.arange(len(frameworks))\n",
        "\n",
        "bar1 = ax.bar(index - bar_width, training_times, bar_width, label='Tiempo de Entrenamiento', color='blue')\n",
        "bar2 = ax.bar(index, prediction_times, bar_width, label='Tiempo de Predicción', color='green')\n",
        "bar3 = ax.bar(index + bar_width, accuracies, bar_width, label='Precisión', color='red')\n",
        "\n",
        "ax.set_xlabel('Framework')\n",
        "ax.set_ylabel('Tiempo/Precisión')\n",
        "ax.set_title('Comparación de Tiempos y Precisión')\n",
        "ax.set_xticks(index)\n",
        "ax.set_xticklabels(frameworks)\n",
        "ax.legend()\n",
        "\n",
        "plt.show()"
      ],
      "metadata": {
        "colab": {
          "base_uri": "https://localhost:8080/",
          "height": 642
        },
        "id": "mwk7hYv_BQud",
        "outputId": "a37fadb6-2c8b-4c9f-cf25-27a0702fc7fc"
      },
      "execution_count": null,
      "outputs": [
        {
          "output_type": "display_data",
          "data": {
            "text/plain": [
              "<Figure size 1200x700 with 1 Axes>"
            ],
            "image/png": "[encoded data removed]"
          },
          "metadata": {}
        }
      ]
    },
    {
      "cell_type": "markdown",
      "source": [
        "**SUPPORT VECTOR MACHINE**"
      ],
      "metadata": {
        "id": "WZJ7sWAzrGbP"
      }
    },
    {
      "cell_type": "code",
      "source": [
        "import matplotlib.pyplot as plt\n",
        "\n",
        "# Valores de tiempo\n",
        "training_time_pyspark = 1.98\n",
        "prediction_time_pyspark = 0.2\n",
        "accuracy_pyspark = 1.0\n",
        "\n",
        "training_time_sklearn = 4.042967796325684\n",
        "prediction_time_sklearn = 0.03271651268005371\n",
        "accuracy_sklearn = 0.9997014034040012\n",
        "\n",
        "# Nombres de los enfoques\n",
        "frameworks = ['PySpark', 'scikit-learn']\n",
        "\n",
        "# Valores de tiempo de entrenamiento y predicción\n",
        "training_times = [training_time_pyspark, training_time_sklearn]\n",
        "prediction_times = [prediction_time_pyspark, prediction_time_sklearn]\n",
        "\n",
        "# Crear una gráfica de barras para los tiempos de entrenamiento\n",
        "plt.figure(figsize=(10, 5))\n",
        "plt.bar(frameworks, training_times, color=['blue', 'green'])\n",
        "plt.xlabel('Framework')\n",
        "plt.ylabel('Tiempo de Entrenamiento (s)')\n",
        "plt.title('Comparación de Tiempos de Entrenamiento')\n",
        "plt.show()\n",
        "\n",
        "# Crear una gráfica de barras para los tiempos de predicción\n",
        "plt.figure(figsize=(10, 5))\n",
        "plt.bar(frameworks, prediction_times,color=['blue', 'green'])\n",
        "plt.xlabel('Framework')\n",
        "plt.ylabel('Tiempo de Predicción (s)')\n",
        "plt.title('Comparación de Tiempos de Predicción')\n",
        "plt.show()"
      ],
      "metadata": {
        "id": "VgyL5dr6qhoY",
        "colab": {
          "base_uri": "https://localhost:8080/",
          "height": 959
        },
        "outputId": "4976da1c-6c88-4cdd-e7c7-9fbe51bac754"
      },
      "execution_count": null,
      "outputs": [
        {
          "output_type": "display_data",
          "data": {
            "text/plain": [
              "<Figure size 1000x500 with 1 Axes>"
            ],
            "image/png": "[encoded data removed]"
          },
          "metadata": {}
        },
        {
          "output_type": "display_data",
          "data": {
            "text/plain": [
              "<Figure size 1000x500 with 1 Axes>"
            ],
            "image/png": "[encoded data removed]"
          },
          "metadata": {}
        }
      ]
    },
    {
      "cell_type": "markdown",
      "source": [
        "**RANDOMFORESTCLASSIFIER**"
      ],
      "metadata": {
        "id": "cYVr7mHrroHr"
      }
    },
    {
      "cell_type": "code",
      "source": [
        "import matplotlib.pyplot as plt\n",
        "\n",
        "# Valores de tiempo\n",
        "training_time_pyspark = 5.261816501617432\n",
        "prediction_time_pyspark = 6.052491664886475\n",
        "accuracy_pyspark = 1.0\n",
        "\n",
        "training_time_sklearn = 0.3966405391693115\n",
        "prediction_time_sklearn = 0.03271651268005371\n",
        "accuracy_sklearn = 0.9997014034040012\n",
        "\n",
        "# Nombres de los enfoques\n",
        "frameworks = ['PySpark', 'scikit-learn']\n",
        "\n",
        "# Valores de tiempo de entrenamiento y predicción\n",
        "training_times = [training_time_pyspark, training_time_sklearn]\n",
        "prediction_times = [prediction_time_pyspark, prediction_time_sklearn]\n",
        "\n",
        "# Crear una gráfica de barras para los tiempos de entrenamiento\n",
        "plt.figure(figsize=(10, 5))\n",
        "plt.bar(frameworks, training_times, color=['blue', 'green'])\n",
        "plt.xlabel('Framework')\n",
        "plt.ylabel('Tiempo de Entrenamiento (s)')\n",
        "plt.title('Comparación de Tiempos de Entrenamiento')\n",
        "plt.show()\n",
        "\n",
        "# Crear una gráfica de barras para los tiempos de predicción\n",
        "plt.figure(figsize=(10, 5))\n",
        "plt.bar(frameworks, prediction_times,color=['blue', 'green'])\n",
        "plt.xlabel('Framework')\n",
        "plt.ylabel('Tiempo de Predicción (s)')\n",
        "plt.title('Comparación de Tiempos de Predicción')\n",
        "plt.show()"
      ],
      "metadata": {
        "id": "J55kZ58dqiCH",
        "colab": {
          "base_uri": "https://localhost:8080/",
          "height": 959
        },
        "outputId": "89797c1f-21ec-4085-cdc7-f5489e10e62c"
      },
      "execution_count": null,
      "outputs": [
        {
          "output_type": "display_data",
          "data": {
            "text/plain": [
              "<Figure size 1000x500 with 1 Axes>"
            ],
            "image/png": "[encoded data removed]"
          },
          "metadata": {}
        },
        {
          "output_type": "display_data",
          "data": {
            "text/plain": [
              "<Figure size 1000x500 with 1 Axes>"
            ],
            "image/png": "[encoded data removed]"
          },
          "metadata": {}
        }
      ]
    },
    {
      "cell_type": "markdown",
      "source": [
        "### **GaussianNB**"
      ],
      "metadata": {
        "id": "XqqGpVjRqh3o"
      }
    },
    {
      "cell_type": "code",
      "source": [
        "# Valores de tiempo\n",
        "training_time_pyspark = 5.261816501617432\n",
        "prediction_time_pyspark = 6.052491664886475\n",
        "accuracy_pyspark = 0.99\n",
        "\n",
        "training_time_sklearn = 0.37\n",
        "prediction_time_sklearn = 0.01\n",
        "accuracy_sklearn = 0.99\n",
        "\n",
        "# Nombres de los enfoques\n",
        "frameworks = ['PySpark', 'scikit-learn']\n",
        "\n",
        "# Valores de tiempo de entrenamiento y predicción\n",
        "training_times = [training_time_pyspark, training_time_sklearn]\n",
        "prediction_times = [prediction_time_pyspark, prediction_time_sklearn]\n",
        "\n",
        "# Crear una gráfica de barras para los tiempos de entrenamiento\n",
        "plt.figure(figsize=(10, 5))\n",
        "plt.bar(frameworks, training_times, color=['blue', 'green'])\n",
        "plt.xlabel('Framework')\n",
        "plt.ylabel('Tiempo de Entrenamiento (s)')\n",
        "plt.title('Comparación de Tiempos de Entrenamiento')\n",
        "plt.show()\n",
        "\n",
        "# Crear una gráfica de barras para los tiempos de predicción\n",
        "plt.figure(figsize=(10, 5))\n",
        "plt.bar(frameworks, prediction_times,color=['blue', 'green'])\n",
        "plt.xlabel('Framework')\n",
        "plt.ylabel('Tiempo de Predicción (s)')\n",
        "plt.title('Comparación de Tiempos de Predicción')\n",
        "plt.show()"
      ],
      "metadata": {
        "id": "IQCmm81Wqieq",
        "colab": {
          "base_uri": "https://localhost:8080/",
          "height": 959
        },
        "outputId": "59bb21ee-ed59-419b-9dbb-52b49dc8a9eb"
      },
      "execution_count": null,
      "outputs": [
        {
          "output_type": "display_data",
          "data": {
            "text/plain": [
              "<Figure size 1000x500 with 1 Axes>"
            ],
            "image/png": "[encoded data removed]"
          },
          "metadata": {}
        },
        {
          "output_type": "display_data",
          "data": {
            "text/plain": [
              "<Figure size 1000x500 with 1 Axes>"
            ],
            "image/png": "[encoded data removed]"
          },
          "metadata": {}
        }
      ]
    },
    {
      "cell_type": "markdown",
      "source": [
        "\n",
        "**LinearSVC**\n"
      ],
      "metadata": {
        "id": "UkfhkQsTqiPr"
      }
    },
    {
      "cell_type": "code",
      "source": [
        "import matplotlib.pyplot as plt\n",
        "\n",
        "# Valores de tiempo\n",
        "training_time_pyspark = 2.51\n",
        "prediction_time_pyspark = 0.10\n",
        "accuracy_pyspark = 1.0\n",
        "\n",
        "training_time_sklearn = 0.38\n",
        "prediction_time_sklearn = 0.59\n",
        "accuracy_sklearn = 0.606151\n",
        "\n",
        "# Nombres de los enfoques\n",
        "frameworks = ['PySpark', 'scikit-learn']\n",
        "\n",
        "# Valores de tiempo de entrenamiento y predicción\n",
        "training_times = [training_time_pyspark, training_time_sklearn]\n",
        "prediction_times = [prediction_time_pyspark, prediction_time_sklearn]\n",
        "\n",
        "# Crear una gráfica de barras para los tiempos de entrenamiento\n",
        "plt.figure(figsize=(10, 5))\n",
        "plt.bar(frameworks, training_times, color=['blue', 'green'])\n",
        "plt.xlabel('Framework')\n",
        "plt.ylabel('Tiempo de Entrenamiento (s)')\n",
        "plt.title('Comparación de Tiempos de Entrenamiento')\n",
        "plt.show()\n",
        "\n",
        "# Crear una gráfica de barras para los tiempos de predicción\n",
        "plt.figure(figsize=(10, 5))\n",
        "plt.bar(frameworks, prediction_times,color=['blue', 'green'])\n",
        "plt.xlabel('Framework')\n",
        "plt.ylabel('Tiempo de Predicción (s)')\n",
        "plt.title('Comparación de Tiempos de Predicción')\n",
        "plt.show()"
      ],
      "metadata": {
        "id": "pxFZcuDmqSce",
        "colab": {
          "base_uri": "https://localhost:8080/",
          "height": 959
        },
        "outputId": "2e6f73b4-f96d-4102-f842-e72543a54706"
      },
      "execution_count": null,
      "outputs": [
        {
          "output_type": "display_data",
          "data": {
            "text/plain": [
              "<Figure size 1000x500 with 1 Axes>"
            ],
            "image/png": "[encoded data removed]"
          },
          "metadata": {}
        },
        {
          "output_type": "display_data",
          "data": {
            "text/plain": [
              "<Figure size 1000x500 with 1 Axes>"
            ],
            "image/png": "[encoded data removed]"
          },
          "metadata": {}
        }
      ]
    },
    {
      "cell_type": "markdown",
      "source": [
        "### Conclusiones\n",
        "\n",
        "* De la creacion con el cluster al momento de inciar nos pedia crear una intencion con la variable spark donde aprendimos de como manejar de gran manera los volumenes y que python se limita de gran manera al momento de implementar las cosas donde tenemos en cuenta que actua al agarrar los datosa y modo de almacenamiento de cosas en la vida diaria donde se ve de manera mas de acuerda esto es cuando se empieza el trabajo de los datos en sklern puede dar errores y en spark casi no y el manejo de los datos es mas extenso dado a que spark es un modo de  implementacion con el agarre de datos, puede tardar un poco mas en el procesamiento pero ne resultados es mejor spark.\n",
        "\n",
        "\n",
        "* Durante el proceso de creación con el cluster, se destacó la importancia de trabajar con la variable Spark para un manejo eficiente de grandes volúmenes de datos. Se observó que Python tiene ciertas limitaciones en la implementación de tareas relacionadas con el procesamiento de datos, especialmente en comparación con Spark. Esto se hizo evidente al manipular y almacenar datos en situaciones cotidianas. En particular, al trabajar con datos en scikit-learn (sklearn), se identificaron posibles errores, mientras que en Spark se experimentaron menos problemas. En última instancia, el manejo de datos se volvió más amplio y versátil con Spark, a pesar de que el procesamiento pueda llevar un poco más de tiempo. En resumen, Spark se destaca por ofrecer resultados más robustos y eficientes.\n",
        "\n",
        "* El proceso de creación con el cluster subrayó la necesidad de utilizar la variable Spark como una herramienta esencial para gestionar eficazmente grandes volúmenes de datos. Se hizo evidente que Python tiene sus limitaciones en términos de implementación, especialmente al tratar con datos y su almacenamiento en escenarios de la vida real. Al realizar tareas relacionadas con el procesamiento de datos en scikit-learn (sklearn), se encontraron desafíos y posibles errores, lo que contrastó con la experiencia en Spark, donde la probabilidad de errores fue considerablemente menor. Además, el manejo de datos se volvió más versátil y completo gracias a Spark, aunque esto a veces implicara un aumento en el tiempo de procesamiento. En resumen, Spark se reveló como una opción preferible en términos de rendimiento y fiabilidad en comparación con Python"
      ],
      "metadata": {
        "id": "slO2BUeGUvVc"
      }
    }
  ],
  "metadata": {
    "kernelspec": {
      "display_name": "Python 3",
      "language": "python",
      "name": "python3"
    },
    "language_info": {
      "codemirror_mode": {
        "name": "ipython",
        "version": 3
      },
      "file_extension": ".py",
      "mimetype": "text/x-python",
      "name": "python",
      "nbconvert_exporter": "python",
      "pygments_lexer": "ipython3",
      "version": "3.11.5"
    },
    "colab": {
      "provenance": []
    }
  },
  "nbformat": 4,
  "nbformat_minor": 0
}